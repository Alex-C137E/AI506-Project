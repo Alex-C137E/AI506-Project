{
 "cells": [
  {
   "cell_type": "code",
   "execution_count": 1,
   "id": "1a81aa4b",
   "metadata": {},
   "outputs": [],
   "source": [
    "import pandas as pd\n",
    "import numpy as np\n",
    "from csv import reader\n",
    "from sklearn.linear_model import LogisticRegression"
   ]
  },
  {
   "cell_type": "code",
   "execution_count": 2,
   "id": "371df789",
   "metadata": {},
   "outputs": [
    {
     "data": {
      "text/plain": [
       "{'ingredients': [2866, 4243, 4362, 5377, 5408, 6187, 6352, 6568],\n",
       " 'kitchen_name': 'italian',\n",
       " 'recipe_id': 15}"
      ]
     },
     "execution_count": 2,
     "metadata": {},
     "output_type": "execute_result"
    }
   ],
   "source": [
    "cookbook_train = []\n",
    "\n",
    "with open('train.csv', 'r') as file:\n",
    "\n",
    "    csv_reader = reader(file, delimiter=\",\")\n",
    "\n",
    "    for i, row in enumerate(csv_reader):\n",
    "        \n",
    "        kitchen = row[-1]\n",
    "        ingredient_strings = row[1:-1]\n",
    "        ingredients = [ int(s) for s in ingredient_strings ]\n",
    "        \n",
    "        cookbook_train.append({\n",
    "            'ingredients': ingredients,\n",
    "            'kitchen_name': kitchen,\n",
    "            'recipe_id': i\n",
    "        })      \n",
    "        \n",
    "cookbook_train[15]"
   ]
  },
  {
   "cell_type": "code",
   "execution_count": 3,
   "id": "6235e784",
   "metadata": {},
   "outputs": [
    {
     "data": {
      "text/plain": [
       "{'ingredients': [909, 1046, 1308, 1679, 2809, 3152, 3653, 4162, 4799, 4917],\n",
       " 'recipe_id': 15,\n",
       " 'kitchen_name': 'UNKNOWNKITCHEN'}"
      ]
     },
     "execution_count": 3,
     "metadata": {},
     "output_type": "execute_result"
    }
   ],
   "source": [
    "cookbook_valid_question = []\n",
    "\n",
    "with open('validation_classification_question.csv', 'r') as file:\n",
    "\n",
    "    csv_reader = reader(file, delimiter=\",\")\n",
    "\n",
    "    for i, row in enumerate(csv_reader):\n",
    "        ingredients = [ int(s) for s in row ]\n",
    "        cookbook_valid_question.append({\n",
    "            'ingredients': ingredients,\n",
    "            'recipe_id': i,\n",
    "            'kitchen_name': \"UNKNOWNKITCHEN\"\n",
    "        })     \n",
    "\n",
    "cookbook_valid_question[15]"
   ]
  },
  {
   "cell_type": "code",
   "execution_count": 4,
   "id": "51dc33e5",
   "metadata": {},
   "outputs": [
    {
     "data": {
      "text/plain": [
       "{'ingredients': [], 'kitchen_name': 'southern_us', 'recipe_id': 15}"
      ]
     },
     "execution_count": 4,
     "metadata": {},
     "output_type": "execute_result"
    }
   ],
   "source": [
    "cookbook_valid_answer = []\n",
    "        \n",
    "with open('validation_classification_answer.csv', 'r') as file:\n",
    "\n",
    "    csv_reader = reader(file, delimiter=\",\")\n",
    "\n",
    "    for i, row in enumerate(csv_reader):        \n",
    "        kitchen = row[0]        \n",
    "        cookbook_valid_answer.append({\n",
    "            'ingredients': [],\n",
    "            'kitchen_name': kitchen,\n",
    "            'recipe_id': i\n",
    "        })\n",
    "        \n",
    "cookbook_valid_answer[15]"
   ]
  },
  {
   "cell_type": "code",
   "execution_count": 5,
   "id": "ff32f1fb",
   "metadata": {},
   "outputs": [],
   "source": [
    "# Make ingredient list\n",
    "\n",
    "node_ingredient = pd.read_fwf('node_ingredient.csv', header=None)\n",
    "ingredient_list = {}\n",
    "for index , row in node_ingredient.iterrows():\n",
    "    ingredient_list[index] = row[0]"
   ]
  },
  {
   "cell_type": "code",
   "execution_count": 6,
   "id": "dca8fc01",
   "metadata": {},
   "outputs": [
    {
     "name": "stderr",
     "output_type": "stream",
     "text": [
      "IOPub data rate exceeded.\n",
      "The notebook server will temporarily stop sending output\n",
      "to the client in order to avoid crashing it.\n",
      "To change this limit, set the config variable\n",
      "`--NotebookApp.iopub_data_rate_limit`.\n",
      "\n",
      "Current values:\n",
      "NotebookApp.iopub_data_rate_limit=1000000.0 (bytes/sec)\n",
      "NotebookApp.rate_limit_window=3.0 (secs)\n",
      "\n"
     ]
    }
   ],
   "source": [
    "# Make kitchen list\n",
    "\n",
    "kitchens = []\n",
    "cookbook_full = cookbook_train + cookbook_valid_question + cookbook_valid_answer\n",
    "for recipe in cookbook_full:\n",
    "    print(recipe)\n",
    "    if recipe['kitchen_name'] not in kitchens:\n",
    "        kitchens.append(recipe['kitchen_name'])\n",
    "\n",
    "kitchen_list = { index:kitchen_name for index, kitchen_name in enumerate(kitchens)  }"
   ]
  },
  {
   "cell_type": "code",
   "execution_count": 7,
   "id": "25d65de6",
   "metadata": {},
   "outputs": [
    {
     "data": {
      "text/plain": [
       "{'ingredients': [2866, 4243, 4362, 5377, 5408, 6187, 6352, 6568],\n",
       " 'kitchen_name': 'italian',\n",
       " 'recipe_id': 15,\n",
       " 'kitchen_id': 5}"
      ]
     },
     "execution_count": 7,
     "metadata": {},
     "output_type": "execute_result"
    }
   ],
   "source": [
    "def add_kitchen_id_to_cookbook(kitchen_list, cookbook):   \n",
    "\n",
    "    for recipe in cookbook:\n",
    "        kitchen_id = kitchens.index(recipe['kitchen_name'])\n",
    "        recipe['kitchen_id'] = kitchen_id\n",
    "\n",
    "        \n",
    "add_kitchen_id_to_cookbook(kitchen_list, cookbook_train)\n",
    "add_kitchen_id_to_cookbook(kitchen_list, cookbook_valid_question)\n",
    "add_kitchen_id_to_cookbook(kitchen_list, cookbook_valid_answer)\n",
    "cookbook_train[15]"
   ]
  },
  {
   "cell_type": "code",
   "execution_count": 8,
   "id": "d1dd5e1c",
   "metadata": {},
   "outputs": [],
   "source": [
    "def make_data_from_cookbook(cookbook, ingredient_list):\n",
    "    # Make the data. X is a binary matrix with recipe rows and ingredients columns, \n",
    "    # where (recipe, ingredients) is 1 if the ingredient is present in the recipe\n",
    "\n",
    "    n_recipies = len(cookbook)\n",
    "    n_ingredients = len(ingredient_list)\n",
    "\n",
    "    X = np.zeros((n_recipies, n_ingredients))\n",
    "    y = np.zeros(n_recipies)\n",
    "    for idx, recipe in enumerate(cookbook):\n",
    "        y[idx] = recipe['kitchen_id']\n",
    "        for ingredient_id in recipe['ingredients']:\n",
    "            X[idx][ingredient_id] = 1\n",
    "            \n",
    "    return X,y\n",
    "    "
   ]
  },
  {
   "cell_type": "code",
   "execution_count": 9,
   "id": "aa7b2c6e",
   "metadata": {},
   "outputs": [],
   "source": [
    "# Logistic regression (takes roughly 60 sec on my machine)\n",
    "X_train, y_train = make_data_from_cookbook(cookbook_train, ingredient_list)\n",
    "X_valid, _       = make_data_from_cookbook(cookbook_valid_question, ingredient_list)\n",
    "_      , y_valid = make_data_from_cookbook(cookbook_valid_answer, ingredient_list)\n",
    "clf = LogisticRegression(max_iter=1000).fit(X_train, y_train)"
   ]
  },
  {
   "cell_type": "code",
   "execution_count": 10,
   "id": "21108785",
   "metadata": {},
   "outputs": [
    {
     "data": {
      "text/plain": [
       "0.8786257272688666"
      ]
     },
     "execution_count": 10,
     "metadata": {},
     "output_type": "execute_result"
    }
   ],
   "source": [
    "# Training score\n",
    "clf.score(X_train, y_train)"
   ]
  },
  {
   "cell_type": "code",
   "execution_count": 11,
   "id": "027862e3",
   "metadata": {},
   "outputs": [
    {
     "data": {
      "text/plain": [
       "0.761085626911315"
      ]
     },
     "execution_count": 11,
     "metadata": {},
     "output_type": "execute_result"
    }
   ],
   "source": [
    "# Validation score\n",
    "clf.score(X_valid, y_valid)"
   ]
  },
  {
   "cell_type": "code",
   "execution_count": null,
   "id": "035e4904",
   "metadata": {},
   "outputs": [],
   "source": []
  }
 ],
 "metadata": {
  "kernelspec": {
   "display_name": "Python 3 (ipykernel)",
   "language": "python",
   "name": "python3"
  },
  "language_info": {
   "codemirror_mode": {
    "name": "ipython",
    "version": 3
   },
   "file_extension": ".py",
   "mimetype": "text/x-python",
   "name": "python",
   "nbconvert_exporter": "python",
   "pygments_lexer": "ipython3",
   "version": "3.8.13"
  }
 },
 "nbformat": 4,
 "nbformat_minor": 5
}
