{
 "cells": [
  {
   "cell_type": "code",
   "execution_count": 2,
   "id": "1a81aa4b",
   "metadata": {},
   "outputs": [],
   "source": [
    "from sklearn.linear_model import LogisticRegression\n",
    "\n",
    "from cuisine.cookbook import get_ingredient_list, get_cookbook_train, get_cookbook_valid_question, get_cookbook_valid_answer\n",
    "from cuisine.chef import make_binary_data\n",
    "from cuisine.utils import move_to_top_directory"
   ]
  },
  {
   "cell_type": "code",
   "execution_count": 3,
   "id": "068a20da",
   "metadata": {},
   "outputs": [
    {
     "data": {
      "text/plain": [
       "'/home/felix/cuisine'"
      ]
     },
     "execution_count": 3,
     "metadata": {},
     "output_type": "execute_result"
    }
   ],
   "source": [
    "move_to_top_directory()\n",
    "%pwd"
   ]
  },
  {
   "cell_type": "code",
   "execution_count": 4,
   "id": "f4c8f92c",
   "metadata": {},
   "outputs": [
    {
     "name": "stdout",
     "output_type": "stream",
     "text": [
      "{'recipe_id': 15, 'ingredients': [2866, 4243, 4362, 5377, 5408, 6187, 6352, 6568], 'kitchen_name': 'italian', 'kitchen_id': 5}\n",
      "{'recipe_id': 15, 'ingredients': [909, 1046, 1308, 1679, 2809, 3152, 3653, 4162, 4799, 4917], 'kitchen_name': 'UNKNOWNKITCHEN', 'kitchen_id': '-999'}\n",
      "{'recipe_id': 15, 'ingredients': [], 'kitchen_name': 'southern_us', 'kitchen_id': 9}\n"
     ]
    }
   ],
   "source": [
    "cookbook_train = get_cookbook_train()     \n",
    "cookbook_valid_question = get_cookbook_valid_question()   \n",
    "cookbook_valid_answer = get_cookbook_valid_answer()\n",
    "\n",
    "print(cookbook_train[15])\n",
    "print(cookbook_valid_question[15])\n",
    "print(cookbook_valid_answer[15])"
   ]
  },
  {
   "cell_type": "code",
   "execution_count": 5,
   "id": "8725eba4",
   "metadata": {},
   "outputs": [
    {
     "data": {
      "text/plain": [
       "'coca-cola'"
      ]
     },
     "execution_count": 5,
     "metadata": {},
     "output_type": "execute_result"
    }
   ],
   "source": [
    "ingredient_list = get_ingredient_list()\n",
    "\n",
    "ingredient_list[0]"
   ]
  },
  {
   "cell_type": "code",
   "execution_count": 6,
   "id": "e7cb1b6d",
   "metadata": {},
   "outputs": [],
   "source": [
    "X_train, y_train = make_binary_data(cookbook_train, ingredient_list)\n",
    "X_valid, _       = make_binary_data(cookbook_valid_question, ingredient_list)\n",
    "_      , y_valid = make_binary_data(cookbook_valid_answer, ingredient_list)"
   ]
  },
  {
   "cell_type": "code",
   "execution_count": 7,
   "id": "5c879440",
   "metadata": {},
   "outputs": [],
   "source": [
    "# Logistic regression (takes roughly 60 sec on my machine)\n",
    "clf = LogisticRegression(penalty='l2', max_iter=1000).fit(X_train, y_train)"
   ]
  },
  {
   "cell_type": "code",
   "execution_count": 8,
   "id": "a2bd8c8e",
   "metadata": {},
   "outputs": [
    {
     "data": {
      "text/plain": [
       "0.8786257272688666"
      ]
     },
     "execution_count": 8,
     "metadata": {},
     "output_type": "execute_result"
    }
   ],
   "source": [
    "# Training score\n",
    "clf.score(X_train, y_train)"
   ]
  },
  {
   "cell_type": "code",
   "execution_count": 9,
   "id": "0e1a5d97",
   "metadata": {},
   "outputs": [
    {
     "data": {
      "text/plain": [
       "0.761085626911315"
      ]
     },
     "execution_count": 9,
     "metadata": {},
     "output_type": "execute_result"
    }
   ],
   "source": [
    "# Validation score\n",
    "clf.score(X_valid, y_valid)"
   ]
  },
  {
   "cell_type": "code",
   "execution_count": null,
   "id": "8058b6b8",
   "metadata": {},
   "outputs": [],
   "source": []
  }
 ],
 "metadata": {
  "interpreter": {
   "hash": "8cf4680b4391a53e7010fa054fd4ba20b93408b742ac55ff056403c174e40d25"
  },
  "kernelspec": {
   "display_name": "Python 3.9.12 ('cuisine')",
   "language": "python",
   "name": "python3"
  },
  "language_info": {
   "codemirror_mode": {
    "name": "ipython",
    "version": 3
   },
   "file_extension": ".py",
   "mimetype": "text/x-python",
   "name": "python",
   "nbconvert_exporter": "python",
   "pygments_lexer": "ipython3",
   "version": "3.9.12"
  }
 },
 "nbformat": 4,
 "nbformat_minor": 5
}
