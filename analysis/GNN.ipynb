{
 "cells": [
  {
   "cell_type": "code",
   "execution_count": 1,
   "metadata": {},
   "outputs": [],
   "source": [
    "import torch\n",
    "\n",
    "from cuisine.cookbook import get_ingredient_list, get_cookbook_train, get_cookbook_valid_question, get_cookbook_valid_answer\n",
    "from cuisine.embedding import import_embedding, create_random_embedding, create_one_hot_embedding\n",
    "from cuisine.chef import make_recipe_embedding_data, make_ingredient_embedding_data\n",
    "from cuisine.utils import move_to_top_directory"
   ]
  },
  {
   "cell_type": "code",
   "execution_count": 2,
   "metadata": {},
   "outputs": [
    {
     "data": {
      "text/plain": [
       "'/home/felix/AI506-Project'"
      ]
     },
     "execution_count": 2,
     "metadata": {},
     "output_type": "execute_result"
    }
   ],
   "source": [
    "move_to_top_directory()\n",
    "%pwd"
   ]
  },
  {
   "cell_type": "code",
   "execution_count": 3,
   "metadata": {},
   "outputs": [
    {
     "data": {
      "text/plain": [
       "{'recipe_id': 15,\n",
       " 'ingredients': [2866, 4243, 4362, 5377, 5408, 6187, 6352, 6568],\n",
       " 'kitchen_name': 'italian',\n",
       " 'kitchen_id': 5}"
      ]
     },
     "execution_count": 3,
     "metadata": {},
     "output_type": "execute_result"
    }
   ],
   "source": [
    "cookbook_train = get_cookbook_train()\n",
    "cookbook_valid_question = get_cookbook_valid_question()\n",
    "cookbook_valid_answer = get_cookbook_valid_answer()\n",
    "ingredient_list = get_ingredient_list()\n",
    "\n",
    "cookbook_train[15]"
   ]
  },
  {
   "cell_type": "code",
   "execution_count": 4,
   "metadata": {},
   "outputs": [
    {
     "data": {
      "text/plain": [
       "array([34.63750259, 20.35864365, -1.20763975, -0.97736046,  0.23479278,\n",
       "        5.40115298,  8.51684704, -0.53078058, -0.53245975, -0.8002612 ,\n",
       "       -3.08002422,  0.61509874,  1.03727886, -1.68163813,  4.22448238,\n",
       "        4.41397363, -2.43951389,  1.38136843, -0.5487753 , -0.09986042,\n",
       "       -1.99060814, -0.10028059,  0.17231477, -0.5892525 , -0.08022406,\n",
       "       -2.57672924,  4.58388978, -2.31123317, -0.80378753,  1.565003  ,\n",
       "        0.76383124, -3.8348879 ])"
      ]
     },
     "execution_count": 4,
     "metadata": {},
     "output_type": "execute_result"
    }
   ],
   "source": [
    "embedding_random_walk_2 = import_embedding(\"Embp1q2\", ingredient_list)\n",
    "embedding_random_walk_10 = import_embedding(\"Embp1q10\", ingredient_list)\n",
    "embedding_uniform_rand = create_random_embedding(ingredient_list, 128)\n",
    "embedding_svd_32 = import_embedding(\"SVD32\", ingredient_list)\n",
    "embedding_svd_64 = import_embedding(\"SVD64\", ingredient_list)\n",
    "embedding_svd_128 = import_embedding(\"SVD128\", ingredient_list)\n",
    "embedding_svd_128 = import_embedding(\"SVD128\", ingredient_list)\n",
    "embedding_one_hot = create_one_hot_embedding(ingredient_list)\n",
    "\n",
    "embedding_svd_32[2813]"
   ]
  },
  {
   "cell_type": "code",
   "execution_count": 5,
   "metadata": {},
   "outputs": [
    {
     "data": {
      "text/plain": [
       "(23547, 6714)"
      ]
     },
     "execution_count": 5,
     "metadata": {},
     "output_type": "execute_result"
    }
   ],
   "source": [
    "embedding = embedding_one_hot\n",
    "\n",
    "X_train, y_train = make_recipe_embedding_data(cookbook_train, embedding)\n",
    "X_valid, _       = make_recipe_embedding_data(cookbook_valid_question, embedding)\n",
    "_      , y_valid = make_recipe_embedding_data(cookbook_valid_answer, embedding)\n",
    "\n",
    "X_train.shape"
   ]
  },
  {
   "cell_type": "code",
   "execution_count": 6,
   "metadata": {},
   "outputs": [
    {
     "data": {
      "text/plain": [
       "(6714, 6714)"
      ]
     },
     "execution_count": 6,
     "metadata": {},
     "output_type": "execute_result"
    }
   ],
   "source": [
    "embedding_matrix = make_ingredient_embedding_data(embedding)\n",
    "\n",
    "embedding_matrix.shape"
   ]
  },
  {
   "cell_type": "code",
   "execution_count": 7,
   "metadata": {},
   "outputs": [],
   "source": [
    "import numpy as np\n",
    "X = np.concatenate((X_train, X_valid), axis=0)\n",
    "y = np.concatenate((y_train, y_valid), axis=0)\n",
    "\n",
    "train_mask = np.asarray( range(X_train.shape[0]) )\n",
    "valid_mask = np.asarray( [i + X_train.shape[0] for i in range(X_valid.shape[0]) ] )"
   ]
  },
  {
   "cell_type": "code",
   "execution_count": 8,
   "metadata": {},
   "outputs": [],
   "source": [
    "import itertools\n",
    "\n",
    "def make_adjacency_matrix(cookbook, ingredient_list):\n",
    "\n",
    "    num_ingredients = len(ingredient_list)\n",
    "    adjacency_matrix = np.zeros(shape=(num_ingredients, num_ingredients), dtype=np.int32)\n",
    "\n",
    "    for recipe in cookbook:\n",
    "        for ingredient1, ingredient2 in itertools.permutations(recipe['ingredients'], r=2):\n",
    "            adjacency_matrix[ingredient1, ingredient2] += 1\n",
    "\n",
    "    return adjacency_matrix\n",
    "\n",
    "adjacency_matrix = make_adjacency_matrix(cookbook_train + cookbook_valid_question, ingredient_list)\n",
    "    "
   ]
  },
  {
   "cell_type": "code",
   "execution_count": 9,
   "metadata": {},
   "outputs": [],
   "source": [
    "import networkx as nx\n",
    "\n",
    "G = nx.from_numpy_matrix(adjacency_matrix)\n",
    "edge_list = np.asarray(G.edges).T\n",
    "weights = np.asarray(list(nx.get_edge_attributes(G, \"weight\").values()))\n"
   ]
  },
  {
   "cell_type": "code",
   "execution_count": 10,
   "metadata": {},
   "outputs": [],
   "source": [
    "def make_recipe_edge_list(cookbook):\n",
    "\n",
    "    edge_list = []\n",
    "\n",
    "    for recipe_idx, recipe in enumerate(cookbook):\n",
    "        for ingredient in recipe['ingredients']:\n",
    "            edge_list.append((ingredient, recipe_idx))\n",
    "\n",
    "    return np.asarray(edge_list).T\n",
    "\n",
    "recipe_edge_list = make_recipe_edge_list(cookbook_train + cookbook_valid_question)"
   ]
  },
  {
   "cell_type": "code",
   "execution_count": 11,
   "metadata": {},
   "outputs": [
    {
     "data": {
      "text/plain": [
       "HeteroData(\n",
       "  \u001b[1mingredient\u001b[0m={ x=[6714, 6714] },\n",
       "  \u001b[1mrecipe\u001b[0m={\n",
       "    x=[31395, 16],\n",
       "    y=[31395],\n",
       "    train_mask=[23547],\n",
       "    valid_mask=[7848]\n",
       "  },\n",
       "  \u001b[1m(ingredient, shares_recipe_with, ingredient)\u001b[0m={\n",
       "    edge_index=[2, 388320],\n",
       "    edge_weight=[388320]\n",
       "  },\n",
       "  \u001b[1m(ingredient, in, recipe)\u001b[0m={ edge_index=[2, 314697] }\n",
       ")"
      ]
     },
     "execution_count": 11,
     "metadata": {},
     "output_type": "execute_result"
    }
   ],
   "source": [
    "from torch_geometric.data import HeteroData\n",
    "\n",
    "graph = HeteroData()\n",
    "\n",
    "graph['ingredient'].x = torch.tensor(embedding_matrix, dtype=torch.float)\n",
    "graph['recipe'].x = torch.zeros(size=(len(y), 16))\n",
    "graph['recipe'].y = torch.tensor(y, dtype=torch.long )\n",
    "\n",
    "graph['recipe'].train_mask = train_mask\n",
    "graph['recipe'].valid_mask = valid_mask\n",
    "\n",
    "graph['ingredient', 'shares_recipe_with', 'ingredient'].edge_index = torch.tensor(edge_list, dtype=torch.long)\n",
    "graph['ingredient', 'in', 'recipe'].edge_index = torch.tensor(recipe_edge_list, dtype=torch.long)\n",
    "\n",
    "graph['ingredient', 'shares_recipe_with', 'ingredient'].edge_weight = torch.tensor(weights, dtype=torch.float)\n",
    "\n",
    "graph\n"
   ]
  },
  {
   "cell_type": "code",
   "execution_count": 12,
   "metadata": {},
   "outputs": [],
   "source": [
    "from torch_geometric.data import InMemoryDataset\n",
    "\n",
    "class CuisineDataset(InMemoryDataset):\n",
    "    def __init__(self, root, transform=None, pre_transform=None):\n",
    "        super(CuisineDataset, self).__init__(root, transform, pre_transform)\n",
    "        self.data, self.slices = torch.load(self.processed_paths[0])\n",
    "        \n",
    "    @property\n",
    "    def raw_file_names(self):\n",
    "        return []\n",
    "\n",
    "    @property\n",
    "    def processed_file_names(self):\n",
    "        return ['data']\n",
    "\n",
    "    def download(self):\n",
    "        pass\n",
    "\n",
    "    def process(self):\n",
    "\n",
    "        data, slices = self.collate([graph])\n",
    "        torch.save((data, slices), self.processed_paths[0])"
   ]
  },
  {
   "cell_type": "code",
   "execution_count": 13,
   "metadata": {},
   "outputs": [
    {
     "name": "stderr",
     "output_type": "stream",
     "text": [
      "Processing...\n",
      "Done!\n"
     ]
    }
   ],
   "source": [
    "%rm -rf data/processed\n",
    "dataset = CuisineDataset(root=\"data/\")\n",
    "data = dataset[0]"
   ]
  },
  {
   "cell_type": "code",
   "execution_count": 14,
   "metadata": {},
   "outputs": [],
   "source": [
    "import torch\n",
    "import torch.nn.functional as F\n",
    "from torch_geometric.nn import HeteroConv, GCNConv, SAGEConv, GraphConv, Linear\n",
    "\n",
    "\n",
    "class HeteroGNN(torch.nn.Module):\n",
    "    def __init__(self):\n",
    "        super().__init__()\n",
    "\n",
    "        embedding_dim = data['ingredient'].num_node_features\n",
    "\n",
    "        self.conv1 = HeteroConv({\n",
    "            ('ingredient', 'shares_recipe_with', 'ingredient'): SAGEConv(-1, 64, aggr=\"add\")\n",
    "        })\n",
    "\n",
    "        self.conv2 = HeteroConv({\n",
    "            ('ingredient', 'in', 'recipe'): SAGEConv((-1, -1), 64, aggr=\"add\")\n",
    "        })\n",
    "\n",
    "        self.linear0 = Linear(-1, 64)\n",
    "        self.linear1 = Linear(-1, 64)\n",
    "        self.linear2 = Linear(-1, 64)\n",
    "\n",
    "            \n",
    "\n",
    "    def forward(self, data):\n",
    "\n",
    "        x_dict = data.x_dict \n",
    "        edge_index_dict = data.edge_index_dict\n",
    "        edge_weight_dict = data.edge_weight_dict\n",
    "        \n",
    "        # x_dict['ingredient'] = self.linear0(x_dict['ingredient'])\n",
    "        # x_dict['ingredient'] = self.conv1(x_dict, edge_index_dict)['ingredient']\n",
    "        # x_dict['ingredient'] = F.relu(x_dict['ingredient'])\n",
    "        x_dict['recipe'] = self.conv2(x_dict, edge_index_dict)['recipe']\n",
    "\n",
    "        # x_dict['recipe'] = self.avg_neighbours_of_recipe(x_dict, edge_index_dict)\n",
    "        # x_dict['recipe'] = self.linear1(x_dict['recipe'].relu())  \n",
    "        \n",
    "        x_dict['recipe'] = F.relu(x_dict['recipe'])  \n",
    "        x_dict['recipe'] = self.linear2(x_dict['recipe'])  \n",
    "\n",
    "        # x = F.relu(x_dict['recipe'])  \n",
    "        # x = self.linear2(x)\n",
    "        # x_dict['recipe'] = x_dict['recipe'] + x\n",
    "\n",
    "        return F.softmax(x_dict['recipe'], dim=1)\n",
    "\n",
    "\n",
    "    def avg_neighbours_of_recipe(self, x_dict, edge_index_dict):\n",
    "        # Legacy code to check if a linear layer plus averaging the outputs of the GCNConv \n",
    "        # is the same as using GraphConv\n",
    "\n",
    "        edges = edge_index_dict['ingredient', 'in', 'recipe']\n",
    "        num_recipes = x_dict['recipe'].shape[0]\n",
    "        m = torch.zeros((num_recipes, len(ingredient_list)), device=device)\n",
    "\n",
    "        m[ edges[1, :], edges[0, :]  ] = 1\n",
    "        #m = F.normalize(m, p=1, dim=1)\n",
    "        return torch.mm(m, x_dict['ingredient'])   \n"
   ]
  },
  {
   "cell_type": "code",
   "execution_count": 21,
   "metadata": {},
   "outputs": [
    {
     "name": "stderr",
     "output_type": "stream",
     "text": [
      "/home/felix/anaconda3/envs/cuisine/lib/python3.9/site-packages/torch_geometric/nn/conv/hetero_conv.py:53: UserWarning: There exist node types ({'ingredient'}) whose representations do not get updated during message passing as they do not occur as destination type in any edge type. This may lead to unexpected behaviour.\n",
      "  warnings.warn(\n"
     ]
    },
    {
     "ename": "RuntimeError",
     "evalue": "CUDA out of memory. Tried to allocate 7.87 GiB (GPU 5; 9.78 GiB total capacity; 8.05 GiB already allocated; 266.56 MiB free; 8.06 GiB reserved in total by PyTorch) If reserved memory is >> allocated memory try setting max_split_size_mb to avoid fragmentation.  See documentation for Memory Management and PYTORCH_CUDA_ALLOC_CONF",
     "output_type": "error",
     "traceback": [
      "\u001b[0;31m---------------------------------------------------------------------------\u001b[0m",
      "\u001b[0;31mRuntimeError\u001b[0m                              Traceback (most recent call last)",
      "\u001b[1;32m/home/felix/AI506-Project/analysis/GNN.ipynb Cell 15'\u001b[0m in \u001b[0;36m<cell line: 15>\u001b[0;34m()\u001b[0m\n\u001b[1;32m     <a href='vscode-notebook-cell://ssh-remote%2B143.248.157.143/home/felix/AI506-Project/analysis/GNN.ipynb#ch0000014vscode-remote?line=13'>14</a>\u001b[0m model\u001b[39m.\u001b[39mtrain()\n\u001b[1;32m     <a href='vscode-notebook-cell://ssh-remote%2B143.248.157.143/home/felix/AI506-Project/analysis/GNN.ipynb#ch0000014vscode-remote?line=14'>15</a>\u001b[0m \u001b[39mfor\u001b[39;00m epoch \u001b[39min\u001b[39;00m \u001b[39mrange\u001b[39m(\u001b[39m300\u001b[39m):\n\u001b[0;32m---> <a href='vscode-notebook-cell://ssh-remote%2B143.248.157.143/home/felix/AI506-Project/analysis/GNN.ipynb#ch0000014vscode-remote?line=15'>16</a>\u001b[0m     out \u001b[39m=\u001b[39m model(data)\n\u001b[1;32m     <a href='vscode-notebook-cell://ssh-remote%2B143.248.157.143/home/felix/AI506-Project/analysis/GNN.ipynb#ch0000014vscode-remote?line=16'>17</a>\u001b[0m     loss \u001b[39m=\u001b[39m F\u001b[39m.\u001b[39mcross_entropy(out[train_mask], data[\u001b[39m'\u001b[39m\u001b[39mrecipe\u001b[39m\u001b[39m'\u001b[39m]\u001b[39m.\u001b[39my[train_mask])\n\u001b[1;32m     <a href='vscode-notebook-cell://ssh-remote%2B143.248.157.143/home/felix/AI506-Project/analysis/GNN.ipynb#ch0000014vscode-remote?line=18'>19</a>\u001b[0m     writer\u001b[39m.\u001b[39madd_scalar(\u001b[39m\"\u001b[39m\u001b[39mLoss/train\u001b[39m\u001b[39m\"\u001b[39m, loss, epoch)\n",
      "File \u001b[0;32m~/anaconda3/envs/cuisine/lib/python3.9/site-packages/torch/nn/modules/module.py:1110\u001b[0m, in \u001b[0;36mModule._call_impl\u001b[0;34m(self, *input, **kwargs)\u001b[0m\n\u001b[1;32m   <a href='file:///home/felix/anaconda3/envs/cuisine/lib/python3.9/site-packages/torch/nn/modules/module.py?line=1105'>1106</a>\u001b[0m \u001b[39m# If we don't have any hooks, we want to skip the rest of the logic in\u001b[39;00m\n\u001b[1;32m   <a href='file:///home/felix/anaconda3/envs/cuisine/lib/python3.9/site-packages/torch/nn/modules/module.py?line=1106'>1107</a>\u001b[0m \u001b[39m# this function, and just call forward.\u001b[39;00m\n\u001b[1;32m   <a href='file:///home/felix/anaconda3/envs/cuisine/lib/python3.9/site-packages/torch/nn/modules/module.py?line=1107'>1108</a>\u001b[0m \u001b[39mif\u001b[39;00m \u001b[39mnot\u001b[39;00m (\u001b[39mself\u001b[39m\u001b[39m.\u001b[39m_backward_hooks \u001b[39mor\u001b[39;00m \u001b[39mself\u001b[39m\u001b[39m.\u001b[39m_forward_hooks \u001b[39mor\u001b[39;00m \u001b[39mself\u001b[39m\u001b[39m.\u001b[39m_forward_pre_hooks \u001b[39mor\u001b[39;00m _global_backward_hooks\n\u001b[1;32m   <a href='file:///home/felix/anaconda3/envs/cuisine/lib/python3.9/site-packages/torch/nn/modules/module.py?line=1108'>1109</a>\u001b[0m         \u001b[39mor\u001b[39;00m _global_forward_hooks \u001b[39mor\u001b[39;00m _global_forward_pre_hooks):\n\u001b[0;32m-> <a href='file:///home/felix/anaconda3/envs/cuisine/lib/python3.9/site-packages/torch/nn/modules/module.py?line=1109'>1110</a>\u001b[0m     \u001b[39mreturn\u001b[39;00m forward_call(\u001b[39m*\u001b[39;49m\u001b[39minput\u001b[39;49m, \u001b[39m*\u001b[39;49m\u001b[39m*\u001b[39;49mkwargs)\n\u001b[1;32m   <a href='file:///home/felix/anaconda3/envs/cuisine/lib/python3.9/site-packages/torch/nn/modules/module.py?line=1110'>1111</a>\u001b[0m \u001b[39m# Do not call functions when jit is used\u001b[39;00m\n\u001b[1;32m   <a href='file:///home/felix/anaconda3/envs/cuisine/lib/python3.9/site-packages/torch/nn/modules/module.py?line=1111'>1112</a>\u001b[0m full_backward_hooks, non_full_backward_hooks \u001b[39m=\u001b[39m [], []\n",
      "\u001b[1;32m/home/felix/AI506-Project/analysis/GNN.ipynb Cell 14'\u001b[0m in \u001b[0;36mHeteroGNN.forward\u001b[0;34m(self, data)\u001b[0m\n\u001b[1;32m     <a href='vscode-notebook-cell://ssh-remote%2B143.248.157.143/home/felix/AI506-Project/analysis/GNN.ipynb#ch0000013vscode-remote?line=29'>30</a>\u001b[0m edge_weight_dict \u001b[39m=\u001b[39m data\u001b[39m.\u001b[39medge_weight_dict\n\u001b[1;32m     <a href='vscode-notebook-cell://ssh-remote%2B143.248.157.143/home/felix/AI506-Project/analysis/GNN.ipynb#ch0000013vscode-remote?line=31'>32</a>\u001b[0m \u001b[39m# x_dict['ingredient'] = self.linear0(x_dict['ingredient'])\u001b[39;00m\n\u001b[1;32m     <a href='vscode-notebook-cell://ssh-remote%2B143.248.157.143/home/felix/AI506-Project/analysis/GNN.ipynb#ch0000013vscode-remote?line=32'>33</a>\u001b[0m \u001b[39m# x_dict['ingredient'] = self.conv1(x_dict, edge_index_dict)['ingredient']\u001b[39;00m\n\u001b[1;32m     <a href='vscode-notebook-cell://ssh-remote%2B143.248.157.143/home/felix/AI506-Project/analysis/GNN.ipynb#ch0000013vscode-remote?line=33'>34</a>\u001b[0m \u001b[39m# x_dict['ingredient'] = F.relu(x_dict['ingredient'])\u001b[39;00m\n\u001b[0;32m---> <a href='vscode-notebook-cell://ssh-remote%2B143.248.157.143/home/felix/AI506-Project/analysis/GNN.ipynb#ch0000013vscode-remote?line=34'>35</a>\u001b[0m x_dict[\u001b[39m'\u001b[39m\u001b[39mrecipe\u001b[39m\u001b[39m'\u001b[39m] \u001b[39m=\u001b[39m \u001b[39mself\u001b[39;49m\u001b[39m.\u001b[39;49mconv2(x_dict, edge_index_dict)[\u001b[39m'\u001b[39m\u001b[39mrecipe\u001b[39m\u001b[39m'\u001b[39m]\n\u001b[1;32m     <a href='vscode-notebook-cell://ssh-remote%2B143.248.157.143/home/felix/AI506-Project/analysis/GNN.ipynb#ch0000013vscode-remote?line=36'>37</a>\u001b[0m \u001b[39m# x_dict['recipe'] = self.avg_neighbours_of_recipe(x_dict, edge_index_dict)\u001b[39;00m\n\u001b[1;32m     <a href='vscode-notebook-cell://ssh-remote%2B143.248.157.143/home/felix/AI506-Project/analysis/GNN.ipynb#ch0000013vscode-remote?line=37'>38</a>\u001b[0m \u001b[39m# x_dict['recipe'] = self.linear1(x_dict['recipe'].relu())  \u001b[39;00m\n\u001b[1;32m     <a href='vscode-notebook-cell://ssh-remote%2B143.248.157.143/home/felix/AI506-Project/analysis/GNN.ipynb#ch0000013vscode-remote?line=39'>40</a>\u001b[0m x_dict[\u001b[39m'\u001b[39m\u001b[39mrecipe\u001b[39m\u001b[39m'\u001b[39m] \u001b[39m=\u001b[39m F\u001b[39m.\u001b[39mrelu(x_dict[\u001b[39m'\u001b[39m\u001b[39mrecipe\u001b[39m\u001b[39m'\u001b[39m])  \n",
      "File \u001b[0;32m~/anaconda3/envs/cuisine/lib/python3.9/site-packages/torch/nn/modules/module.py:1110\u001b[0m, in \u001b[0;36mModule._call_impl\u001b[0;34m(self, *input, **kwargs)\u001b[0m\n\u001b[1;32m   <a href='file:///home/felix/anaconda3/envs/cuisine/lib/python3.9/site-packages/torch/nn/modules/module.py?line=1105'>1106</a>\u001b[0m \u001b[39m# If we don't have any hooks, we want to skip the rest of the logic in\u001b[39;00m\n\u001b[1;32m   <a href='file:///home/felix/anaconda3/envs/cuisine/lib/python3.9/site-packages/torch/nn/modules/module.py?line=1106'>1107</a>\u001b[0m \u001b[39m# this function, and just call forward.\u001b[39;00m\n\u001b[1;32m   <a href='file:///home/felix/anaconda3/envs/cuisine/lib/python3.9/site-packages/torch/nn/modules/module.py?line=1107'>1108</a>\u001b[0m \u001b[39mif\u001b[39;00m \u001b[39mnot\u001b[39;00m (\u001b[39mself\u001b[39m\u001b[39m.\u001b[39m_backward_hooks \u001b[39mor\u001b[39;00m \u001b[39mself\u001b[39m\u001b[39m.\u001b[39m_forward_hooks \u001b[39mor\u001b[39;00m \u001b[39mself\u001b[39m\u001b[39m.\u001b[39m_forward_pre_hooks \u001b[39mor\u001b[39;00m _global_backward_hooks\n\u001b[1;32m   <a href='file:///home/felix/anaconda3/envs/cuisine/lib/python3.9/site-packages/torch/nn/modules/module.py?line=1108'>1109</a>\u001b[0m         \u001b[39mor\u001b[39;00m _global_forward_hooks \u001b[39mor\u001b[39;00m _global_forward_pre_hooks):\n\u001b[0;32m-> <a href='file:///home/felix/anaconda3/envs/cuisine/lib/python3.9/site-packages/torch/nn/modules/module.py?line=1109'>1110</a>\u001b[0m     \u001b[39mreturn\u001b[39;00m forward_call(\u001b[39m*\u001b[39;49m\u001b[39minput\u001b[39;49m, \u001b[39m*\u001b[39;49m\u001b[39m*\u001b[39;49mkwargs)\n\u001b[1;32m   <a href='file:///home/felix/anaconda3/envs/cuisine/lib/python3.9/site-packages/torch/nn/modules/module.py?line=1110'>1111</a>\u001b[0m \u001b[39m# Do not call functions when jit is used\u001b[39;00m\n\u001b[1;32m   <a href='file:///home/felix/anaconda3/envs/cuisine/lib/python3.9/site-packages/torch/nn/modules/module.py?line=1111'>1112</a>\u001b[0m full_backward_hooks, non_full_backward_hooks \u001b[39m=\u001b[39m [], []\n",
      "File \u001b[0;32m~/anaconda3/envs/cuisine/lib/python3.9/site-packages/torch_geometric/nn/conv/hetero_conv.py:125\u001b[0m, in \u001b[0;36mHeteroConv.forward\u001b[0;34m(self, x_dict, edge_index_dict, *args_dict, **kwargs_dict)\u001b[0m\n\u001b[1;32m    <a href='file:///home/felix/anaconda3/envs/cuisine/lib/python3.9/site-packages/torch_geometric/nn/conv/hetero_conv.py?line=122'>123</a>\u001b[0m         out \u001b[39m=\u001b[39m conv(x_dict[src], edge_index, \u001b[39m*\u001b[39margs, \u001b[39m*\u001b[39m\u001b[39m*\u001b[39mkwargs)\n\u001b[1;32m    <a href='file:///home/felix/anaconda3/envs/cuisine/lib/python3.9/site-packages/torch_geometric/nn/conv/hetero_conv.py?line=123'>124</a>\u001b[0m     \u001b[39melse\u001b[39;00m:\n\u001b[0;32m--> <a href='file:///home/felix/anaconda3/envs/cuisine/lib/python3.9/site-packages/torch_geometric/nn/conv/hetero_conv.py?line=124'>125</a>\u001b[0m         out \u001b[39m=\u001b[39m conv((x_dict[src], x_dict[dst]), edge_index, \u001b[39m*\u001b[39;49margs,\n\u001b[1;32m    <a href='file:///home/felix/anaconda3/envs/cuisine/lib/python3.9/site-packages/torch_geometric/nn/conv/hetero_conv.py?line=125'>126</a>\u001b[0m                    \u001b[39m*\u001b[39;49m\u001b[39m*\u001b[39;49mkwargs)\n\u001b[1;32m    <a href='file:///home/felix/anaconda3/envs/cuisine/lib/python3.9/site-packages/torch_geometric/nn/conv/hetero_conv.py?line=127'>128</a>\u001b[0m     out_dict[dst]\u001b[39m.\u001b[39mappend(out)\n\u001b[1;32m    <a href='file:///home/felix/anaconda3/envs/cuisine/lib/python3.9/site-packages/torch_geometric/nn/conv/hetero_conv.py?line=129'>130</a>\u001b[0m \u001b[39mfor\u001b[39;00m key, value \u001b[39min\u001b[39;00m out_dict\u001b[39m.\u001b[39mitems():\n",
      "File \u001b[0;32m~/anaconda3/envs/cuisine/lib/python3.9/site-packages/torch/nn/modules/module.py:1110\u001b[0m, in \u001b[0;36mModule._call_impl\u001b[0;34m(self, *input, **kwargs)\u001b[0m\n\u001b[1;32m   <a href='file:///home/felix/anaconda3/envs/cuisine/lib/python3.9/site-packages/torch/nn/modules/module.py?line=1105'>1106</a>\u001b[0m \u001b[39m# If we don't have any hooks, we want to skip the rest of the logic in\u001b[39;00m\n\u001b[1;32m   <a href='file:///home/felix/anaconda3/envs/cuisine/lib/python3.9/site-packages/torch/nn/modules/module.py?line=1106'>1107</a>\u001b[0m \u001b[39m# this function, and just call forward.\u001b[39;00m\n\u001b[1;32m   <a href='file:///home/felix/anaconda3/envs/cuisine/lib/python3.9/site-packages/torch/nn/modules/module.py?line=1107'>1108</a>\u001b[0m \u001b[39mif\u001b[39;00m \u001b[39mnot\u001b[39;00m (\u001b[39mself\u001b[39m\u001b[39m.\u001b[39m_backward_hooks \u001b[39mor\u001b[39;00m \u001b[39mself\u001b[39m\u001b[39m.\u001b[39m_forward_hooks \u001b[39mor\u001b[39;00m \u001b[39mself\u001b[39m\u001b[39m.\u001b[39m_forward_pre_hooks \u001b[39mor\u001b[39;00m _global_backward_hooks\n\u001b[1;32m   <a href='file:///home/felix/anaconda3/envs/cuisine/lib/python3.9/site-packages/torch/nn/modules/module.py?line=1108'>1109</a>\u001b[0m         \u001b[39mor\u001b[39;00m _global_forward_hooks \u001b[39mor\u001b[39;00m _global_forward_pre_hooks):\n\u001b[0;32m-> <a href='file:///home/felix/anaconda3/envs/cuisine/lib/python3.9/site-packages/torch/nn/modules/module.py?line=1109'>1110</a>\u001b[0m     \u001b[39mreturn\u001b[39;00m forward_call(\u001b[39m*\u001b[39;49m\u001b[39minput\u001b[39;49m, \u001b[39m*\u001b[39;49m\u001b[39m*\u001b[39;49mkwargs)\n\u001b[1;32m   <a href='file:///home/felix/anaconda3/envs/cuisine/lib/python3.9/site-packages/torch/nn/modules/module.py?line=1110'>1111</a>\u001b[0m \u001b[39m# Do not call functions when jit is used\u001b[39;00m\n\u001b[1;32m   <a href='file:///home/felix/anaconda3/envs/cuisine/lib/python3.9/site-packages/torch/nn/modules/module.py?line=1111'>1112</a>\u001b[0m full_backward_hooks, non_full_backward_hooks \u001b[39m=\u001b[39m [], []\n",
      "File \u001b[0;32m~/anaconda3/envs/cuisine/lib/python3.9/site-packages/torch_geometric/nn/conv/sage_conv.py:80\u001b[0m, in \u001b[0;36mSAGEConv.forward\u001b[0;34m(self, x, edge_index, size)\u001b[0m\n\u001b[1;32m     <a href='file:///home/felix/anaconda3/envs/cuisine/lib/python3.9/site-packages/torch_geometric/nn/conv/sage_conv.py?line=76'>77</a>\u001b[0m     x: OptPairTensor \u001b[39m=\u001b[39m (x, x)\n\u001b[1;32m     <a href='file:///home/felix/anaconda3/envs/cuisine/lib/python3.9/site-packages/torch_geometric/nn/conv/sage_conv.py?line=78'>79</a>\u001b[0m \u001b[39m# propagate_type: (x: OptPairTensor)\u001b[39;00m\n\u001b[0;32m---> <a href='file:///home/felix/anaconda3/envs/cuisine/lib/python3.9/site-packages/torch_geometric/nn/conv/sage_conv.py?line=79'>80</a>\u001b[0m out \u001b[39m=\u001b[39m \u001b[39mself\u001b[39;49m\u001b[39m.\u001b[39;49mpropagate(edge_index, x\u001b[39m=\u001b[39;49mx, size\u001b[39m=\u001b[39;49msize)\n\u001b[1;32m     <a href='file:///home/felix/anaconda3/envs/cuisine/lib/python3.9/site-packages/torch_geometric/nn/conv/sage_conv.py?line=80'>81</a>\u001b[0m out \u001b[39m=\u001b[39m \u001b[39mself\u001b[39m\u001b[39m.\u001b[39mlin_l(out)\n\u001b[1;32m     <a href='file:///home/felix/anaconda3/envs/cuisine/lib/python3.9/site-packages/torch_geometric/nn/conv/sage_conv.py?line=82'>83</a>\u001b[0m x_r \u001b[39m=\u001b[39m x[\u001b[39m1\u001b[39m]\n",
      "File \u001b[0;32m~/anaconda3/envs/cuisine/lib/python3.9/site-packages/torch_geometric/nn/conv/message_passing.py:309\u001b[0m, in \u001b[0;36mMessagePassing.propagate\u001b[0;34m(self, edge_index, size, **kwargs)\u001b[0m\n\u001b[1;32m    <a href='file:///home/felix/anaconda3/envs/cuisine/lib/python3.9/site-packages/torch_geometric/nn/conv/message_passing.py?line=305'>306</a>\u001b[0m     \u001b[39mfor\u001b[39;00m arg \u001b[39min\u001b[39;00m decomp_args:\n\u001b[1;32m    <a href='file:///home/felix/anaconda3/envs/cuisine/lib/python3.9/site-packages/torch_geometric/nn/conv/message_passing.py?line=306'>307</a>\u001b[0m         kwargs[arg] \u001b[39m=\u001b[39m decomp_kwargs[arg][i]\n\u001b[0;32m--> <a href='file:///home/felix/anaconda3/envs/cuisine/lib/python3.9/site-packages/torch_geometric/nn/conv/message_passing.py?line=308'>309</a>\u001b[0m coll_dict \u001b[39m=\u001b[39m \u001b[39mself\u001b[39;49m\u001b[39m.\u001b[39;49m__collect__(\u001b[39mself\u001b[39;49m\u001b[39m.\u001b[39;49m__user_args__, edge_index,\n\u001b[1;32m    <a href='file:///home/felix/anaconda3/envs/cuisine/lib/python3.9/site-packages/torch_geometric/nn/conv/message_passing.py?line=309'>310</a>\u001b[0m                              size, kwargs)\n\u001b[1;32m    <a href='file:///home/felix/anaconda3/envs/cuisine/lib/python3.9/site-packages/torch_geometric/nn/conv/message_passing.py?line=311'>312</a>\u001b[0m msg_kwargs \u001b[39m=\u001b[39m \u001b[39mself\u001b[39m\u001b[39m.\u001b[39minspector\u001b[39m.\u001b[39mdistribute(\u001b[39m'\u001b[39m\u001b[39mmessage\u001b[39m\u001b[39m'\u001b[39m, coll_dict)\n\u001b[1;32m    <a href='file:///home/felix/anaconda3/envs/cuisine/lib/python3.9/site-packages/torch_geometric/nn/conv/message_passing.py?line=312'>313</a>\u001b[0m \u001b[39mfor\u001b[39;00m hook \u001b[39min\u001b[39;00m \u001b[39mself\u001b[39m\u001b[39m.\u001b[39m_message_forward_pre_hooks\u001b[39m.\u001b[39mvalues():\n",
      "File \u001b[0;32m~/anaconda3/envs/cuisine/lib/python3.9/site-packages/torch_geometric/nn/conv/message_passing.py:202\u001b[0m, in \u001b[0;36mMessagePassing.__collect__\u001b[0;34m(self, args, edge_index, size, kwargs)\u001b[0m\n\u001b[1;32m    <a href='file:///home/felix/anaconda3/envs/cuisine/lib/python3.9/site-packages/torch_geometric/nn/conv/message_passing.py?line=199'>200</a>\u001b[0m         \u001b[39mif\u001b[39;00m \u001b[39misinstance\u001b[39m(data, Tensor):\n\u001b[1;32m    <a href='file:///home/felix/anaconda3/envs/cuisine/lib/python3.9/site-packages/torch_geometric/nn/conv/message_passing.py?line=200'>201</a>\u001b[0m             \u001b[39mself\u001b[39m\u001b[39m.\u001b[39m__set_size__(size, dim, data)\n\u001b[0;32m--> <a href='file:///home/felix/anaconda3/envs/cuisine/lib/python3.9/site-packages/torch_geometric/nn/conv/message_passing.py?line=201'>202</a>\u001b[0m             data \u001b[39m=\u001b[39m \u001b[39mself\u001b[39;49m\u001b[39m.\u001b[39;49m__lift__(data, edge_index, dim)\n\u001b[1;32m    <a href='file:///home/felix/anaconda3/envs/cuisine/lib/python3.9/site-packages/torch_geometric/nn/conv/message_passing.py?line=203'>204</a>\u001b[0m         out[arg] \u001b[39m=\u001b[39m data\n\u001b[1;32m    <a href='file:///home/felix/anaconda3/envs/cuisine/lib/python3.9/site-packages/torch_geometric/nn/conv/message_passing.py?line=205'>206</a>\u001b[0m \u001b[39mif\u001b[39;00m \u001b[39misinstance\u001b[39m(edge_index, Tensor):\n",
      "File \u001b[0;32m~/anaconda3/envs/cuisine/lib/python3.9/site-packages/torch_geometric/nn/conv/message_passing.py:172\u001b[0m, in \u001b[0;36mMessagePassing.__lift__\u001b[0;34m(self, src, edge_index, dim)\u001b[0m\n\u001b[1;32m    <a href='file:///home/felix/anaconda3/envs/cuisine/lib/python3.9/site-packages/torch_geometric/nn/conv/message_passing.py?line=169'>170</a>\u001b[0m \u001b[39mif\u001b[39;00m \u001b[39misinstance\u001b[39m(edge_index, Tensor):\n\u001b[1;32m    <a href='file:///home/felix/anaconda3/envs/cuisine/lib/python3.9/site-packages/torch_geometric/nn/conv/message_passing.py?line=170'>171</a>\u001b[0m     index \u001b[39m=\u001b[39m edge_index[dim]\n\u001b[0;32m--> <a href='file:///home/felix/anaconda3/envs/cuisine/lib/python3.9/site-packages/torch_geometric/nn/conv/message_passing.py?line=171'>172</a>\u001b[0m     \u001b[39mreturn\u001b[39;00m src\u001b[39m.\u001b[39;49mindex_select(\u001b[39mself\u001b[39;49m\u001b[39m.\u001b[39;49mnode_dim, index)\n\u001b[1;32m    <a href='file:///home/felix/anaconda3/envs/cuisine/lib/python3.9/site-packages/torch_geometric/nn/conv/message_passing.py?line=172'>173</a>\u001b[0m \u001b[39melif\u001b[39;00m \u001b[39misinstance\u001b[39m(edge_index, SparseTensor):\n\u001b[1;32m    <a href='file:///home/felix/anaconda3/envs/cuisine/lib/python3.9/site-packages/torch_geometric/nn/conv/message_passing.py?line=173'>174</a>\u001b[0m     \u001b[39mif\u001b[39;00m dim \u001b[39m==\u001b[39m \u001b[39m1\u001b[39m:\n",
      "\u001b[0;31mRuntimeError\u001b[0m: CUDA out of memory. Tried to allocate 7.87 GiB (GPU 5; 9.78 GiB total capacity; 8.05 GiB already allocated; 266.56 MiB free; 8.06 GiB reserved in total by PyTorch) If reserved memory is >> allocated memory try setting max_split_size_mb to avoid fragmentation.  See documentation for Memory Management and PYTORCH_CUDA_ALLOC_CONF"
     ]
    }
   ],
   "source": [
    "from torch.utils.tensorboard import SummaryWriter\n",
    "import os \n",
    "\n",
    "writer = SummaryWriter()\n",
    "\n",
    "os.environ['CUDA_DEVICE_ORDER'] = 'PCI_BUS_ID'\n",
    "torch.cuda.set_device(5)\n",
    "device = torch.device('cuda')\n",
    "\n",
    "model = HeteroGNN().to(device)\n",
    "data = data.to(device)\n",
    "optimizer = torch.optim.Adam(model.parameters(), lr=0.01)\n",
    "\n",
    "model.train()\n",
    "for epoch in range(300):\n",
    "    out = model(data)\n",
    "    loss = F.cross_entropy(out[train_mask], data['recipe'].y[train_mask])\n",
    "    \n",
    "    writer.add_scalar(\"Loss/train\", loss, epoch)\n",
    "\n",
    "    pred = model(data).argmax(dim=1)\n",
    "    acc_train = (pred[train_mask] == data['recipe'].y[train_mask]).sum() / len(train_mask)\n",
    "    acc_valid = (pred[valid_mask] == data['recipe'].y[valid_mask]).sum() / len(valid_mask)\n",
    "    writer.add_scalar(\"Acc_train\", acc_train, epoch)\n",
    "    writer.add_scalar(\"Acc_valid\", acc_valid, epoch)\n",
    "\n",
    "    optimizer.zero_grad()\n",
    "    loss.backward()\n",
    "    optimizer.step()\n",
    "\n",
    "writer.flush()"
   ]
  },
  {
   "cell_type": "code",
   "execution_count": 30,
   "metadata": {},
   "outputs": [
    {
     "data": {
      "text/plain": [
       "torch.float32"
      ]
     },
     "execution_count": 30,
     "metadata": {},
     "output_type": "execute_result"
    }
   ],
   "source": [
    "import sys\n",
    "sys.getsizeof(data['ingredient'].x)\n",
    "data['ingredient'].x.dtype"
   ]
  },
  {
   "cell_type": "code",
   "execution_count": 32,
   "metadata": {},
   "outputs": [
    {
     "data": {
      "text/plain": [
       "180203776"
      ]
     },
     "execution_count": 32,
     "metadata": {},
     "output_type": "execute_result"
    }
   ],
   "source": [
    "4*6712*6712"
   ]
  },
  {
   "cell_type": "code",
   "execution_count": null,
   "metadata": {},
   "outputs": [],
   "source": [
    "model.eval()\n",
    "pred = model(data).argmax(dim=1)\n",
    "correct_train = (pred[train_mask] == data['recipe'].y[train_mask]).sum()\n",
    "correct_valid = (pred[valid_mask] == data['recipe'].y[valid_mask]).sum()\n",
    "acc_train = int(correct_train) / len(train_mask)\n",
    "acc_valid = int(correct_valid) / len(valid_mask)\n",
    "print(f'Train Accuracy: {acc_train:.2%}: {correct_train} out of {len(train_mask)}')\n",
    "print(f'Valid Accuracy: {acc_valid:.2%}: {correct_valid} out of {len(valid_mask)}')"
   ]
  },
  {
   "cell_type": "code",
   "execution_count": null,
   "metadata": {},
   "outputs": [],
   "source": []
  }
 ],
 "metadata": {
  "interpreter": {
   "hash": "8cf4680b4391a53e7010fa054fd4ba20b93408b742ac55ff056403c174e40d25"
  },
  "kernelspec": {
   "display_name": "Python 3.9.12 ('cuisine')",
   "language": "python",
   "name": "python3"
  },
  "language_info": {
   "codemirror_mode": {
    "name": "ipython",
    "version": 3
   },
   "file_extension": ".py",
   "mimetype": "text/x-python",
   "name": "python",
   "nbconvert_exporter": "python",
   "pygments_lexer": "ipython3",
   "version": "3.9.12"
  },
  "orig_nbformat": 4
 },
 "nbformat": 4,
 "nbformat_minor": 2
}
