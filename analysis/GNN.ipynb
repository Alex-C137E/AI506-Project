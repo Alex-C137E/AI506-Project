{
 "cells": [
  {
   "cell_type": "code",
   "execution_count": 1,
   "metadata": {},
   "outputs": [],
   "source": [
    "import torch\n",
    "\n",
    "from cuisine.cookbook import get_ingredient_list, get_cookbook_train, get_cookbook_valid_question, get_cookbook_valid_answer\n",
    "from cuisine.embedding import import_embedding, create_random_embedding\n",
    "from cuisine.chef import make_recipe_embedding_data, make_ingredient_embedding_data\n",
    "from cuisine.utils import move_to_top_directory"
   ]
  },
  {
   "cell_type": "code",
   "execution_count": 2,
   "metadata": {},
   "outputs": [
    {
     "data": {
      "text/plain": [
       "'/home/felix/cuisine'"
      ]
     },
     "execution_count": 2,
     "metadata": {},
     "output_type": "execute_result"
    }
   ],
   "source": [
    "move_to_top_directory()\n",
    "%pwd"
   ]
  },
  {
   "cell_type": "code",
   "execution_count": 3,
   "metadata": {},
   "outputs": [
    {
     "data": {
      "text/plain": [
       "{'recipe_id': 15,\n",
       " 'ingredients': [2866, 4243, 4362, 5377, 5408, 6187, 6352, 6568],\n",
       " 'kitchen_name': 'italian',\n",
       " 'kitchen_id': 5}"
      ]
     },
     "execution_count": 3,
     "metadata": {},
     "output_type": "execute_result"
    }
   ],
   "source": [
    "cookbook_train = get_cookbook_train()\n",
    "cookbook_valid_question = get_cookbook_valid_question()\n",
    "cookbook_valid_answer = get_cookbook_valid_answer()\n",
    "ingredient_list = get_ingredient_list()\n",
    "\n",
    "cookbook_train[15]"
   ]
  },
  {
   "cell_type": "code",
   "execution_count": 4,
   "metadata": {},
   "outputs": [
    {
     "data": {
      "text/plain": [
       "array([34.63750259, 20.35864365, -1.20763975, -0.97736046,  0.23479278,\n",
       "        5.40115298,  8.51684704, -0.53078058, -0.53245975, -0.8002612 ,\n",
       "       -3.08002422,  0.61509874,  1.03727886, -1.68163813,  4.22448238,\n",
       "        4.41397363, -2.43951389,  1.38136843, -0.5487753 , -0.09986042,\n",
       "       -1.99060814, -0.10028059,  0.17231477, -0.5892525 , -0.08022406,\n",
       "       -2.57672924,  4.58388978, -2.31123317, -0.80378753,  1.565003  ,\n",
       "        0.76383124, -3.8348879 ])"
      ]
     },
     "execution_count": 4,
     "metadata": {},
     "output_type": "execute_result"
    }
   ],
   "source": [
    "embedding_random_walk_2 = import_embedding(\"Embp1q2\", ingredient_list)\n",
    "embedding_random_walk_10 = import_embedding(\"Embp1q10\", ingredient_list)\n",
    "embedding_uniform_rand = create_random_embedding(ingredient_list, 128)\n",
    "embedding_svd_32 = import_embedding(\"SVD32\", ingredient_list)\n",
    "embedding_svd_64 = import_embedding(\"SVD64\", ingredient_list)\n",
    "embedding_svd_128 = import_embedding(\"SVD128\", ingredient_list)\n",
    "\n",
    "embedding_svd_32[2813]"
   ]
  },
  {
   "cell_type": "code",
   "execution_count": 5,
   "metadata": {},
   "outputs": [],
   "source": [
    "embedding = embedding_svd_64\n",
    "\n",
    "X_train, y_train = make_recipe_embedding_data(cookbook_train, embedding)\n",
    "X_valid, _       = make_recipe_embedding_data(cookbook_valid_question, embedding)\n",
    "_      , y_valid = make_recipe_embedding_data(cookbook_valid_answer, embedding)"
   ]
  },
  {
   "cell_type": "code",
   "execution_count": 6,
   "metadata": {},
   "outputs": [],
   "source": [
    "embedding_matrix = make_ingredient_embedding_data(embedding)"
   ]
  },
  {
   "cell_type": "code",
   "execution_count": 7,
   "metadata": {},
   "outputs": [],
   "source": [
    "import numpy as np\n",
    "X = np.concatenate((X_train, X_valid), axis=0)\n",
    "y = np.concatenate((y_train, y_valid), axis=0)\n",
    "\n",
    "train_mask = np.asarray( range(X_train.shape[0]) )\n",
    "valid_mask = np.asarray( [i + X_train.shape[0] for i in range(X_valid.shape[0]) ] )"
   ]
  },
  {
   "cell_type": "code",
   "execution_count": 8,
   "metadata": {},
   "outputs": [],
   "source": [
    "import itertools\n",
    "\n",
    "def make_adjacency_matrix(cookbook, ingredient_list):\n",
    "\n",
    "    num_ingredients = len(ingredient_list)\n",
    "    adjacency_matrix = np.zeros(shape=(num_ingredients, num_ingredients), dtype=np.int32)\n",
    "\n",
    "    for recipe in cookbook:\n",
    "        for ingredient1, ingredient2 in itertools.permutations(recipe['ingredients'], r=2):\n",
    "            adjacency_matrix[ingredient1, ingredient2] += 1\n",
    "\n",
    "    return adjacency_matrix\n",
    "\n",
    "adjacency_matrix = make_adjacency_matrix(cookbook_train + cookbook_valid_question, ingredient_list)\n",
    "    "
   ]
  },
  {
   "cell_type": "code",
   "execution_count": 9,
   "metadata": {},
   "outputs": [],
   "source": [
    "import networkx as nx\n",
    "\n",
    "G = nx.from_numpy_matrix(adjacency_matrix)\n",
    "edge_list = np.asarray(G.edges).T\n",
    "weights = np.asarray(list(nx.get_edge_attributes(G, \"weight\").values()))\n"
   ]
  },
  {
   "cell_type": "code",
   "execution_count": 10,
   "metadata": {},
   "outputs": [],
   "source": [
    "def make_recipe_edge_list(cookbook):\n",
    "\n",
    "    edge_list = []\n",
    "\n",
    "    for recipe_idx, recipe in enumerate(cookbook):\n",
    "        for ingredient in recipe['ingredients']:\n",
    "            edge_list.append((ingredient, recipe_idx))\n",
    "\n",
    "    return np.asarray(edge_list).T\n",
    "\n",
    "recipe_edge_list = make_recipe_edge_list(cookbook_train + cookbook_valid_question)"
   ]
  },
  {
   "cell_type": "code",
   "execution_count": 11,
   "metadata": {},
   "outputs": [
    {
     "data": {
      "text/plain": [
       "HeteroData(\n",
       "  \u001b[1mingredient\u001b[0m={ x=[6714, 64] },\n",
       "  \u001b[1mrecipe\u001b[0m={\n",
       "    x=[31395, 16],\n",
       "    y=[31395],\n",
       "    train_mask=[23547],\n",
       "    valid_mask=[7848]\n",
       "  },\n",
       "  \u001b[1m(ingredient, shares_recipe_with, ingredient)\u001b[0m={\n",
       "    edge_index=[2, 388320],\n",
       "    edge_attr=[388320]\n",
       "  },\n",
       "  \u001b[1m(ingredient, in, recipe)\u001b[0m={ edge_index=[2, 314697] }\n",
       ")"
      ]
     },
     "execution_count": 11,
     "metadata": {},
     "output_type": "execute_result"
    }
   ],
   "source": [
    "from torch_geometric.data import HeteroData\n",
    "\n",
    "graph = HeteroData()\n",
    "\n",
    "graph['ingredient'].x = torch.tensor(embedding_matrix, dtype=torch.float)\n",
    "graph['recipe'].x = torch.zeros(size=(len(y), 16))\n",
    "graph['recipe'].y = torch.tensor(y, dtype=torch.long )\n",
    "\n",
    "graph['recipe'].train_mask = train_mask\n",
    "graph['recipe'].valid_mask = valid_mask\n",
    "\n",
    "graph['ingredient', 'shares_recipe_with', 'ingredient'].edge_index = torch.tensor(edge_list, dtype=torch.long)\n",
    "graph['ingredient', 'in', 'recipe'].edge_index = torch.tensor(recipe_edge_list, dtype=torch.long)\n",
    "\n",
    "graph['ingredient', 'shares_recipe_with', 'ingredient'].edge_attr = torch.tensor(weights, dtype=torch.long)\n",
    "\n",
    "graph\n"
   ]
  },
  {
   "cell_type": "code",
   "execution_count": 12,
   "metadata": {},
   "outputs": [],
   "source": [
    "from torch_geometric.data import InMemoryDataset\n",
    "\n",
    "class CuisineDataset(InMemoryDataset):\n",
    "    def __init__(self, root, transform=None, pre_transform=None):\n",
    "        super(CuisineDataset, self).__init__(root, transform, pre_transform)\n",
    "        self.data, self.slices = torch.load(self.processed_paths[0])\n",
    "        \n",
    "    @property\n",
    "    def raw_file_names(self):\n",
    "        return []\n",
    "\n",
    "    @property\n",
    "    def processed_file_names(self):\n",
    "        return ['data']\n",
    "\n",
    "    def download(self):\n",
    "        pass\n",
    "\n",
    "    def process(self):\n",
    "\n",
    "        data, slices = self.collate([graph])\n",
    "        torch.save((data, slices), self.processed_paths[0])"
   ]
  },
  {
   "cell_type": "code",
   "execution_count": 13,
   "metadata": {},
   "outputs": [
    {
     "name": "stderr",
     "output_type": "stream",
     "text": [
      "Processing...\n",
      "Done!\n"
     ]
    }
   ],
   "source": [
    "%rm -rf data/processed\n",
    "dataset = CuisineDataset(root=\"data/\")\n",
    "data = dataset[0]"
   ]
  },
  {
   "cell_type": "code",
   "execution_count": 34,
   "metadata": {},
   "outputs": [],
   "source": [
    "import torch\n",
    "import torch.nn.functional as F\n",
    "from torch_geometric.nn import HeteroConv, GCNConv, SAGEConv, avg_pool, GraphConv, Linear\n",
    "\n",
    "\n",
    "class HeteroGNN(torch.nn.Module):\n",
    "    def __init__(self):\n",
    "        super().__init__()\n",
    "\n",
    "        embedding_dim = data['ingredient'].num_node_features\n",
    "        num_classes = 20\n",
    "\n",
    "        self.conv1 = HeteroConv({\n",
    "            ('ingredient', 'shares_recipe_with', 'ingredient'): GCNConv(embedding_dim, 20)\n",
    "        })\n",
    "\n",
    "        self.conv2 = HeteroConv({\n",
    "            ('ingredient', 'in', 'recipe'): GraphConv((-1, -1), 20)\n",
    "        })\n",
    "\n",
    "        self.linear1 = Linear(-1, 20)\n",
    "        self.linear2 = Linear(-1, 20)\n",
    "\n",
    "            \n",
    "\n",
    "    def forward(self, x_dict, edge_index_dict):\n",
    "        \n",
    "        #x_dict['ingredient'] = self.conv1(x_dict, edge_index_dict)['ingredient']\n",
    "        #x_dict['ingredient'] = F.relu(x_dict['ingredient'])\n",
    "        x_dict['recipe'] = self.conv2(x_dict, edge_index_dict)['recipe']\n",
    "\n",
    "        #x_dict['recipe'] = self.avg_neighbours_of_recipe(x_dict, edge_index_dict)\n",
    "        #x_dict['recipe'] = self.linear1(x_dict['recipe'])  \n",
    "        \n",
    "        #x_dict['recipe'] = F.relu(x_dict['recipe'])  \n",
    "        #x_dict['recipe'] = self.linear2(x_dict['recipe'])  \n",
    "\n",
    "        return F.softmax(x_dict['recipe'], dim=1)\n",
    "\n",
    "\n",
    "    def avg_neighbours_of_recipe(self, x_dict, edge_index_dict):\n",
    "        # Legacy code to check if averaging the outputs of the GCNConv is the same as using \n",
    "\n",
    "        edges = edge_index_dict['ingredient', 'in', 'recipe']\n",
    "        num_recipes = x_dict['recipe'].shape[0]\n",
    "        m = torch.zeros((num_recipes, len(ingredient_list)), device=device)\n",
    "\n",
    "        m[ edges[1, :], edges[0, :]  ] = 1\n",
    "        m = F.normalize(m, p=1, dim=1)\n",
    "        return torch.mm(m, x_dict['ingredient'])   \n"
   ]
  },
  {
   "cell_type": "code",
   "execution_count": 35,
   "metadata": {},
   "outputs": [],
   "source": [
    "device = torch.device('cuda' if torch.cuda.is_available() else 'cpu')\n",
    "model = HeteroGNN().to(device)\n",
    "data = data.to(device)\n",
    "optimizer = torch.optim.Adam(model.parameters(), lr=0.01)\n",
    "\n",
    "model.train()\n",
    "for epoch in range(200):\n",
    "    optimizer.zero_grad()\n",
    "    out = model(data.x_dict, data.edge_index_dict)\n",
    "    loss = F.cross_entropy(out[train_mask], data['recipe'].y[train_mask])\n",
    "    loss.backward()\n",
    "    optimizer.step()"
   ]
  },
  {
   "cell_type": "code",
   "execution_count": 36,
   "metadata": {},
   "outputs": [
    {
     "name": "stdout",
     "output_type": "stream",
     "text": [
      "Train Accuracy: 39.82%: 9377 out of 23547\n",
      "Valid Accuracy: 38.84%: 3048 out of 7848\n"
     ]
    }
   ],
   "source": [
    "model.eval()\n",
    "pred = model(data.x_dict, data.edge_index_dict).argmax(dim=1)\n",
    "correct_train = (pred[train_mask] == data['recipe'].y[train_mask]).sum()\n",
    "correct_valid = (pred[valid_mask] == data['recipe'].y[valid_mask]).sum()\n",
    "acc_train = int(correct_train) / len(train_mask)\n",
    "acc_valid = int(correct_valid) / len(valid_mask)\n",
    "print(f'Train Accuracy: {acc_train:.2%}: {correct_train} out of {len(train_mask)}')\n",
    "print(f'Valid Accuracy: {acc_valid:.2%}: {correct_valid} out of {len(valid_mask)}')"
   ]
  },
  {
   "cell_type": "code",
   "execution_count": null,
   "metadata": {},
   "outputs": [],
   "source": []
  }
 ],
 "metadata": {
  "interpreter": {
   "hash": "8cf4680b4391a53e7010fa054fd4ba20b93408b742ac55ff056403c174e40d25"
  },
  "kernelspec": {
   "display_name": "Python 3.9.12 ('cuisine')",
   "language": "python",
   "name": "python3"
  },
  "language_info": {
   "codemirror_mode": {
    "name": "ipython",
    "version": 3
   },
   "file_extension": ".py",
   "mimetype": "text/x-python",
   "name": "python",
   "nbconvert_exporter": "python",
   "pygments_lexer": "ipython3",
   "version": "3.9.12"
  },
  "orig_nbformat": 4
 },
 "nbformat": 4,
 "nbformat_minor": 2
}
