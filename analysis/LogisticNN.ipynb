{
 "cells": [
  {
   "cell_type": "code",
   "execution_count": 19,
   "metadata": {},
   "outputs": [],
   "source": [
    "import torch\n",
    "import torch.nn.functional as F\n",
    "from torch.utils.tensorboard import SummaryWriter\n",
    "\n",
    "from sklearn import preprocessing\n",
    "\n",
    "from cuisine.cookbook import get_ingredient_list, get_cookbook_train, get_cookbook_valid_question, get_cookbook_valid_answer\n",
    "from cuisine.embedding import import_embedding, create_random_embedding, create_one_hot_embedding\n",
    "from cuisine.chef import make_recipe_embedding_data\n",
    "from cuisine.utils import move_to_top_directory"
   ]
  },
  {
   "cell_type": "code",
   "execution_count": 20,
   "metadata": {},
   "outputs": [
    {
     "data": {
      "text/plain": [
       "'/home/felix/cuisine'"
      ]
     },
     "execution_count": 20,
     "metadata": {},
     "output_type": "execute_result"
    }
   ],
   "source": [
    "move_to_top_directory()\n",
    "%pwd"
   ]
  },
  {
   "cell_type": "code",
   "execution_count": 21,
   "metadata": {},
   "outputs": [
    {
     "data": {
      "text/plain": [
       "{'recipe_id': 15,\n",
       " 'ingredients': [2866, 4243, 4362, 5377, 5408, 6187, 6352, 6568],\n",
       " 'kitchen_name': 'italian',\n",
       " 'kitchen_id': 5}"
      ]
     },
     "execution_count": 21,
     "metadata": {},
     "output_type": "execute_result"
    }
   ],
   "source": [
    "cookbook_train = get_cookbook_train()\n",
    "cookbook_valid_question = get_cookbook_valid_question()\n",
    "cookbook_valid_answer = get_cookbook_valid_answer()\n",
    "ingredient_list = get_ingredient_list()\n",
    "\n",
    "cookbook_train[15]"
   ]
  },
  {
   "cell_type": "code",
   "execution_count": 22,
   "metadata": {},
   "outputs": [
    {
     "data": {
      "text/plain": [
       "array([34.63750259, 20.35864365, -1.20763975, -0.97736046,  0.23479278,\n",
       "        5.40115298,  8.51684704, -0.53078058, -0.53245975, -0.8002612 ,\n",
       "       -3.08002422,  0.61509874,  1.03727886, -1.68163813,  4.22448238,\n",
       "        4.41397363, -2.43951389,  1.38136843, -0.5487753 , -0.09986042,\n",
       "       -1.99060814, -0.10028059,  0.17231477, -0.5892525 , -0.08022406,\n",
       "       -2.57672924,  4.58388978, -2.31123317, -0.80378753,  1.565003  ,\n",
       "        0.76383124, -3.8348879 ])"
      ]
     },
     "execution_count": 22,
     "metadata": {},
     "output_type": "execute_result"
    }
   ],
   "source": [
    "embedding_random_walk_2 = import_embedding(\"Embp1q2\", ingredient_list)\n",
    "embedding_random_walk_10 = import_embedding(\"Embp1q10\", ingredient_list)\n",
    "embedding_uniform_rand = create_random_embedding(ingredient_list, 128)\n",
    "embedding_svd_32 = import_embedding(\"SVD32\", ingredient_list)\n",
    "embedding_svd_64 = import_embedding(\"SVD64\", ingredient_list)\n",
    "embedding_svd_128 = import_embedding(\"SVD128\", ingredient_list)\n",
    "embedding_one_hot = create_one_hot_embedding(ingredient_list)\n",
    "\n",
    "embedding_svd_32[2813]"
   ]
  },
  {
   "cell_type": "code",
   "execution_count": 23,
   "metadata": {},
   "outputs": [],
   "source": [
    "embedding = embedding_one_hot\n",
    "\n",
    "X_train, y_train = make_recipe_embedding_data(cookbook_train, embedding, avg=False)\n",
    "X_valid, _       = make_recipe_embedding_data(cookbook_valid_question, embedding, avg=False)\n",
    "_      , y_valid = make_recipe_embedding_data(cookbook_valid_answer, embedding, avg=False)\n",
    "\n"
   ]
  },
  {
   "cell_type": "code",
   "execution_count": 24,
   "metadata": {},
   "outputs": [],
   "source": [
    "device = torch.device('cuda' if torch.cuda.is_available() else 'cpu')\n",
    "\n",
    "# scaler = preprocessing.StandardScaler().fit(X_train)\n",
    "# X_train = scaler.transform(X_train)\n",
    "# X_valid = scaler.transform(X_valid)\n",
    "\n",
    "X_train = torch.from_numpy(X_train).float().to(device)\n",
    "y_train = torch.from_numpy(y_train).long().to(device)\n",
    "X_valid = torch.from_numpy(X_valid).float().to(device)\n",
    "y_valid = torch.from_numpy(y_valid).long().to(device)"
   ]
  },
  {
   "cell_type": "code",
   "execution_count": 25,
   "metadata": {},
   "outputs": [],
   "source": [
    "class LogisticNN(torch.nn.Module):\n",
    "\n",
    "    def __init__(self, embedding_dim):\n",
    "        super().__init__()\n",
    "\n",
    "        self.linear1 = torch.nn.Linear(embedding_dim, 64)\n",
    "        self.linear2 = torch.nn.Linear(64, 64)\n",
    "\n",
    "    def forward(self, x):\n",
    "\n",
    "        # x = self.linear1(x)\n",
    "\n",
    "        x = self.linear1(x)\n",
    "        x = F.relu(x)\n",
    "        x = self.linear2(x)\n",
    "\n",
    "        return F.softmax(x, dim=1)"
   ]
  },
  {
   "cell_type": "code",
   "execution_count": 26,
   "metadata": {},
   "outputs": [],
   "source": [
    "writer = SummaryWriter()\n",
    "\n",
    "embedding_dim = X_train.shape[1]\n",
    "model = LogisticNN(embedding_dim).to(device)\n",
    "\n",
    "optimizer = torch.optim.Adam(model.parameters(), lr=0.01)\n",
    "\n",
    "model.train()\n",
    "\n",
    "for epoch in range(200):\n",
    "    out = model(X_train)\n",
    "    loss = F.cross_entropy(out, y_train)\n",
    "    \n",
    "    writer.add_scalar(\"Loss/train\", loss, epoch)\n",
    "\n",
    "    acc_train = (model(X_train).argmax(dim=1) == y_train).sum() / len(y_train)\n",
    "    acc_valid = (model(X_valid).argmax(dim=1) == y_valid).sum() / len(y_valid)\n",
    "    writer.add_scalar(\"Acc_train\", acc_train, epoch)\n",
    "    writer.add_scalar(\"Acc_valid\", acc_valid, epoch)\n",
    "\n",
    "    optimizer.zero_grad()\n",
    "    loss.backward()\n",
    "    optimizer.step()\n",
    "\n",
    "writer.flush()"
   ]
  },
  {
   "cell_type": "code",
   "execution_count": 27,
   "metadata": {},
   "outputs": [
    {
     "name": "stdout",
     "output_type": "stream",
     "text": [
      "Train Accuracy: 77.45%: 18236 out of 23547\n",
      "Valid Accuracy: 66.03%: 5182 out of 7848\n"
     ]
    }
   ],
   "source": [
    "model.eval()\n",
    "correct_train = (model(X_train).argmax(dim=1) == y_train).sum()\n",
    "correct_valid = (model(X_valid).argmax(dim=1) == y_valid).sum()\n",
    "acc_train = int(correct_train) / len(y_train)\n",
    "acc_valid = int(correct_valid) / len(y_valid)\n",
    "print(f'Train Accuracy: {acc_train:.2%}: {correct_train} out of {len(y_train)}')\n",
    "print(f'Valid Accuracy: {acc_valid:.2%}: {correct_valid} out of {len(y_valid)}')"
   ]
  },
  {
   "cell_type": "code",
   "execution_count": null,
   "metadata": {},
   "outputs": [],
   "source": []
  }
 ],
 "metadata": {
  "interpreter": {
   "hash": "8cf4680b4391a53e7010fa054fd4ba20b93408b742ac55ff056403c174e40d25"
  },
  "kernelspec": {
   "display_name": "Python 3.9.12 ('cuisine')",
   "language": "python",
   "name": "python3"
  },
  "language_info": {
   "codemirror_mode": {
    "name": "ipython",
    "version": 3
   },
   "file_extension": ".py",
   "mimetype": "text/x-python",
   "name": "python",
   "nbconvert_exporter": "python",
   "pygments_lexer": "ipython3",
   "version": "3.9.12"
  },
  "orig_nbformat": 4
 },
 "nbformat": 4,
 "nbformat_minor": 2
}
