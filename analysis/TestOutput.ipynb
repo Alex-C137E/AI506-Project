{
 "cells": [
  {
   "cell_type": "code",
   "execution_count": 1,
   "metadata": {},
   "outputs": [],
   "source": [
    "from sklearn.linear_model import LogisticRegression\n",
    "\n",
    "from cuisine.cookbook import get_ingredient_list, get_cookbook_train, get_cookbook_valid_question, get_cookbook_valid_answer, get_cookbook_test_question\n",
    "from cuisine.embedding import import_embedding, create_random_embedding, create_one_hot_embedding\n",
    "from cuisine.chef import make_recipe_embedding_data\n",
    "from cuisine.utils import move_to_top_directory"
   ]
  },
  {
   "cell_type": "code",
   "execution_count": 2,
   "metadata": {},
   "outputs": [
    {
     "data": {
      "text/plain": [
       "'/home/felix/cuisine'"
      ]
     },
     "execution_count": 2,
     "metadata": {},
     "output_type": "execute_result"
    }
   ],
   "source": [
    "move_to_top_directory()\n",
    "%pwd"
   ]
  },
  {
   "cell_type": "code",
   "execution_count": 3,
   "metadata": {},
   "outputs": [
    {
     "data": {
      "text/plain": [
       "{'recipe_id': 15,\n",
       " 'ingredients': [2866, 4243, 4362, 5377, 5408, 6187, 6352, 6568],\n",
       " 'kitchen_name': 'italian',\n",
       " 'kitchen_id': 5}"
      ]
     },
     "execution_count": 3,
     "metadata": {},
     "output_type": "execute_result"
    }
   ],
   "source": [
    "cookbook_train = get_cookbook_train()\n",
    "cookbook_valid_question = get_cookbook_valid_question()\n",
    "cookbook_valid_answer = get_cookbook_valid_answer()\n",
    "cookbook_test_question = get_cookbook_test_question()\n",
    "ingredient_list = get_ingredient_list()\n",
    "\n",
    "cookbook_train[15]"
   ]
  },
  {
   "cell_type": "code",
   "execution_count": 4,
   "metadata": {},
   "outputs": [
    {
     "name": "stderr",
     "output_type": "stream",
     "text": [
      "/home/felix/anaconda3/envs/cuisine/lib/python3.9/site-packages/sklearn/linear_model/_logistic.py:814: ConvergenceWarning: lbfgs failed to converge (status=1):\n",
      "STOP: TOTAL NO. of ITERATIONS REACHED LIMIT.\n",
      "\n",
      "Increase the number of iterations (max_iter) or scale the data as shown in:\n",
      "    https://scikit-learn.org/stable/modules/preprocessing.html\n",
      "Please also refer to the documentation for alternative solver options:\n",
      "    https://scikit-learn.org/stable/modules/linear_model.html#logistic-regression\n",
      "  n_iter_i = _check_optimize_result(\n"
     ]
    },
    {
     "name": "stdout",
     "output_type": "stream",
     "text": [
      "Training score 0.879 and validation score 0.761\n"
     ]
    }
   ],
   "source": [
    "embedding = create_one_hot_embedding(ingredient_list)\n",
    "\n",
    "X_train, y_train = make_recipe_embedding_data(cookbook_train, embedding, avg=False)\n",
    "X_valid, _       = make_recipe_embedding_data(cookbook_valid_question, embedding, avg=False)\n",
    "_      , y_valid = make_recipe_embedding_data(cookbook_valid_answer, embedding, avg=False)\n",
    "X_test , _       = make_recipe_embedding_data(cookbook_test_question, embedding, avg=False)\n",
    "\n",
    "clf = LogisticRegression(penalty='l2', max_iter=100).fit(X_train, y_train)\n",
    "train_score = clf.score(X_train, y_train)\n",
    "valid_score = clf.score(X_valid, y_valid)\n",
    "print(f\"Training score {train_score:.3f} and validation score {valid_score:.3f}\")\n",
    "prediction = clf.predict(X_test).tolist()"
   ]
  },
  {
   "cell_type": "code",
   "execution_count": 10,
   "metadata": {},
   "outputs": [],
   "source": [
    "import csv\n",
    "\n",
    "with open('data/test_classification_answer.csv', 'w') as test_answer:\n",
    "\n",
    "    writer = csv.writer(test_answer)\n",
    "\n",
    "    for kitchen_id in prediction:\n",
    "        for recipe in cookbook_train:\n",
    "            if recipe['kitchen_id'] == kitchen_id:\n",
    "                writer.writerow([recipe['kitchen_name']])\n",
    "                break"
   ]
  },
  {
   "cell_type": "code",
   "execution_count": null,
   "metadata": {},
   "outputs": [],
   "source": []
  }
 ],
 "metadata": {
  "interpreter": {
   "hash": "8cf4680b4391a53e7010fa054fd4ba20b93408b742ac55ff056403c174e40d25"
  },
  "kernelspec": {
   "display_name": "Python 3.9.12 ('cuisine')",
   "language": "python",
   "name": "python3"
  },
  "language_info": {
   "codemirror_mode": {
    "name": "ipython",
    "version": 3
   },
   "file_extension": ".py",
   "mimetype": "text/x-python",
   "name": "python",
   "nbconvert_exporter": "python",
   "pygments_lexer": "ipython3",
   "version": "3.9.12"
  },
  "orig_nbformat": 4
 },
 "nbformat": 4,
 "nbformat_minor": 2
}
