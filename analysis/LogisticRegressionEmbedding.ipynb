{
 "cells": [
  {
   "cell_type": "code",
   "execution_count": 1,
   "id": "1a81aa4b",
   "metadata": {},
   "outputs": [],
   "source": [
    "from sklearn.linear_model import LogisticRegression\n",
    "\n",
    "from cuisine.cookbook import get_ingredient_list, get_cookbook_train, get_cookbook_valid_question, get_cookbook_valid_answer\n",
    "from cuisine.embedding import import_embedding, create_random_embedding\n",
    "from cuisine.chef import make_embedding_data\n",
    "from cuisine.utils import move_to_top_directory"
   ]
  },
  {
   "cell_type": "code",
   "execution_count": 2,
   "id": "8227f1b5",
   "metadata": {},
   "outputs": [
    {
     "data": {
      "text/plain": [
       "'/home/felix/cuisine'"
      ]
     },
     "execution_count": 2,
     "metadata": {},
     "output_type": "execute_result"
    }
   ],
   "source": [
    "move_to_top_directory()\n",
    "%pwd"
   ]
  },
  {
   "cell_type": "code",
   "execution_count": 3,
   "id": "f4c8f92c",
   "metadata": {},
   "outputs": [
    {
     "data": {
      "text/plain": [
       "{'recipe_id': 15,\n",
       " 'ingredients': [2866, 4243, 4362, 5377, 5408, 6187, 6352, 6568],\n",
       " 'kitchen_name': 'italian',\n",
       " 'kitchen_id': 5}"
      ]
     },
     "execution_count": 3,
     "metadata": {},
     "output_type": "execute_result"
    }
   ],
   "source": [
    "cookbook_train = get_cookbook_train()\n",
    "cookbook_valid_question = get_cookbook_valid_question()\n",
    "cookbook_valid_answer = get_cookbook_valid_answer()\n",
    "ingredient_list = get_ingredient_list()\n",
    "\n",
    "cookbook_train[15]"
   ]
  },
  {
   "cell_type": "code",
   "execution_count": 4,
   "id": "0bac9b8f",
   "metadata": {},
   "outputs": [
    {
     "data": {
      "text/plain": [
       "array([34.63750259, 20.35864365, -1.20763975, -0.97736046,  0.23479278,\n",
       "        5.40115298,  8.51684704, -0.53078058, -0.53245975, -0.8002612 ,\n",
       "       -3.08002422,  0.61509874,  1.03727886, -1.68163813,  4.22448238,\n",
       "        4.41397363, -2.43951389,  1.38136843, -0.5487753 , -0.09986042,\n",
       "       -1.99060814, -0.10028059,  0.17231477, -0.5892525 , -0.08022406,\n",
       "       -2.57672924,  4.58388978, -2.31123317, -0.80378753,  1.565003  ,\n",
       "        0.76383124, -3.8348879 ])"
      ]
     },
     "execution_count": 4,
     "metadata": {},
     "output_type": "execute_result"
    }
   ],
   "source": [
    "# Import the embedding\n",
    "embedding_random_walk_2 = import_embedding(\"Embp1q2\", ingredient_list)\n",
    "embedding_random_walk_10 = import_embedding(\"Embp1q10\", ingredient_list)\n",
    "embedding_uniform_rand = create_random_embedding(ingredient_list, 128)\n",
    "embedding_svd_32 = import_embedding(\"SVD32\", ingredient_list)\n",
    "embedding_svd_64 = import_embedding(\"SVD64\", ingredient_list)\n",
    "embedding_svd_128 = import_embedding(\"SVD128\", ingredient_list)\n",
    "\n",
    "embedding_svd_32[2813]"
   ]
  },
  {
   "cell_type": "code",
   "execution_count": 8,
   "id": "5c879440",
   "metadata": {},
   "outputs": [],
   "source": [
    "def do_logistic_regression(embedding, name):\n",
    "\n",
    "    X_train, y_train = make_embedding_data(cookbook_train, embedding)\n",
    "    X_valid, _       = make_embedding_data(cookbook_valid_question, embedding)\n",
    "    _      , y_valid = make_embedding_data(cookbook_valid_answer, embedding)\n",
    "\n",
    "    clf = LogisticRegression(penalty='l2', max_iter=100).fit(X_train, y_train)\n",
    "    train_score = clf.score(X_train, y_train)\n",
    "    valid_score = clf.score(X_valid, y_valid)\n",
    "    print(f\"Embedding {name:14} has training score {train_score:.3f} and validation score {valid_score:.3f}\")"
   ]
  },
  {
   "cell_type": "code",
   "execution_count": 9,
   "id": "a2bd8c8e",
   "metadata": {},
   "outputs": [
    {
     "name": "stdout",
     "output_type": "stream",
     "text": [
      "Embedding SVD-32         has training score 0.665 and validation score 0.669\n",
      "Embedding SVD-64         has training score 0.689 and validation score 0.692\n",
      "Embedding SVD-128        has training score 0.710 and validation score 0.706\n",
      "Embedding Random Walk 2  has training score 0.651 and validation score 0.657\n",
      "Embedding Random Walk 10 has training score 0.646 and validation score 0.655\n",
      "Embedding Uniform Random has training score 0.524 and validation score 0.504\n"
     ]
    }
   ],
   "source": [
    "from warnings import simplefilter\n",
    "from sklearn.exceptions import ConvergenceWarning\n",
    "simplefilter(\"ignore\", category=ConvergenceWarning)\n",
    "\n",
    "do_logistic_regression(embedding_svd_32, \"SVD-32\")\n",
    "do_logistic_regression(embedding_svd_64, \"SVD-64\")\n",
    "do_logistic_regression(embedding_svd_128, \"SVD-128\")\n",
    "do_logistic_regression(embedding_random_walk_2, \"Random Walk 2\")\n",
    "do_logistic_regression(embedding_random_walk_10, \"Random Walk 10\")\n",
    "do_logistic_regression(embedding_uniform_rand, \"Uniform Random\")"
   ]
  },
  {
   "cell_type": "code",
   "execution_count": null,
   "id": "a77cd5e8",
   "metadata": {},
   "outputs": [],
   "source": []
  }
 ],
 "metadata": {
  "interpreter": {
   "hash": "8cf4680b4391a53e7010fa054fd4ba20b93408b742ac55ff056403c174e40d25"
  },
  "kernelspec": {
   "display_name": "Python 3.9.12 ('cuisine')",
   "language": "python",
   "name": "python3"
  },
  "language_info": {
   "codemirror_mode": {
    "name": "ipython",
    "version": 3
   },
   "file_extension": ".py",
   "mimetype": "text/x-python",
   "name": "python",
   "nbconvert_exporter": "python",
   "pygments_lexer": "ipython3",
   "version": "3.9.12"
  }
 },
 "nbformat": 4,
 "nbformat_minor": 5
}
