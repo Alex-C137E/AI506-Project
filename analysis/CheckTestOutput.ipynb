{
 "cells": [
  {
   "cell_type": "code",
   "execution_count": 1,
   "metadata": {},
   "outputs": [
    {
     "data": {
      "text/plain": [
       "'/home/felix/AI506-Project'"
      ]
     },
     "execution_count": 1,
     "metadata": {},
     "output_type": "execute_result"
    }
   ],
   "source": [
    "from sklearn.linear_model import LogisticRegression\n",
    "\n",
    "from cuisine.cookbook import get_ingredient_list, get_cookbook_train, get_cookbook_valid_question, get_cookbook_valid_answer\n",
    "from cuisine.cookbook import get_cookbook_test_question, get_cookbook_test_answer\n",
    "from cuisine.embedding import import_embedding, create_random_embedding, create_one_hot_embedding\n",
    "from cuisine.chef import make_recipe_embedding_data\n",
    "from cuisine.utils import move_to_top_directory\n",
    "\n",
    "move_to_top_directory()\n",
    "%pwd"
   ]
  },
  {
   "cell_type": "code",
   "execution_count": 2,
   "metadata": {},
   "outputs": [
    {
     "data": {
      "text/plain": [
       "{'recipe_id': 15,\n",
       " 'ingredients': [2866, 4243, 4362, 5377, 5408, 6187, 6352, 6568],\n",
       " 'kitchen_name': 'italian',\n",
       " 'kitchen_id': 5}"
      ]
     },
     "execution_count": 2,
     "metadata": {},
     "output_type": "execute_result"
    }
   ],
   "source": [
    "cookbook_train = get_cookbook_train()\n",
    "cookbook_valid_question = get_cookbook_valid_question()\n",
    "cookbook_valid_answer = get_cookbook_valid_answer()\n",
    "cookbook_test_question = get_cookbook_test_question()\n",
    "cookbook_test_answer = get_cookbook_test_answer()\n",
    "ingredient_list = get_ingredient_list()\n",
    "\n",
    "cookbook_train[15]"
   ]
  },
  {
   "cell_type": "code",
   "execution_count": 3,
   "metadata": {},
   "outputs": [
    {
     "name": "stdout",
     "output_type": "stream",
     "text": [
      "Training score 0.990 and validation score 0.698 and 0.673\n"
     ]
    }
   ],
   "source": [
    "embedding = create_one_hot_embedding(ingredient_list)\n",
    "\n",
    "X_train, y_train = make_recipe_embedding_data(cookbook_train, embedding, avg=False)\n",
    "X_valid, _       = make_recipe_embedding_data(cookbook_valid_question, embedding, avg=False)\n",
    "_      , y_valid = make_recipe_embedding_data(cookbook_valid_answer, embedding, avg=False)\n",
    "X_test , _       = make_recipe_embedding_data(cookbook_test_question, embedding, avg=False)\n",
    "_      , y_test  = make_recipe_embedding_data(cookbook_test_answer, embedding, avg=False)\n",
    "\n",
    "clf = LogisticRegression(penalty='l2', max_iter=100).fit(X_test, y_test)\n",
    "train_score = clf.score(X_test, y_test)\n",
    "valid_score = clf.score(X_valid, y_valid)\n",
    "test_score = clf.score(X_train, y_train)\n",
    "print(f\"Training score {train_score:.3f} and validation score {valid_score:.3f} and {test_score:.3f}\")"
   ]
  }
 ],
 "metadata": {
  "interpreter": {
   "hash": "8cf4680b4391a53e7010fa054fd4ba20b93408b742ac55ff056403c174e40d25"
  },
  "kernelspec": {
   "display_name": "Python 3.9.12 ('cuisine')",
   "language": "python",
   "name": "python3"
  },
  "language_info": {
   "codemirror_mode": {
    "name": "ipython",
    "version": 3
   },
   "file_extension": ".py",
   "mimetype": "text/x-python",
   "name": "python",
   "nbconvert_exporter": "python",
   "pygments_lexer": "ipython3",
   "version": "3.9.12"
  },
  "orig_nbformat": 4
 },
 "nbformat": 4,
 "nbformat_minor": 2
}
