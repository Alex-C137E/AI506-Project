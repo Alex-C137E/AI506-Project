{
  "nbformat": 4,
  "nbformat_minor": 0,
  "metadata": {
    "colab": {
      "name": "EmbeddingProject.ipynb",
      "provenance": [],
      "collapsed_sections": []
    },
    "kernelspec": {
      "name": "python3",
      "display_name": "Python 3"
    },
    "language_info": {
      "name": "python"
    }
  },
  "cells": [
    {
      "cell_type": "code",
      "execution_count": 1,
      "metadata": {
        "colab": {
          "base_uri": "https://localhost:8080/"
        },
        "id": "-ys4dwn42OzF",
        "outputId": "094348c6-e2fb-4346-a61d-fe1a09c510cf"
      },
      "outputs": [
        {
          "output_type": "stream",
          "name": "stdout",
          "text": [
            "Looking in indexes: https://pypi.org/simple, https://us-python.pkg.dev/colab-wheels/public/simple/\n",
            "Requirement already satisfied: gensim in /usr/local/lib/python3.7/dist-packages (3.6.0)\n",
            "Requirement already satisfied: scipy>=0.18.1 in /usr/local/lib/python3.7/dist-packages (from gensim) (1.4.1)\n",
            "Requirement already satisfied: six>=1.5.0 in /usr/local/lib/python3.7/dist-packages (from gensim) (1.15.0)\n",
            "Requirement already satisfied: smart-open>=1.2.1 in /usr/local/lib/python3.7/dist-packages (from gensim) (6.0.0)\n",
            "Requirement already satisfied: numpy>=1.11.3 in /usr/local/lib/python3.7/dist-packages (from gensim) (1.21.6)\n",
            "Looking in indexes: https://pypi.org/simple, https://us-python.pkg.dev/colab-wheels/public/simple/\n",
            "Collecting StellarGraph\n",
            "  Downloading stellargraph-1.2.1-py3-none-any.whl (435 kB)\n",
            "\u001b[K     |████████████████████████████████| 435 kB 22.4 MB/s \n",
            "\u001b[?25hRequirement already satisfied: tensorflow>=2.1.0 in /usr/local/lib/python3.7/dist-packages (from StellarGraph) (2.8.0+zzzcolab20220506162203)\n",
            "Requirement already satisfied: numpy>=1.14 in /usr/local/lib/python3.7/dist-packages (from StellarGraph) (1.21.6)\n",
            "Requirement already satisfied: scikit-learn>=0.20 in /usr/local/lib/python3.7/dist-packages (from StellarGraph) (1.0.2)\n",
            "Requirement already satisfied: pandas>=0.24 in /usr/local/lib/python3.7/dist-packages (from StellarGraph) (1.3.5)\n",
            "Requirement already satisfied: networkx>=2.2 in /usr/local/lib/python3.7/dist-packages (from StellarGraph) (2.6.3)\n",
            "Requirement already satisfied: matplotlib>=2.2 in /usr/local/lib/python3.7/dist-packages (from StellarGraph) (3.2.2)\n",
            "Requirement already satisfied: gensim>=3.4.0 in /usr/local/lib/python3.7/dist-packages (from StellarGraph) (3.6.0)\n",
            "Requirement already satisfied: scipy>=1.1.0 in /usr/local/lib/python3.7/dist-packages (from StellarGraph) (1.4.1)\n",
            "Requirement already satisfied: six>=1.5.0 in /usr/local/lib/python3.7/dist-packages (from gensim>=3.4.0->StellarGraph) (1.15.0)\n",
            "Requirement already satisfied: smart-open>=1.2.1 in /usr/local/lib/python3.7/dist-packages (from gensim>=3.4.0->StellarGraph) (6.0.0)\n",
            "Requirement already satisfied: python-dateutil>=2.1 in /usr/local/lib/python3.7/dist-packages (from matplotlib>=2.2->StellarGraph) (2.8.2)\n",
            "Requirement already satisfied: cycler>=0.10 in /usr/local/lib/python3.7/dist-packages (from matplotlib>=2.2->StellarGraph) (0.11.0)\n",
            "Requirement already satisfied: kiwisolver>=1.0.1 in /usr/local/lib/python3.7/dist-packages (from matplotlib>=2.2->StellarGraph) (1.4.2)\n",
            "Requirement already satisfied: pyparsing!=2.0.4,!=2.1.2,!=2.1.6,>=2.0.1 in /usr/local/lib/python3.7/dist-packages (from matplotlib>=2.2->StellarGraph) (3.0.9)\n",
            "Requirement already satisfied: typing-extensions in /usr/local/lib/python3.7/dist-packages (from kiwisolver>=1.0.1->matplotlib>=2.2->StellarGraph) (4.2.0)\n",
            "Requirement already satisfied: pytz>=2017.3 in /usr/local/lib/python3.7/dist-packages (from pandas>=0.24->StellarGraph) (2022.1)\n",
            "Requirement already satisfied: threadpoolctl>=2.0.0 in /usr/local/lib/python3.7/dist-packages (from scikit-learn>=0.20->StellarGraph) (3.1.0)\n",
            "Requirement already satisfied: joblib>=0.11 in /usr/local/lib/python3.7/dist-packages (from scikit-learn>=0.20->StellarGraph) (1.1.0)\n",
            "Requirement already satisfied: tensorflow-io-gcs-filesystem>=0.23.1 in /usr/local/lib/python3.7/dist-packages (from tensorflow>=2.1.0->StellarGraph) (0.26.0)\n",
            "Requirement already satisfied: wrapt>=1.11.0 in /usr/local/lib/python3.7/dist-packages (from tensorflow>=2.1.0->StellarGraph) (1.14.1)\n",
            "Requirement already satisfied: termcolor>=1.1.0 in /usr/local/lib/python3.7/dist-packages (from tensorflow>=2.1.0->StellarGraph) (1.1.0)\n",
            "Requirement already satisfied: astunparse>=1.6.0 in /usr/local/lib/python3.7/dist-packages (from tensorflow>=2.1.0->StellarGraph) (1.6.3)\n",
            "Requirement already satisfied: keras<2.9,>=2.8.0rc0 in /usr/local/lib/python3.7/dist-packages (from tensorflow>=2.1.0->StellarGraph) (2.8.0)\n",
            "Requirement already satisfied: google-pasta>=0.1.1 in /usr/local/lib/python3.7/dist-packages (from tensorflow>=2.1.0->StellarGraph) (0.2.0)\n",
            "Requirement already satisfied: flatbuffers>=1.12 in /usr/local/lib/python3.7/dist-packages (from tensorflow>=2.1.0->StellarGraph) (2.0)\n",
            "Requirement already satisfied: opt-einsum>=2.3.2 in /usr/local/lib/python3.7/dist-packages (from tensorflow>=2.1.0->StellarGraph) (3.3.0)\n",
            "Requirement already satisfied: setuptools in /usr/local/lib/python3.7/dist-packages (from tensorflow>=2.1.0->StellarGraph) (57.4.0)\n",
            "Requirement already satisfied: gast>=0.2.1 in /usr/local/lib/python3.7/dist-packages (from tensorflow>=2.1.0->StellarGraph) (0.5.3)\n",
            "Requirement already satisfied: tensorboard<2.9,>=2.8 in /usr/local/lib/python3.7/dist-packages (from tensorflow>=2.1.0->StellarGraph) (2.8.0)\n",
            "Requirement already satisfied: grpcio<2.0,>=1.24.3 in /usr/local/lib/python3.7/dist-packages (from tensorflow>=2.1.0->StellarGraph) (1.46.1)\n",
            "Requirement already satisfied: protobuf>=3.9.2 in /usr/local/lib/python3.7/dist-packages (from tensorflow>=2.1.0->StellarGraph) (3.17.3)\n",
            "Requirement already satisfied: absl-py>=0.4.0 in /usr/local/lib/python3.7/dist-packages (from tensorflow>=2.1.0->StellarGraph) (1.0.0)\n",
            "Requirement already satisfied: libclang>=9.0.1 in /usr/local/lib/python3.7/dist-packages (from tensorflow>=2.1.0->StellarGraph) (14.0.1)\n",
            "Collecting tf-estimator-nightly==2.8.0.dev2021122109\n",
            "  Downloading tf_estimator_nightly-2.8.0.dev2021122109-py2.py3-none-any.whl (462 kB)\n",
            "\u001b[K     |████████████████████████████████| 462 kB 48.7 MB/s \n",
            "\u001b[?25hRequirement already satisfied: keras-preprocessing>=1.1.1 in /usr/local/lib/python3.7/dist-packages (from tensorflow>=2.1.0->StellarGraph) (1.1.2)\n",
            "Requirement already satisfied: h5py>=2.9.0 in /usr/local/lib/python3.7/dist-packages (from tensorflow>=2.1.0->StellarGraph) (3.1.0)\n",
            "Requirement already satisfied: wheel<1.0,>=0.23.0 in /usr/local/lib/python3.7/dist-packages (from astunparse>=1.6.0->tensorflow>=2.1.0->StellarGraph) (0.37.1)\n",
            "Requirement already satisfied: cached-property in /usr/local/lib/python3.7/dist-packages (from h5py>=2.9.0->tensorflow>=2.1.0->StellarGraph) (1.5.2)\n",
            "Requirement already satisfied: google-auth<3,>=1.6.3 in /usr/local/lib/python3.7/dist-packages (from tensorboard<2.9,>=2.8->tensorflow>=2.1.0->StellarGraph) (1.35.0)\n",
            "Requirement already satisfied: tensorboard-plugin-wit>=1.6.0 in /usr/local/lib/python3.7/dist-packages (from tensorboard<2.9,>=2.8->tensorflow>=2.1.0->StellarGraph) (1.8.1)\n",
            "Requirement already satisfied: markdown>=2.6.8 in /usr/local/lib/python3.7/dist-packages (from tensorboard<2.9,>=2.8->tensorflow>=2.1.0->StellarGraph) (3.3.7)\n",
            "Requirement already satisfied: tensorboard-data-server<0.7.0,>=0.6.0 in /usr/local/lib/python3.7/dist-packages (from tensorboard<2.9,>=2.8->tensorflow>=2.1.0->StellarGraph) (0.6.1)\n",
            "Requirement already satisfied: requests<3,>=2.21.0 in /usr/local/lib/python3.7/dist-packages (from tensorboard<2.9,>=2.8->tensorflow>=2.1.0->StellarGraph) (2.23.0)\n",
            "Requirement already satisfied: werkzeug>=0.11.15 in /usr/local/lib/python3.7/dist-packages (from tensorboard<2.9,>=2.8->tensorflow>=2.1.0->StellarGraph) (1.0.1)\n",
            "Requirement already satisfied: google-auth-oauthlib<0.5,>=0.4.1 in /usr/local/lib/python3.7/dist-packages (from tensorboard<2.9,>=2.8->tensorflow>=2.1.0->StellarGraph) (0.4.6)\n",
            "Requirement already satisfied: pyasn1-modules>=0.2.1 in /usr/local/lib/python3.7/dist-packages (from google-auth<3,>=1.6.3->tensorboard<2.9,>=2.8->tensorflow>=2.1.0->StellarGraph) (0.2.8)\n",
            "Requirement already satisfied: rsa<5,>=3.1.4 in /usr/local/lib/python3.7/dist-packages (from google-auth<3,>=1.6.3->tensorboard<2.9,>=2.8->tensorflow>=2.1.0->StellarGraph) (4.8)\n",
            "Requirement already satisfied: cachetools<5.0,>=2.0.0 in /usr/local/lib/python3.7/dist-packages (from google-auth<3,>=1.6.3->tensorboard<2.9,>=2.8->tensorflow>=2.1.0->StellarGraph) (4.2.4)\n",
            "Requirement already satisfied: requests-oauthlib>=0.7.0 in /usr/local/lib/python3.7/dist-packages (from google-auth-oauthlib<0.5,>=0.4.1->tensorboard<2.9,>=2.8->tensorflow>=2.1.0->StellarGraph) (1.3.1)\n",
            "Requirement already satisfied: importlib-metadata>=4.4 in /usr/local/lib/python3.7/dist-packages (from markdown>=2.6.8->tensorboard<2.9,>=2.8->tensorflow>=2.1.0->StellarGraph) (4.11.3)\n",
            "Requirement already satisfied: zipp>=0.5 in /usr/local/lib/python3.7/dist-packages (from importlib-metadata>=4.4->markdown>=2.6.8->tensorboard<2.9,>=2.8->tensorflow>=2.1.0->StellarGraph) (3.8.0)\n",
            "Requirement already satisfied: pyasn1<0.5.0,>=0.4.6 in /usr/local/lib/python3.7/dist-packages (from pyasn1-modules>=0.2.1->google-auth<3,>=1.6.3->tensorboard<2.9,>=2.8->tensorflow>=2.1.0->StellarGraph) (0.4.8)\n",
            "Requirement already satisfied: certifi>=2017.4.17 in /usr/local/lib/python3.7/dist-packages (from requests<3,>=2.21.0->tensorboard<2.9,>=2.8->tensorflow>=2.1.0->StellarGraph) (2022.5.18.1)\n",
            "Requirement already satisfied: idna<3,>=2.5 in /usr/local/lib/python3.7/dist-packages (from requests<3,>=2.21.0->tensorboard<2.9,>=2.8->tensorflow>=2.1.0->StellarGraph) (2.10)\n",
            "Requirement already satisfied: urllib3!=1.25.0,!=1.25.1,<1.26,>=1.21.1 in /usr/local/lib/python3.7/dist-packages (from requests<3,>=2.21.0->tensorboard<2.9,>=2.8->tensorflow>=2.1.0->StellarGraph) (1.24.3)\n",
            "Requirement already satisfied: chardet<4,>=3.0.2 in /usr/local/lib/python3.7/dist-packages (from requests<3,>=2.21.0->tensorboard<2.9,>=2.8->tensorflow>=2.1.0->StellarGraph) (3.0.4)\n",
            "Requirement already satisfied: oauthlib>=3.0.0 in /usr/local/lib/python3.7/dist-packages (from requests-oauthlib>=0.7.0->google-auth-oauthlib<0.5,>=0.4.1->tensorboard<2.9,>=2.8->tensorflow>=2.1.0->StellarGraph) (3.2.0)\n",
            "Installing collected packages: tf-estimator-nightly, StellarGraph\n",
            "Successfully installed StellarGraph-1.2.1 tf-estimator-nightly-2.8.0.dev2021122109\n"
          ]
        }
      ],
      "source": [
        "!pip install gensim\n",
        "!pip install StellarGraph"
      ]
    },
    {
      "cell_type": "code",
      "source": [
        "import numpy as np\n",
        "import pandas as pd\n",
        "import networkx as nx\n",
        "from stellargraph.data import BiasedRandomWalk\n",
        "from stellargraph import StellarGraph\n",
        "from gensim.models import Word2Vec\n",
        "import csv\n",
        "from torch.utils.data import TensorDataset, DataLoader\n",
        "import torch\n",
        "import torch.nn as nn\n",
        "from torch.autograd import Variable"
      ],
      "metadata": {
        "id": "yXE3ZcWh2eMb"
      },
      "execution_count": 2,
      "outputs": []
    },
    {
      "cell_type": "markdown",
      "source": [
        "Extract information from train.csv"
      ],
      "metadata": {
        "id": "T54Rc8Tw2_Uw"
      }
    },
    {
      "cell_type": "code",
      "source": [
        "#Get train.csv data\n",
        "df = pd.read_csv('train.csv', header=None, sep='\\n')\n",
        "df = df[0].str.split(',', expand=True) "
      ],
      "metadata": {
        "id": "WZTCd1g02vni"
      },
      "execution_count": 3,
      "outputs": []
    },
    {
      "cell_type": "code",
      "source": [
        "#Get ingredient id\n",
        "df2 = pd.read_fwf('node_ingredient.csv', header=None)\n",
        "idToNode = {}\n",
        "for index , row in df2.iterrows():\n",
        "  idToNode[index] = row[0]"
      ],
      "metadata": {
        "id": "zF2GlBP620U2"
      },
      "execution_count": 4,
      "outputs": []
    },
    {
      "cell_type": "code",
      "source": [
        "idToNode"
      ],
      "metadata": {
        "colab": {
          "base_uri": "https://localhost:8080/"
        },
        "id": "dnPC6hXmFQM_",
        "outputId": "409cced1-89a1-4877-f471-937d4d3feb7c"
      },
      "execution_count": 64,
      "outputs": [
        {
          "output_type": "execute_result",
          "data": {
            "text/plain": [
              "{0: 'coca-cola',\n",
              " 1: 'vegan butter',\n",
              " 2: 'sourdough rolls',\n",
              " 3: 'reduced sodium refried beans',\n",
              " 4: 'ramen noodles',\n",
              " 5: 'crumbled corn bread',\n",
              " 6: 'japanese breadcrumbs',\n",
              " 7: 'toasted shredded coconut',\n",
              " 8: 'chinese spinach',\n",
              " 9: \"Hellmann's® Real Mayonnaise\",\n",
              " 10: 'ducklings',\n",
              " 11: 'basil olive oil',\n",
              " 12: 'white baking bar',\n",
              " 13: 'rye whiskey',\n",
              " 14: 'mushroom broth',\n",
              " 15: 'meat loaf mix',\n",
              " 16: 'cocktail sauce',\n",
              " 17: 'asparagus spears',\n",
              " 18: 'nonfat greek yogurt',\n",
              " 19: 'cabernet sauvignon',\n",
              " 20: 'low sodium tomato sauce',\n",
              " 21: 'shredded colby',\n",
              " 22: 'dried dillweed',\n",
              " 23: 'frozen potatoes',\n",
              " 24: 'hot dog bun',\n",
              " 25: 'balm leaves',\n",
              " 26: 'lo mein noodles',\n",
              " 27: 'green split peas',\n",
              " 28: 'celery leaves',\n",
              " 29: 'butterflied leg of lamb',\n",
              " 30: 'refrigerated piecrusts',\n",
              " 31: 'cajun spice mix',\n",
              " 32: 'finely chopped onion',\n",
              " 33: 'chili bean sauce',\n",
              " 34: 'brown rice',\n",
              " 35: 'cutlet',\n",
              " 36: 'beef jerky',\n",
              " 37: 'lemon grass',\n",
              " 38: 'ground walnuts',\n",
              " 39: 'kinchay',\n",
              " 40: 'macarons',\n",
              " 41: 'crème de cassis',\n",
              " 42: 'tiger lily buds',\n",
              " 43: 'sour salt',\n",
              " 44: 'Johnsonville Andouille',\n",
              " 45: 'baby beets',\n",
              " 46: 'dry red wine',\n",
              " 47: 'escarole',\n",
              " 48: 'ground sausage',\n",
              " 49: 'rye flour',\n",
              " 50: 'seedless watermelon',\n",
              " 51: 'adobo sauce',\n",
              " 52: 'duck fat',\n",
              " 53: 'seltzer',\n",
              " 54: 'low sodium diced tomatoes',\n",
              " 55: 'chips',\n",
              " 56: 'great northern beans',\n",
              " 57: 'fresh lima beans',\n",
              " 58: 'ham',\n",
              " 59: 'green onions',\n",
              " 60: 'manicotti',\n",
              " 61: 'malt vinegar',\n",
              " 62: 'stolichnaya',\n",
              " 63: 'ground pork',\n",
              " 64: 'Knox unflavored gelatin',\n",
              " 65: 'green leaf lettuce',\n",
              " 66: 'cherry vanilla ice cream',\n",
              " 67: 'bread crumb fresh',\n",
              " 68: 'dal',\n",
              " 69: 'creole seasoning',\n",
              " 70: 'sausages',\n",
              " 71: 'black tea',\n",
              " 72: 'chorizo spanish',\n",
              " 73: 'collard leaves',\n",
              " 74: 'dried tarragon leaves',\n",
              " 75: 'potato rolls',\n",
              " 76: 'char siu',\n",
              " 77: 'condensed cream of mushroom soup',\n",
              " 78: 'margarine spread',\n",
              " 79: 'samphire',\n",
              " 80: 'dried thyme',\n",
              " 81: 'ruby red grapefruit',\n",
              " 82: 'strawberry syrup',\n",
              " 83: 'frozen orange juice concentrate,',\n",
              " 84: 'unsalted cashews',\n",
              " 85: 'scape pesto',\n",
              " 86: 'ground espresso',\n",
              " 87: 'light red kidney beans',\n",
              " 88: 'swiss steak',\n",
              " 89: 'gobo root',\n",
              " 90: 'pickle spears',\n",
              " 91: 'cooked bacon',\n",
              " 92: 'Japanese Mayonnaise',\n",
              " 93: 'shuck corn',\n",
              " 94: 'whole milk ricotta cheese',\n",
              " 95: 'lychees',\n",
              " 96: 'smoked pork',\n",
              " 97: 'chopmeat',\n",
              " 98: 'tuna packed in olive oil',\n",
              " 99: 'harissa sauce',\n",
              " 100: 'crystallized ginger',\n",
              " 101: 'beef shoulder',\n",
              " 102: 'hamburger buns',\n",
              " 103: 'mint sauce',\n",
              " 104: 'nut oil',\n",
              " 105: 'rolls',\n",
              " 106: 'horseradish',\n",
              " 107: 'bhindi',\n",
              " 108: 'ciabatta loaf',\n",
              " 109: 'hominy',\n",
              " 110: 'eggnog',\n",
              " 111: 'chilli paste',\n",
              " 112: 'dried fig',\n",
              " 113: 'Jagermeister Liqueur',\n",
              " 114: 'bamboo shoots',\n",
              " 115: 'habanero chile',\n",
              " 116: 'laksa paste',\n",
              " 117: 'broccoli slaw',\n",
              " 118: 'parsnips',\n",
              " 119: 'chopped bell pepper',\n",
              " 120: 'fresh lime',\n",
              " 121: 'coffee low-fat frozen yogurt',\n",
              " 122: 'sumac',\n",
              " 123: 'do chua',\n",
              " 124: 'herb seasoned stuffing mix',\n",
              " 125: 'milk chocolate chips',\n",
              " 126: 'regular soy sauce',\n",
              " 127: 'orange flower water',\n",
              " 128: 'tomate verde',\n",
              " 129: 'black mushrooms',\n",
              " 130: 'Herdez Salsa',\n",
              " 131: 'hazelnut flour',\n",
              " 132: 'Madras curry powder',\n",
              " 133: 'store-bought pound cake',\n",
              " 134: 'chocolate sandwich cookies',\n",
              " 135: 'oil cured olives',\n",
              " 136: 'refrigerated dinner rolls',\n",
              " 137: 'cardamom pods',\n",
              " 138: 'Kraft Extra Sharp Cheddar Cheese',\n",
              " 139: 'fish stock',\n",
              " 140: 'hachiya',\n",
              " 141: 'tilapia',\n",
              " 142: 'gai lan',\n",
              " 143: 'framboise liqueur',\n",
              " 144: 'turkey breast deli meat',\n",
              " 145: 'skirt steak',\n",
              " 146: 'sauce mix',\n",
              " 147: 'nonfat milk powder',\n",
              " 148: 'pico de gallo',\n",
              " 149: 'shichimi togarashi',\n",
              " 150: 'fillet steaks',\n",
              " 151: 'umeboshi vinegar',\n",
              " 152: 'chrysanthemum',\n",
              " 153: 'tree ear mushrooms',\n",
              " 154: 'shrimp',\n",
              " 155: 'olive oil mayonnaise',\n",
              " 156: 'apple pie spice',\n",
              " 157: 'orange pekoe tea',\n",
              " 158: 'peeled canned low sodium tomatoe',\n",
              " 159: 'raki',\n",
              " 160: 'low-fat soft goat cheese',\n",
              " 161: 'green tomato relish',\n",
              " 162: 'bean paste',\n",
              " 163: 'chorizo sausage',\n",
              " 164: 'frozen blackberries',\n",
              " 165: 'frozen popcorn chicken',\n",
              " 166: 'cream ic peach',\n",
              " 167: 'vegetable oil',\n",
              " 168: 'meat-filled tortellini',\n",
              " 169: 'regular sugar',\n",
              " 170: 'pork',\n",
              " 171: 'green tea powder',\n",
              " 172: 'sultana',\n",
              " 173: 'fresh yeast',\n",
              " 174: 'deveined shrimp',\n",
              " 175: 'mixed spice',\n",
              " 176: 'earl grey tea leaves',\n",
              " 177: 'peach nectar',\n",
              " 178: 'powdered turmeric',\n",
              " 179: 'candied fruit',\n",
              " 180: 'green garlic',\n",
              " 181: 'anise extract',\n",
              " 182: 'vegetable broth',\n",
              " 183: 'dried pappardelle',\n",
              " 184: 'striped bass',\n",
              " 185: 'curaçao',\n",
              " 186: 'orange juice',\n",
              " 187: 'canela',\n",
              " 188: 'lily flowers',\n",
              " 189: 'Flora pro.activ',\n",
              " 190: 'wish-bone light country italian',\n",
              " 191: 'unhulled sesame seeds',\n",
              " 192: 'winter savory',\n",
              " 193: 'sauvignon blanc',\n",
              " 194: 'cointreau liqueur',\n",
              " 195: 'corn flakes',\n",
              " 196: 'malted milk powder',\n",
              " 197: 'silver dragees',\n",
              " 198: 'montreal steak seasoning',\n",
              " 199: 'cured pork',\n",
              " 200: 'rotelle',\n",
              " 201: 'muscadet',\n",
              " 202: 'gluten free soy sauce',\n",
              " 203: 'sea salt',\n",
              " 204: 'soft fresh goat cheese',\n",
              " 205: 'candy',\n",
              " 206: 'crushed saltines',\n",
              " 207: 'frozen peas',\n",
              " 208: 'banana peppers',\n",
              " 209: 'pastry dough',\n",
              " 210: 'italian seasoning',\n",
              " 211: 'French mustard',\n",
              " 212: 'whiskey',\n",
              " 213: 'jamaican jerk marinade',\n",
              " 214: 'yukon gold',\n",
              " 215: 'small white beans',\n",
              " 216: 'rioja',\n",
              " 217: 'Wish-Bone Italian Dressing',\n",
              " 218: 'peach schnapps',\n",
              " 219: 'chestnut spread',\n",
              " 220: 'treacle',\n",
              " 221: 'pork sausages',\n",
              " 222: 'kimchi',\n",
              " 223: 'tomato basil sauce',\n",
              " 224: 'full fat cream cheese',\n",
              " 225: 'turkey hot dogs',\n",
              " 226: 'hamburger',\n",
              " 227: 'chocolate-hazelnut spread',\n",
              " 228: 'ruby port',\n",
              " 229: 'aleppo pepper',\n",
              " 230: 'oleo',\n",
              " 231: 'reduced sodium vegetable stock',\n",
              " 232: 'pound cake mix',\n",
              " 233: 'dashi',\n",
              " 234: 'taco seasoning',\n",
              " 235: 'awase miso',\n",
              " 236: 'Zatarain’s Jambalaya Mix',\n",
              " 237: 'kiwifruit',\n",
              " 238: 'back bacon rashers',\n",
              " 239: 'frozen whipped topping',\n",
              " 240: 'lemon pepper seasoning',\n",
              " 241: 'stewed tomatoes',\n",
              " 242: 'regular sour cream',\n",
              " 243: 'ground paprika',\n",
              " 244: 'fresh flounder fillets',\n",
              " 245: 'herring fillets',\n",
              " 246: 'kidney beans',\n",
              " 247: 'Splenda Brown Sugar Blend',\n",
              " 248: 'plain flour',\n",
              " 249: 'habanero',\n",
              " 250: 'disco empanada frozen',\n",
              " 251: 'whole wheat potato buns',\n",
              " 252: 'semolina flour',\n",
              " 253: 'virginia ham',\n",
              " 254: 'melon',\n",
              " 255: 'caramel topping',\n",
              " 256: 'rump steak',\n",
              " 257: 'vanilla instant pudding',\n",
              " 258: 'european style butter',\n",
              " 259: 'ham hock',\n",
              " 260: \"Old El Paso™ Thick 'n Chunky sal\",\n",
              " 261: 'guacamole seasoning mix',\n",
              " 262: 'nori paper',\n",
              " 263: 'kalonji',\n",
              " 264: 'dill tips',\n",
              " 265: 'fresh lime juice',\n",
              " 266: 'unsweetened dried coconut',\n",
              " 267: 'shelled hemp seeds',\n",
              " 268: 'liquid honey',\n",
              " 269: 'thin spaghetti',\n",
              " 270: 'low-fat cottage cheese',\n",
              " 271: 'whole snapper',\n",
              " 272: 'sweetened coconut',\n",
              " 273: 'vegan coffee creamer',\n",
              " 274: 'fresh parsley leaves',\n",
              " 275: 'Maggi',\n",
              " 276: 'yucca',\n",
              " 277: 'sweet onion',\n",
              " 278: 'vine ripened tomatoes',\n",
              " 279: 'relish',\n",
              " 280: 'slab bacon',\n",
              " 281: 'flour',\n",
              " 282: 'gooseberries',\n",
              " 283: 'compote',\n",
              " 284: 'shredded carrots',\n",
              " 285: 'pâte brisée',\n",
              " 286: 'Diamond Crystal® Kosher Salt',\n",
              " 287: 'ground round',\n",
              " 288: 'chiltepín',\n",
              " 289: 'pasilla chiles',\n",
              " 290: 'wild garlic',\n",
              " 291: 'rub',\n",
              " 292: 'walnut pieces',\n",
              " 293: 'taro leaf',\n",
              " 294: 'meat filling',\n",
              " 295: 'chili oil',\n",
              " 296: 'smoked haddock fillet',\n",
              " 297: 'cole slaw mix',\n",
              " 298: 'yogurt low fat',\n",
              " 299: 'sponge',\n",
              " 300: 'flavored wine',\n",
              " 301: 'peanut sauce',\n",
              " 302: 'piloncillo',\n",
              " 303: 'mostaccioli',\n",
              " 304: 'Jonshonville® Cajun Style Chicke',\n",
              " 305: 'all beef hot dogs',\n",
              " 306: 'roux',\n",
              " 307: 'country crock honey spread',\n",
              " 308: 'fresh cilantro',\n",
              " 309: 'light butter',\n",
              " 310: 'Italian parsley leaves',\n",
              " 311: 'winter squash',\n",
              " 312: 'salted roasted almonds',\n",
              " 313: 'wondra flour',\n",
              " 314: 'dried plum',\n",
              " 315: 'chinese pea pods',\n",
              " 316: 'cookies',\n",
              " 317: 'thyme leaves',\n",
              " 318: 'dark muscovado sugar',\n",
              " 319: 'refrigerated biscuits',\n",
              " 320: 'California bay leaves',\n",
              " 321: 'whole turkey',\n",
              " 322: 'au jus gravy',\n",
              " 323: 'fresh rosemary',\n",
              " 324: 'boneless turkey breast',\n",
              " 325: 'komatsuna',\n",
              " 326: 'reduced sugar ketchup',\n",
              " 327: 'beef tenderloin steaks',\n",
              " 328: 'lemon cucumber',\n",
              " 329: 'prosciutto fat',\n",
              " 330: 'Wish-Bone Light Italian Dressing',\n",
              " 331: 'passion fruit',\n",
              " 332: 'avocado',\n",
              " 333: 'blackening seasoning',\n",
              " 334: 'Spice Islands Garlic Salt',\n",
              " 335: 'cho-cho',\n",
              " 336: 'bulb fennel',\n",
              " 337: 'brown hash potato',\n",
              " 338: 'vegan margarine',\n",
              " 339: 'knorr pasta side',\n",
              " 340: 'chowchow',\n",
              " 341: 'waxy potatoes',\n",
              " 342: 'chili pepper',\n",
              " 343: 'pork chops, 1 inch thick',\n",
              " 344: 'grating cheese',\n",
              " 345: 'center cut pork loin chops',\n",
              " 346: 'ghee',\n",
              " 347: 'ground almonds',\n",
              " 348: 'accent',\n",
              " 349: 'Tamari Tamari',\n",
              " 350: 'stevia extract',\n",
              " 351: 'canned beef broth',\n",
              " 352: 'lamb leg',\n",
              " 353: 'grated cauliflower',\n",
              " 354: 'Heinz Tomato Ketchup',\n",
              " 355: 'low sodium chicken',\n",
              " 356: 'chili bean paste',\n",
              " 357: 'red grapefruit juice',\n",
              " 358: 'italian seasoning mix',\n",
              " 359: 'bass fillets',\n",
              " 360: 'poi',\n",
              " 361: 'chinese chives',\n",
              " 362: 'tart cherries',\n",
              " 363: 'harissa',\n",
              " 364: 'split peas',\n",
              " 365: 'flounder',\n",
              " 366: 'diced green chilies',\n",
              " 367: 'soy bean paste',\n",
              " 368: 'key lime',\n",
              " 369: 'vegetable slaw',\n",
              " 370: 'teleme',\n",
              " 371: 'whole wheat pita bread',\n",
              " 372: 'stem ginger',\n",
              " 373: 'chipotle sauce',\n",
              " 374: 'squash blossoms',\n",
              " 375: 'red currant jelly',\n",
              " 376: 'unsalted roasted pistachios',\n",
              " 377: 'seasoned bread crumbs',\n",
              " 378: 'bittersweet chocolate chips',\n",
              " 379: 'crawfish',\n",
              " 380: 'rubbed sage',\n",
              " 381: 'cod fillets',\n",
              " 382: 'fennel fronds',\n",
              " 383: 'elbow macaroni',\n",
              " 384: 'cassava',\n",
              " 385: 'sweet gherkin',\n",
              " 386: 'crab boil',\n",
              " 387: 'cold-smoked salmon',\n",
              " 388: 'leftover steak',\n",
              " 389: 'crosswise',\n",
              " 390: 'Breakstone’s Sour Cream',\n",
              " 391: 'dumplings',\n",
              " 392: 'grilled chicken breasts',\n",
              " 393: 'corn grits',\n",
              " 394: 'back ribs',\n",
              " 395: 'meat stock',\n",
              " 396: 'pork sirloin chops',\n",
              " 397: 'udon',\n",
              " 398: 'bonito flakes',\n",
              " 399: 'dark soy sauce',\n",
              " 400: 'passata',\n",
              " 401: 'long grain white rice',\n",
              " 402: 'lamb shoulder chops',\n",
              " 403: 'bbq seasoning',\n",
              " 404: 'acini di pepe',\n",
              " 405: 'pizza seasoning',\n",
              " 406: 'low-fat parmesan cheese',\n",
              " 407: 'pickled okra',\n",
              " 408: 'baking sugar',\n",
              " 409: 'pears',\n",
              " 410: '33% less sodium ham',\n",
              " 411: 'egg yolks',\n",
              " 412: 'sea cucumber',\n",
              " 413: 'pork sirloin roast',\n",
              " 414: 'pasta rotel',\n",
              " 415: 'yellow split peas',\n",
              " 416: 'maple flavored extract',\n",
              " 417: 'cooked beetroot',\n",
              " 418: 'marsala wine',\n",
              " 419: 'burgundy snails',\n",
              " 420: 'sweet potatoes or yams',\n",
              " 421: 'edamame beans',\n",
              " 422: 'nopalitos',\n",
              " 423: 'turnips',\n",
              " 424: 'grated romano cheese',\n",
              " 425: 'tri-tip roast',\n",
              " 426: '33% less sodium cooked deli ham',\n",
              " 427: 'colby jack cheese',\n",
              " 428: 'cake mix or white yellow',\n",
              " 429: 'Cointreau Liqueur',\n",
              " 430: 'black garlic',\n",
              " 431: 'dill seed',\n",
              " 432: 'garlic olive oil',\n",
              " 433: 'deviled ham',\n",
              " 434: 'chipotle salsa',\n",
              " 435: 'bourbon liqueur',\n",
              " 436: 'scallops',\n",
              " 437: 'Rotel Diced Tomatoes & Green Chi',\n",
              " 438: 'pumpernickel bread',\n",
              " 439: 'frozen edamame beans',\n",
              " 440: 'Italian herbs',\n",
              " 441: 'Argo Corn Starch',\n",
              " 442: 'nutritional yeast flakes',\n",
              " 443: 'gumbo file powder',\n",
              " 444: 'elbow pasta',\n",
              " 445: 'romaine lettuce hearts',\n",
              " 446: 'dijon',\n",
              " 447: 'Goya Ground Cumin',\n",
              " 448: 'sushi vinegar',\n",
              " 449: 'reduced sodium smoked ham',\n",
              " 450: 'cassis liqueur',\n",
              " 451: 'small red potato',\n",
              " 452: 'cream sherry',\n",
              " 453: 'kochu chang',\n",
              " 454: 'blood sausage',\n",
              " 455: 'tropical fruits',\n",
              " 456: 'beef soup bones',\n",
              " 457: 'vodka sauce',\n",
              " 458: 'bean curd skins',\n",
              " 459: 'miniature chocolate chips',\n",
              " 460: 'boneless chicken',\n",
              " 461: 'orange blossom extract',\n",
              " 462: 'bulgur',\n",
              " 463: 'steak tips',\n",
              " 464: 'low-fat cheese',\n",
              " 465: 'Mexican lager beer',\n",
              " 466: 'Ciabatta rolls',\n",
              " 467: 'squid',\n",
              " 468: 'vanilla frozen yogurt',\n",
              " 469: 'tomato sauce',\n",
              " 470: 'Crystal Farms Butter',\n",
              " 471: 'virgin coconut oil',\n",
              " 472: 'cayenne pepper sauce',\n",
              " 473: 'cremini mushrooms',\n",
              " 474: 'black tea leaves',\n",
              " 475: 'sesame seeds buns',\n",
              " 476: 'sweet yellow corn',\n",
              " 477: 'scallion greens',\n",
              " 478: 'lamb steaks',\n",
              " 479: 'oxtails',\n",
              " 480: 'white bread flour',\n",
              " 481: 'tapioca starch',\n",
              " 482: 'fish balls',\n",
              " 483: 'ginkgo nut',\n",
              " 484: 'whole wheat buns',\n",
              " 485: 'reduced sodium reduced fat cream',\n",
              " 486: 'pork shoulder roast',\n",
              " 487: 'McCormick Parsley Flakes',\n",
              " 488: 'turkey mince',\n",
              " 489: 'pheasant',\n",
              " 490: 'cubed ham',\n",
              " 491: 'orange slices',\n",
              " 492: 'bottled lime juice',\n",
              " 493: 'paccheri',\n",
              " 494: 'pig feet',\n",
              " 495: 'carpaccio',\n",
              " 496: 'epazote',\n",
              " 497: 'country gravy',\n",
              " 498: 'rib roast',\n",
              " 499: 'cottage cheese',\n",
              " 500: 'turkey meatballs',\n",
              " 501: 'agar',\n",
              " 502: 'gelatin',\n",
              " 503: 'beef roast',\n",
              " 504: 'bouillon granules',\n",
              " 505: 'tomato garlic pasta sauce',\n",
              " 506: 'longaniza',\n",
              " 507: 'pancit',\n",
              " 508: 'barbecue sauce',\n",
              " 509: 'unsalted chicken stock',\n",
              " 510: 'Japanese mountain yam',\n",
              " 511: 'roquefort',\n",
              " 512: 'orange rind',\n",
              " 513: 'cheese',\n",
              " 514: 'cabernet',\n",
              " 515: 'sweet white wine',\n",
              " 516: 'beni shoga',\n",
              " 517: 'filo dough',\n",
              " 518: \"Piment d'Espelette\",\n",
              " 519: 'spinach',\n",
              " 520: 'bottom round',\n",
              " 521: 'Sargento® Traditional Cut Shredd',\n",
              " 522: 'moroccan seasoning',\n",
              " 523: 'Mountain Dew Soda',\n",
              " 524: 'jambalaya rice mix',\n",
              " 525: 'swanson chicken stock',\n",
              " 526: 'spring onions',\n",
              " 527: 'granulated sugar',\n",
              " 528: '2 1/2 to 3 lb. chicken, cut into',\n",
              " 529: 'trout fillet',\n",
              " 530: 'chicken broth',\n",
              " 531: 'boneless chicken breast halves',\n",
              " 532: 'chinese ham',\n",
              " 533: 'aged gouda',\n",
              " 534: 'pink grapefruit',\n",
              " 535: 'shredded romano cheese',\n",
              " 536: 'curry paste',\n",
              " 537: 'bee pollen',\n",
              " 538: 'liquid aminos',\n",
              " 539: 'thyme sprigs',\n",
              " 540: 'fennel',\n",
              " 541: 'Pale Ale',\n",
              " 542: 'flat anchovy',\n",
              " 543: 'strawberry jam',\n",
              " 544: 'low-fat mozzarella cheese',\n",
              " 545: 'dried Thai chili',\n",
              " 546: 'demerara sugar',\n",
              " 547: 'ahi',\n",
              " 548: 'candied ginger',\n",
              " 549: 'garlic puree',\n",
              " 550: 'light sour cream',\n",
              " 551: 'snails',\n",
              " 552: 'worcestershire sauce',\n",
              " 553: 'frozen blueberries',\n",
              " 554: 'refried beans',\n",
              " 555: 'muffin',\n",
              " 556: 'lavender buds',\n",
              " 557: 'dried chives',\n",
              " 558: 'popcorn kernels',\n",
              " 559: 'dashi powder',\n",
              " 560: 'ti leaves',\n",
              " 561: 'lemongrass',\n",
              " 562: 'low-fat cream cheese',\n",
              " 563: 'shahi jeera',\n",
              " 564: 'fresh lavender',\n",
              " 565: 'whole wheat hamburger buns',\n",
              " 566: 'ground peppercorn',\n",
              " 567: 'brown butter',\n",
              " 568: 'light cream or half and half',\n",
              " 569: 'lotus seeds',\n",
              " 570: 'beau monde seasoning',\n",
              " 571: 'sweet turkey sausage',\n",
              " 572: 'adobo',\n",
              " 573: 'manouri',\n",
              " 574: 'dried bonito flakes',\n",
              " 575: 'Sugar in the Raw',\n",
              " 576: 'bone in skinless chicken thigh',\n",
              " 577: 'andouille turkey sausages',\n",
              " 578: 'cooked meatballs',\n",
              " 579: 'minced garlic',\n",
              " 580: 'drippings',\n",
              " 581: 'sea scallops',\n",
              " 582: 'beef tendons',\n",
              " 583: 'praline topping',\n",
              " 584: 'orange segments',\n",
              " 585: 'bacon',\n",
              " 586: 'soft sandwich rolls',\n",
              " 587: 'beef marrow',\n",
              " 588: 'lacinato kale',\n",
              " 589: 'browning',\n",
              " 590: 'lasagna sheets',\n",
              " 591: 'pepperoni',\n",
              " 592: 'Pompeian Canola Oil and Extra Vi',\n",
              " 593: 'squabs',\n",
              " 594: 'dulce de leche',\n",
              " 595: 'KNUDSEN 2% Milkfat Low Fat Cotta',\n",
              " 596: 'pineapple slices',\n",
              " 597: 'Knorr® Fiesta Sides™ - Mexican R',\n",
              " 598: 'truffle butter',\n",
              " 599: 'green curry paste',\n",
              " 600: 'Pillsbury™ Refrigerated Crescent',\n",
              " 601: 'sparkling sangria tradicional',\n",
              " 602: 'ground pepper',\n",
              " 603: 'fusilli',\n",
              " 604: 'thyme',\n",
              " 605: 'medium zucchini',\n",
              " 606: 'earl grey tea bags',\n",
              " 607: 'atta',\n",
              " 608: 'reduced sodium kidney beans',\n",
              " 609: 'whole wheat peasant bread',\n",
              " 610: 'huckleberries',\n",
              " 611: 'mackerel',\n",
              " 612: 'low sodium chili sauce',\n",
              " 613: 'butter-margarine blend',\n",
              " 614: 'whole wheat uncooked lasagna noo',\n",
              " 615: 'red kidney beans',\n",
              " 616: 'anisette',\n",
              " 617: 'prune juice',\n",
              " 618: 'sambuca',\n",
              " 619: 'fresca',\n",
              " 620: 'low sodium fat free vegetable br',\n",
              " 621: 'lecithin',\n",
              " 622: 'apple juice',\n",
              " 623: 'soybean paste',\n",
              " 624: 'ground cashew',\n",
              " 625: 'Green Giant Whole Kernel Sweet C',\n",
              " 626: 'lipton green tea bag',\n",
              " 627: 'nori sheets',\n",
              " 628: 'bay leaf',\n",
              " 629: 'savory',\n",
              " 630: 'cacao nibs',\n",
              " 631: 'hard-boiled egg',\n",
              " 632: 'lemon slices',\n",
              " 633: 'margarita salt',\n",
              " 634: 'gingersnap',\n",
              " 635: 'peaches',\n",
              " 636: 'fettucine',\n",
              " 637: 'pimenton de la vera',\n",
              " 638: 'Margherita Pepperoni',\n",
              " 639: 'karo',\n",
              " 640: 'vanilla cake mix',\n",
              " 641: 'chile bean paste',\n",
              " 642: 'tangerine juice',\n",
              " 643: 'diced red onions',\n",
              " 644: 'jerk paste',\n",
              " 645: 'Crystal Farms Shredded Gouda Che',\n",
              " 646: 'chees fresco queso',\n",
              " 647: 'kewra water',\n",
              " 648: 'double crust pie',\n",
              " 649: 'summer savory',\n",
              " 650: 'brie cheese',\n",
              " 651: 'chinese ginger',\n",
              " 652: 'zest',\n",
              " 653: 'mixed frozen seafood',\n",
              " 654: 'chicken gravy mix',\n",
              " 655: 'Stonefire Tandoori Garlic Naan',\n",
              " 656: 'lipton tea bags',\n",
              " 657: 'pepper sauce',\n",
              " 658: 'white beans',\n",
              " 659: 'tom yum paste',\n",
              " 660: 'roasted sesame seeds',\n",
              " 661: 'spicy sausage',\n",
              " 662: 'turkey gravy',\n",
              " 663: 'chinese noodles',\n",
              " 664: 'kahlúa',\n",
              " 665: 'preshred low fat mozzarella chee',\n",
              " 666: 'steel-cut oats',\n",
              " 667: 'crab claws',\n",
              " 668: 'rock cornish game hens',\n",
              " 669: 'wheat berries',\n",
              " 670: 'shells',\n",
              " 671: 'cooked steak',\n",
              " 672: 'red anjou pears',\n",
              " 673: 'lemon zest',\n",
              " 674: 'yellow tomato',\n",
              " 675: 'chicken feet',\n",
              " 676: 'tvp',\n",
              " 677: 'pumpkinseed kernels',\n",
              " 678: 'double crust',\n",
              " 679: 'demi baguette',\n",
              " 680: 'tatsoi',\n",
              " 681: 'pastry shell',\n",
              " 682: 'extra large eggs',\n",
              " 683: \"BREAKSTONE'S Sour Cream\",\n",
              " 684: 'tortilla chips',\n",
              " 685: 'Fuji Apple',\n",
              " 686: 'brown ale',\n",
              " 687: 'crushed cheese crackers',\n",
              " 688: 'light chicken stock',\n",
              " 689: 'poppy seed filling',\n",
              " 690: 'peppermint extract',\n",
              " 691: 'root vegetables',\n",
              " 692: 'sichuan peppercorn oil',\n",
              " 693: 'smoked hog jowl',\n",
              " 694: 'ground red pepper',\n",
              " 695: 'hazelnut meal',\n",
              " 696: 'Chinese egg noodles',\n",
              " 697: 'fillet medallions',\n",
              " 698: 'bread',\n",
              " 699: 'fiddlehead ferns',\n",
              " 700: 'sea bass fillets',\n",
              " 701: 'coconut extract',\n",
              " 702: 'strawberry yogurt',\n",
              " 703: 'sprinkles',\n",
              " 704: 'pecan pie',\n",
              " 705: 'angel food cake mix',\n",
              " 706: 'crème de framboise',\n",
              " 707: 'Asian chili sauce',\n",
              " 708: 'goji berries',\n",
              " 709: 'seltzer water',\n",
              " 710: 'mint syrup',\n",
              " 711: 'shredded bamboo',\n",
              " 712: 'applesauce',\n",
              " 713: 'Alexia Waffle Fries',\n",
              " 714: 'pound cake',\n",
              " 715: 'ficelle',\n",
              " 716: 'whole wheat bread toasted',\n",
              " 717: 'onion slices',\n",
              " 718: 'calf liver',\n",
              " 719: 'fresh onion',\n",
              " 720: 'chopped fresh mint',\n",
              " 721: 'large marshmallows',\n",
              " 722: 'white poppy seeds',\n",
              " 723: 'flower petals',\n",
              " 724: 'chanterelle',\n",
              " 725: 'vanilla cream',\n",
              " 726: 'gumbo file',\n",
              " 727: 'rib',\n",
              " 728: 'chuno sauce',\n",
              " 729: 'lop chong',\n",
              " 730: 'Foster Farms boneless skinless c',\n",
              " 731: 'okra',\n",
              " 732: 'buffalo',\n",
              " 733: 'cooked shrimp',\n",
              " 734: 'canned chicken breast',\n",
              " 735: 'ic pop',\n",
              " 736: 'cream of celery soup',\n",
              " 737: 'chocolate covered english toffee',\n",
              " 738: 'red potato',\n",
              " 739: 'porridge oats',\n",
              " 740: 'peapods',\n",
              " 741: 'curry sauce',\n",
              " 742: 'littleneck clams',\n",
              " 743: 'snappers',\n",
              " 744: 'old-fashioned oatmeal',\n",
              " 745: 'soybean sprouts',\n",
              " 746: 'smoked trout',\n",
              " 747: 'homemade stock',\n",
              " 748: 'baby portobello mushrooms',\n",
              " 749: 'english cucumber',\n",
              " 750: 'rice paddy herb',\n",
              " 751: 'waffle fries',\n",
              " 752: 'fat free cream of mushroom soup',\n",
              " 753: 'dark brown sugar',\n",
              " 754: 'meal',\n",
              " 755: 'high gluten bread flour',\n",
              " 756: 'seitan',\n",
              " 757: 'black cardamom pods',\n",
              " 758: 'roasted garlic oil',\n",
              " 759: 'boneless skinless chicken',\n",
              " 760: 'grape juice',\n",
              " 761: 'posole',\n",
              " 762: 'raspberries',\n",
              " 763: 'cilantro sprigs',\n",
              " 764: 'tart',\n",
              " 765: 'dry yeast',\n",
              " 766: 'quick-cooking hominy grits',\n",
              " 767: 'yucca root',\n",
              " 768: 'coco',\n",
              " 769: 'hot tea',\n",
              " 770: 'whole wheat angel hair pasta',\n",
              " 771: 'rub seasoning',\n",
              " 772: 'crispy bacon',\n",
              " 773: 'coconut milk',\n",
              " 774: 'Old El Paso™ chopped green chile',\n",
              " 775: 'Pillsbury™ Crescent Recipe Creat',\n",
              " 776: 'flaked coconut',\n",
              " 777: 'refrigerated crescent rolls',\n",
              " 778: 'monterey jack',\n",
              " 779: 'hoja santa leaves',\n",
              " 780: 'cider',\n",
              " 781: 'splenda',\n",
              " 782: 'heirloom squash',\n",
              " 783: 'oil packed dried tomatoes',\n",
              " 784: 'french toast',\n",
              " 785: '(   oz.) tomato paste',\n",
              " 786: 'black cod',\n",
              " 787: 'biscuit baking mix',\n",
              " 788: 'hot mustard',\n",
              " 789: 'southern comfort',\n",
              " 790: 'vine tomatoes',\n",
              " 791: 'flank steak',\n",
              " 792: 'sundae syrup',\n",
              " 793: 'carambola',\n",
              " 794: 'dried pasta',\n",
              " 795: 'whole cranberry sauce',\n",
              " 796: \"Hellmann''s Light Mayonnaise\",\n",
              " 797: 'ground dried shrimp',\n",
              " 798: 'extra virgin coconut oil',\n",
              " 799: 'unsalted shelled pistachio',\n",
              " 800: 'black grapes',\n",
              " 801: 'cherry preserves',\n",
              " 802: 'large shrimp',\n",
              " 803: 'rustic bread',\n",
              " 804: 'light whipping cream',\n",
              " 805: 'sliced kalamata olives',\n",
              " 806: 'juice concentrate',\n",
              " 807: 'hot chili powder',\n",
              " 808: 'chili paste with garlic',\n",
              " 809: 'fern',\n",
              " 810: 'adobo seasoning',\n",
              " 811: 'gram dal',\n",
              " 812: 'whole wheat pita bread rounds',\n",
              " 813: 'schnapps',\n",
              " 814: 'Martha White Cornbread Mix',\n",
              " 815: 'dandelion greens',\n",
              " 816: 'Japanese rice vinegar',\n",
              " 817: 'jackfruit',\n",
              " 818: 'dri fruit tropic',\n",
              " 819: 'sesame chili oil',\n",
              " 820: 'boston butt',\n",
              " 821: 'Johnsonville® Mild Italian Groun',\n",
              " 822: 'apple brandy',\n",
              " 823: 'millet',\n",
              " 824: 'garbonzo bean',\n",
              " 825: 'sliced salami',\n",
              " 826: 'spicy brown mustard',\n",
              " 827: 'peperoncini',\n",
              " 828: 'luncheon meat',\n",
              " 829: 'potato bread',\n",
              " 830: 'organic coconut milk',\n",
              " 831: 'Ragu Classic Alfredo Sauce',\n",
              " 832: 'ranch dressing',\n",
              " 833: 'sweet biscuit crumbs',\n",
              " 834: 'table wine',\n",
              " 835: 'nonfat dry milk',\n",
              " 836: 'stone-ground cornmeal',\n",
              " 837: 'orange zest',\n",
              " 838: 'linguini',\n",
              " 839: 'peanut powder',\n",
              " 840: 'Adobo All Purpose Seasoning',\n",
              " 841: 'young leeks',\n",
              " 842: 'pepper cheese',\n",
              " 843: 'pizza toppings',\n",
              " 844: 'roti',\n",
              " 845: 'ground blanched almonds',\n",
              " 846: 'whole wheat pastry flour',\n",
              " 847: 'rum',\n",
              " 848: 'seasoned rice wine vinegar',\n",
              " 849: 'cream of coconut',\n",
              " 850: 'cassava root flour',\n",
              " 851: 'mcintosh apples',\n",
              " 852: 'fat free beef broth',\n",
              " 853: 'ranch salad dressing mix',\n",
              " 854: 'masa harina',\n",
              " 855: 'dried lavender',\n",
              " 856: 'chinese wolfberries',\n",
              " 857: 'ground oregano',\n",
              " 858: 'adobo style seasoning',\n",
              " 859: 'evaporated cane juice',\n",
              " 860: 'mustard oil',\n",
              " 861: 'fat free milk',\n",
              " 862: 'korean vermicelli',\n",
              " 863: 'Crispy Rice Cereal',\n",
              " 864: 'fresh cod',\n",
              " 865: 'Lipton Lemon Iced Tea Mix',\n",
              " 866: 'stilton cheese',\n",
              " 867: 'japanese rice',\n",
              " 868: 'fat-free chicken broth',\n",
              " 869: 'mesclun',\n",
              " 870: 'merlot',\n",
              " 871: 'fregola',\n",
              " 872: 'safflower oil',\n",
              " 873: 'high-fructose corn syrup',\n",
              " 874: 'tamari almonds',\n",
              " 875: \"Campbell's Condensed Cream of Mu\",\n",
              " 876: 'andouille chicken sausage',\n",
              " 877: 'rice flour',\n",
              " 878: 'nonfat milk',\n",
              " 879: 'wasabi paste',\n",
              " 880: 'pork hocks',\n",
              " 881: 'celery tops',\n",
              " 882: 'king crab legs',\n",
              " 883: 'fryer chickens',\n",
              " 884: 'curly parsley',\n",
              " 885: 'pierogi',\n",
              " 886: 'sweet chili sauce',\n",
              " 887: 'hen',\n",
              " 888: 'truffles',\n",
              " 889: 'sweet cream butter',\n",
              " 890: 'rice cakes',\n",
              " 891: 'chip plain tortilla',\n",
              " 892: 'Jell-O Gelatin',\n",
              " 893: 'savoy cabbage leaves',\n",
              " 894: 'Jameson Whiskey',\n",
              " 895: 'mixed dried fruit',\n",
              " 896: 'citrus juice',\n",
              " 897: 'unsweetened soymilk',\n",
              " 898: 'pork fillet',\n",
              " 899: 'low sodium taco seasoning',\n",
              " 900: 'reduced sodium tamari',\n",
              " 901: \"M&M's Candy\",\n",
              " 902: 'baby broccoli',\n",
              " 903: 'steak seasoning',\n",
              " 904: 'marrow',\n",
              " 905: 'clove garlic, fine chop',\n",
              " 906: 'whole chicken',\n",
              " 907: 'Imperial Sugar Light Brown Sugar',\n",
              " 908: 'wheels',\n",
              " 909: 'baking soda',\n",
              " 910: 'empanada dough',\n",
              " 911: 'low-fat crème fraîche',\n",
              " 912: 'fresh turmeric',\n",
              " 913: 'grate lime peel',\n",
              " 914: 'plum sauce',\n",
              " 915: 'thickeners',\n",
              " 916: 'clove',\n",
              " 917: '(10 oz.) frozen chopped spinach',\n",
              " 918: 'fresh mushrooms',\n",
              " 919: 'marrow bones',\n",
              " 920: 'pea pods',\n",
              " 921: 'low-fat marinara sauce',\n",
              " 922: 'chinese leaf',\n",
              " 923: 'peperoncino',\n",
              " 924: 'sweet italian sausag links, cut',\n",
              " 925: 'fermented bean paste',\n",
              " 926: 'chopped fresh sage',\n",
              " 927: 'Kewpie Mayonnaise',\n",
              " 928: 'veal knuckle',\n",
              " 929: 'Hidden Valley® Original Ranch® L',\n",
              " 930: 'KRAFT Shredded Pepper Jack Chees',\n",
              " 931: 'TACO BELL® Thick & Chunky Mild S',\n",
              " 932: 'green plantains',\n",
              " 933: 'recipe crumbles',\n",
              " 934: 'lamb stew meat',\n",
              " 935: 'fenugreek',\n",
              " 936: 'Morton Salt',\n",
              " 937: 'salt',\n",
              " 938: 'beef shoulder roast',\n",
              " 939: 'chopped bacon',\n",
              " 940: 'Everglades Seasoning',\n",
              " 941: 'basmati',\n",
              " 942: 'Kraft Slim Cut Mozzarella Cheese',\n",
              " 943: 'beef shank',\n",
              " 944: 'yellow peppers',\n",
              " 945: 'shishito chile',\n",
              " 946: 'prawns',\n",
              " 947: 'jack cheese',\n",
              " 948: 'queso fresca',\n",
              " 949: 'collard greens',\n",
              " 950: 'pork shoulder boston butt',\n",
              " 951: 'young nettle',\n",
              " 952: 'spices',\n",
              " 953: 'sanding sugar',\n",
              " 954: 'skinless chicken pieces',\n",
              " 955: 'bread and butter pickle slices',\n",
              " 956: 'oysters',\n",
              " 957: 'lamb kidneys',\n",
              " 958: 'thai basil',\n",
              " 959: 'turkey breast tenderloins',\n",
              " 960: 'kielbasa (not low fat)',\n",
              " 961: 'unsalted vegetable stock',\n",
              " 962: 'chopped cilantro fresh',\n",
              " 963: 'Greek feta',\n",
              " 964: 'baby bok choy',\n",
              " 965: 'mandarin oranges',\n",
              " 966: 'granulated tapioca',\n",
              " 967: 'duck egg',\n",
              " 968: 'red leaf lettuce',\n",
              " 969: 'dr. pepper',\n",
              " 970: 'salt and ground black pepper',\n",
              " 971: 'port',\n",
              " 972: 'nectarines',\n",
              " 973: 'fryers',\n",
              " 974: 'refrigerated fettuccine',\n",
              " 975: 'beet juice',\n",
              " 976: 'canola oil cooking spray',\n",
              " 977: 'chunky peanut butter',\n",
              " 978: 'fedelini',\n",
              " 979: 'sweet paprika',\n",
              " 980: 'Conimex Wok Olie',\n",
              " 981: 'Conimex Woksaus Specials Vietnam',\n",
              " 982: 'beef brisket',\n",
              " 983: 'mincemeat pie filling',\n",
              " 984: 'egg noodles, cooked and drained',\n",
              " 985: 'energy drink',\n",
              " 986: 'dukkah',\n",
              " 987: 'vanilla essence',\n",
              " 988: 'thick-cut bacon',\n",
              " 989: 'Earth Balance Natural Buttery Sp',\n",
              " 990: 'chihuahua cheese',\n",
              " 991: 'beef bones',\n",
              " 992: 'black beans',\n",
              " 993: 'chinkiang vinegar',\n",
              " 994: 'Better Than Bouillon Chicken Bas',\n",
              " 995: 'low-fat balsamic vinaigrette',\n",
              " 996: 'organic cane sugar',\n",
              " 997: 'neutral oil',\n",
              " 998: 'rice powder',\n",
              " 999: 'brussels sprouts',\n",
              " ...}"
            ]
          },
          "metadata": {},
          "execution_count": 64
        }
      ]
    },
    {
      "cell_type": "code",
      "source": [
        "#Create dict of dict where the first key is ingredient id the value is another dict \n",
        "#with key are nodes he shares receipt with and value the number of receipt they have in common\n",
        "ingredientAdjancy = {}\n",
        "ingredientNbR = {}\n",
        "for index , row in df.iterrows():\n",
        "    for i in row.values:\n",
        "        if i is not None and i.isdigit() and int(i) not in ingredientAdjancy.keys():\n",
        "            ingredientAdjancy[int(i)] = {}\n",
        "        for y in row.values:\n",
        "            if i is not None and  y is not None and i.isdigit() and y.isdigit():\n",
        "                if i != y:\n",
        "                    if int(y) not in ingredientAdjancy[int(i)].keys():\n",
        "                        ingredientAdjancy[int(i)][int(y)] = 1\n",
        "                    else:\n",
        "                        ingredientAdjancy[int(i)][int(y)] += 1\n",
        "        if i is not None and i.isdigit():\n",
        "            if int(i) not in ingredientNbR.keys():\n",
        "                ingredientNbR[int(i)] = 1\n",
        "            else:\n",
        "                ingredientNbR[int(i)] += 1"
      ],
      "metadata": {
        "id": "eIdYBjA622Jy"
      },
      "execution_count": 5,
      "outputs": []
    },
    {
      "cell_type": "code",
      "source": [
        "import csv\n",
        "fh = open('edgeListWeight.csv','w')\n",
        "writer = csv.writer(fh)\n",
        "for i in ingredientAdjancy.keys():\n",
        "    for y in ingredientAdjancy[i].keys():\n",
        "        t = str(i)+'\\t'+str(y)+'\\t'+str(ingredientAdjancy[i][y])\n",
        "        writer.writerow([t])\n",
        "fh.close()"
      ],
      "metadata": {
        "id": "n36D1eHF25Wt"
      },
      "execution_count": 6,
      "outputs": []
    },
    {
      "cell_type": "code",
      "source": [
        "import csv\n",
        "fh = open('edgeList.csv','w')\n",
        "writer = csv.writer(fh)\n",
        "for i in ingredientAdjancy.keys():\n",
        "    for y in ingredientAdjancy[i].keys():\n",
        "        t = str(i)+'\\t'+str(y)\n",
        "        writer.writerow([t])\n",
        "fh.close()"
      ],
      "metadata": {
        "id": "QVHaUxFL28pX"
      },
      "execution_count": 7,
      "outputs": []
    },
    {
      "cell_type": "markdown",
      "source": [
        "Create the graph"
      ],
      "metadata": {
        "id": "xTOhKqLF3Fel"
      }
    },
    {
      "cell_type": "code",
      "source": [
        "Gw = nx.read_edgelist('edgeListWeight.csv', nodetype=int, data=(('weight',float),))\n",
        "G = nx.read_edgelist('edgeList.csv', nodetype=int, data=(('weight',float),))"
      ],
      "metadata": {
        "id": "_dw8jKx73JEf"
      },
      "execution_count": 8,
      "outputs": []
    },
    {
      "cell_type": "markdown",
      "source": [
        "1st Embedding:"
      ],
      "metadata": {
        "id": "9adrhqkz3TJg"
      }
    },
    {
      "cell_type": "markdown",
      "source": [
        "Use Node2vec -> first need to generate weighted random walk. Then use Word2Vec to generate the embedding. Generate random walk take quite some time, I already generate 4 of them using different paramters that should adjust the balance between sutructural and local importance. This might be improved by trying different set of hyperparameters."
      ],
      "metadata": {
        "id": "9sIHYl4J3SYB"
      }
    },
    {
      "cell_type": "code",
      "source": [
        "#Use StellarGraph library to generate the weighted random walk\n",
        "GwS = StellarGraph.from_networkx(Gw)\n",
        "rw = BiasedRandomWalk(GwS)\n",
        "weighted_walks = rw.run(\n",
        "        nodes=Gw.nodes(), # root nodes\n",
        "        length=100,    # maximum length of a random walk\n",
        "        n=10,          # number of random walks per root node\n",
        "        p=1,         # Defines (unormalised) probability, 1/p, of returning to source node\n",
        "        q=10,         # Defines (unormalised) probability, 1/q, for moving away from source node\n",
        "        weighted=True, #for weighted random walks\n",
        "        seed=42        # random seed fixed for reproducibility\n",
        "    )"
      ],
      "metadata": {
        "id": "-MtCXi4d3LTr"
      },
      "execution_count": 10,
      "outputs": []
    },
    {
      "cell_type": "code",
      "source": [
        "#Save the random walk\n",
        "import csv\n",
        "\n",
        "fh = open('WRandomWalkp1q10.csv','w')\n",
        "writer = csv.writer(fh)\n",
        "for i in range(5860):\n",
        "  for y in range(100):\n",
        "    t = str(GwS.nodes()[i])+\" \"+str(weighted_walks[i*10+y])\n",
        "    writer.writerow([t])\n",
        "fh.close()"
      ],
      "metadata": {
        "id": "A2Jy51bP3px4"
      },
      "execution_count": null,
      "outputs": []
    },
    {
      "cell_type": "code",
      "source": [
        "#Import random walk\n",
        "import ast\n",
        "rp1q10 = pd.read_fwf('WRandomWalkp1q10.csv', delimiter= \" \")\n",
        "\n",
        "rp1q10_list = []\n",
        "for index, value in rp1q10.iterrows():\n",
        "  t = False\n",
        "  s = \"\"\n",
        "  for i in value[0]:\n",
        "    if i == \"[\":\n",
        "      t = True\n",
        "    if i == '\"' and t:\n",
        "      t = False\n",
        "    if t:\n",
        "      s+=i\n",
        "  rp1q10_list.append(ast.literal_eval(s)) \n",
        "  "
      ],
      "metadata": {
        "id": "VxmI93qx3uIk"
      },
      "execution_count": null,
      "outputs": []
    },
    {
      "cell_type": "code",
      "source": [
        "#preprocess Word2Vec\n",
        "rp1q10W = []\n",
        "for i in rp1q10_list:\n",
        "  rp1q10W.append([str(x) for x in i])"
      ],
      "metadata": {
        "id": "HQPfcYJ23w-X"
      },
      "execution_count": null,
      "outputs": []
    },
    {
      "cell_type": "code",
      "source": [
        "from gensim.test.utils import common_texts\n",
        "from gensim.models import Word2Vec\n",
        "\n",
        "model = Word2Vec(sentences=rp1q10W, vector_size=100, window=5, min_count=1, workers=4)"
      ],
      "metadata": {
        "id": "N-mHFDZ23z6I"
      },
      "execution_count": null,
      "outputs": []
    },
    {
      "cell_type": "markdown",
      "source": [
        "We create 2 embedding with node2vec -> q = 1, p = 2; q = 1, p =10"
      ],
      "metadata": {
        "id": "O7l4wvG4355N"
      }
    },
    {
      "cell_type": "markdown",
      "source": [
        "2nd embedding"
      ],
      "metadata": {
        "id": "ympYdE_F4JAX"
      }
    },
    {
      "cell_type": "markdown",
      "source": [
        "Adjacency-based Similarity approximate using SVD, with and without weight"
      ],
      "metadata": {
        "id": "_pScy3XM4KYY"
      }
    },
    {
      "cell_type": "code",
      "source": [
        "from sklearn.decomposition import  TruncatedSVD\n",
        "#no weight\n",
        "A = nx.adjacency_matrix(G) \n",
        "\n",
        "svd = TruncatedSVD(n_components=128)\n",
        "X = svd.fit_transform(A);"
      ],
      "metadata": {
        "id": "Vcjyhct64Iho"
      },
      "execution_count": null,
      "outputs": []
    },
    {
      "cell_type": "code",
      "source": [
        "emb = {}\n",
        "y = 0\n",
        "for i in Gw.nodes():\n",
        "    emb[i] = X[y] \n",
        "    y += 1\n"
      ],
      "metadata": {
        "id": "gJ0SpllN5WnH"
      },
      "execution_count": null,
      "outputs": []
    },
    {
      "cell_type": "code",
      "source": [
        "df_s = pd.DataFrame(data=list(emb.items()),columns=[\"node\", \"embedding\"])\n",
        "df_s.to_csv(\"SVD128.csv\")"
      ],
      "metadata": {
        "id": "5QxV2UIg5dGd"
      },
      "execution_count": null,
      "outputs": []
    },
    {
      "cell_type": "code",
      "source": [
        "#weight\n",
        "A = nx.adjacency_matrix(Gw) \n",
        "\n",
        "svd = TruncatedSVD(n_components=128)\n",
        "X = svd.fit_transform(A);"
      ],
      "metadata": {
        "id": "Q7QLGPix5dxF"
      },
      "execution_count": null,
      "outputs": []
    },
    {
      "cell_type": "code",
      "source": [
        "emb = {}\n",
        "y = 0\n",
        "for i in Gw.nodes():\n",
        "    emb[i] = X[y] \n",
        "    y += 1\n"
      ],
      "metadata": {
        "id": "Z94OYP8o5jFs"
      },
      "execution_count": null,
      "outputs": []
    },
    {
      "cell_type": "code",
      "source": [
        "df_s = pd.DataFrame(data=list(emb.items()),columns=[\"node\", \"embedding\"])\n",
        "df_s.to_csv(\"SVDW128.csv\")"
      ],
      "metadata": {
        "id": "0R-k9CVY5kHD"
      },
      "execution_count": null,
      "outputs": []
    },
    {
      "cell_type": "markdown",
      "source": [
        "6 embedding have been created using this method, from 32, 64, 128 dimensions for weighted and non weighted graph"
      ],
      "metadata": {
        "id": "J547PShB5oiZ"
      }
    },
    {
      "cell_type": "markdown",
      "source": [
        "3rd emebedding"
      ],
      "metadata": {
        "id": "uXw2Ulq-56x1"
      }
    },
    {
      "cell_type": "markdown",
      "source": [
        "Emebdding layer of a bidirectionnal LSTM train on the classification task"
      ],
      "metadata": {
        "id": "49gEsZX36BFO"
      }
    },
    {
      "cell_type": "markdown",
      "source": [
        "utility function"
      ],
      "metadata": {
        "id": "2yONNkn_6kbu"
      }
    },
    {
      "cell_type": "code",
      "source": [
        "def make_binary_data(cookbook, ingredient_list):\n",
        "    # X is a binary matrix with recipe rows and ingredients columns, \n",
        "    # where (recipe, ingredients) is 1 if the ingredient is present in the recipe\n",
        "\n",
        "    n_recipies = len(cookbook)\n",
        "    n_ingredients = len(ingredient_list)\n",
        "\n",
        "    X = np.zeros((n_recipies, n_ingredients))\n",
        "    y = np.zeros(n_recipies)\n",
        "    for idx, recipe in enumerate(cookbook):\n",
        "        y[idx] = recipe['kitchen_id']\n",
        "        for ingredient_id in recipe['ingredients']:\n",
        "            X[idx][ingredient_id] = 1\n",
        "            \n",
        "    return X,y\n",
        "\n",
        "\n",
        "def make_recipe_embedding_data(cookbook, embedding, avg=False):\n",
        "    # Make the data. X is a matrix with recipe rows and embedding dimension columns, \n",
        "    # where every row is the average of the embeddings in the recipes\n",
        "\n",
        "    n_recipies = len(cookbook)\n",
        "    embedding_dim = len(embedding[0])\n",
        "\n",
        "    X = np.zeros((n_recipies, embedding_dim))\n",
        "    y = np.zeros(n_recipies)\n",
        "    for idx, recipe in enumerate(cookbook):\n",
        "        embedding_avg = np.zeros(embedding_dim) \n",
        "        ingredient_count = len(recipe['ingredients'])\n",
        "        y[idx] = recipe['kitchen_id']\n",
        "        for ingredient_id in recipe['ingredients']:\n",
        "            if avg:\n",
        "                embedding_avg += embedding[ingredient_id] / ingredient_count\n",
        "            else:\n",
        "                embedding_avg += embedding[ingredient_id]\n",
        "            \n",
        "        X[idx, :] = embedding_avg\n",
        "            \n",
        "    return X,y\n",
        "\n",
        "\n",
        "def make_ingredient_embedding_data(embedding):\n",
        "    # A matrix with as rows the ingredients and as columns the embedding\n",
        "    matrix = np.empty( (len(embedding), len(embedding[0])) )\n",
        "    for ingredient_idx, embedding_vector in embedding.items():\n",
        "        matrix[ingredient_idx, :] = embedding_vector\n",
        "    return matrix"
      ],
      "metadata": {
        "id": "uQb4EQ5L534d"
      },
      "execution_count": null,
      "outputs": []
    },
    {
      "cell_type": "code",
      "source": [
        "from csv import reader\n",
        "import pandas as pd\n",
        "import torch\n",
        "\n",
        "__kitchen_list = []\n",
        "\n",
        "\n",
        "def get_cookbook_train():\n",
        "\n",
        "    cookbook_train = []\n",
        "\n",
        "    with open('train.csv', 'r') as file:\n",
        "\n",
        "        csv_reader = reader(file, delimiter=\",\")\n",
        "\n",
        "        for i, row in enumerate(csv_reader):\n",
        "            \n",
        "            kitchen = row[-1]\n",
        "            ingredient_strings = row[:-1]\n",
        "            ingredients = [ int(s) for s in ingredient_strings ]\n",
        "            \n",
        "            cookbook_train.append({\n",
        "                'recipe_id': i,\n",
        "                'ingredients': ingredients,\n",
        "                'kitchen_name': kitchen\n",
        "            })      \n",
        "\n",
        "    fill_kitchen_list(cookbook_train)\n",
        "    add_kitchen_id_to_cookbook(cookbook_train)\n",
        "    return cookbook_train\n",
        "\n",
        "\n",
        "def get_cookbook_valid_question():\n",
        "\n",
        "    cookbook_valid_question = []\n",
        "\n",
        "    with open('validation_classification_question.csv', 'r') as file:\n",
        "\n",
        "        csv_reader = reader(file, delimiter=\",\")\n",
        "\n",
        "        for i, row in enumerate(csv_reader):\n",
        "            ingredients = [ int(s) for s in row ]\n",
        "            cookbook_valid_question.append({\n",
        "                'recipe_id': i,\n",
        "                'ingredients': ingredients,\n",
        "                'kitchen_name': \"UNKNOWNKITCHEN\",\n",
        "                'kitchen_id': \"-999\"\n",
        "            })     \n",
        "\n",
        "    return cookbook_valid_question\n",
        "\n",
        "\n",
        "       \n",
        "def get_cookbook_valid_answer():\n",
        "\n",
        "    cookbook_valid_answer = []\n",
        "\n",
        "    with open('validation_classification_answer.csv', 'r') as file:\n",
        "\n",
        "        csv_reader = reader(file, delimiter=\",\")\n",
        "\n",
        "        for i, row in enumerate(csv_reader):        \n",
        "            kitchen = row[0]        \n",
        "            cookbook_valid_answer.append({\n",
        "                'recipe_id': i,\n",
        "                'ingredients': [],\n",
        "                'kitchen_name': kitchen\n",
        "            })\n",
        "\n",
        "    fill_kitchen_list(cookbook_valid_answer)\n",
        "    add_kitchen_id_to_cookbook(cookbook_valid_answer)\n",
        "    return cookbook_valid_answer\n",
        "\n",
        "\n",
        "def get_ingredient_list():\n",
        "\n",
        "    node_ingredient = pd.read_fwf('node_ingredient.csv', header=None)\n",
        "    ingredient_list = [None] * node_ingredient.shape[0]\n",
        "    for index , row in node_ingredient.iterrows():\n",
        "        ingredient_list[index] = row[0]\n",
        "\n",
        "    return ingredient_list\n",
        "\n",
        "\n",
        "def fill_kitchen_list(cookbook):\n",
        "\n",
        "    for recipe in cookbook:\n",
        "        if recipe['kitchen_name'] not in __kitchen_list:\n",
        "            __kitchen_list.append(recipe['kitchen_name'])\n",
        "\n",
        "\n",
        "\n",
        "def add_kitchen_id_to_cookbook(cookbook):   \n",
        "\n",
        "    for recipe in cookbook:\n",
        "        kitchen_id = __kitchen_list.index(recipe['kitchen_name'])\n",
        "        recipe['kitchen_id'] = kitchen_id"
      ],
      "metadata": {
        "id": "bUA8qKdF6mxO"
      },
      "execution_count": null,
      "outputs": []
    },
    {
      "cell_type": "code",
      "source": [
        "cookbook_train = get_cookbook_train()\n",
        "cookbook_valid_question = get_cookbook_valid_question()\n",
        "cookbook_valid_answer = get_cookbook_valid_answer()\n",
        "ingredient_list = get_ingredient_list()\n"
      ],
      "metadata": {
        "id": "LBEHSFPy6r3C"
      },
      "execution_count": null,
      "outputs": []
    },
    {
      "cell_type": "markdown",
      "source": [
        "Preprocessing"
      ],
      "metadata": {
        "id": "aJvGod6L645L"
      }
    },
    {
      "cell_type": "code",
      "source": [
        "m = 0\n",
        "minI = 60\n",
        "maxI = 0\n",
        "dicNb = {}\n",
        "for i in cookbook_train:\n",
        "  if len(i[\"ingredients\"]) > m:\n",
        "    m = len(i[\"ingredients\"])\n",
        "  for y in i[\"ingredients\"]:\n",
        "    if y not in dicNb.keys():\n",
        "      dicNb[y] = 1\n",
        "    else:\n",
        "      dicNb[y] += 1\n",
        "    if y < minI:\n",
        "      minI = y\n",
        "      l = i[\"ingredients\"]\n",
        "      print(l)\n",
        "    if y > maxI:\n",
        "      maxI = y\n",
        "\n",
        "for i in range(6714):\n",
        "  if i not in dicNb.keys():\n",
        "    dicNb[i] = 0\n",
        "print(m,maxI,minI,l)"
      ],
      "metadata": {
        "id": "nXw57I6u6x9o"
      },
      "execution_count": null,
      "outputs": []
    },
    {
      "cell_type": "code",
      "source": [
        "m = 30\n",
        "XtrainRnn = []\n",
        "for i in cookbook_train:\n",
        "  x = i[\"ingredients\"].copy()\n",
        "  x = sorted(x, key=lambda y: dicNb[y],reverse=True)\n",
        "  if len(x) > m:\n",
        "    x = x[:m]\n",
        "  while len(x) < m:\n",
        "    x.append(6714)\n",
        "  XtrainRnn.append(x)\n",
        "  \n",
        "XvalRnn = []\n",
        "for i in cookbook_valid_question:\n",
        "  x = i[\"ingredients\"].copy()\n",
        "  x = sorted(x, key=lambda y: dicNb[y],reverse=True)\n",
        "  if len(x) > m:\n",
        "    x = x[:m]\n",
        "  while len(x) < m:\n",
        "    x.append(6714)\n",
        "  XvalRnn.append(x)"
      ],
      "metadata": {
        "id": "ZiwVje6B61SG"
      },
      "execution_count": null,
      "outputs": []
    },
    {
      "cell_type": "code",
      "source": [
        "YtrainRnn = []\n",
        "dic = {}\n",
        "u = 0\n",
        "for i in cookbook_train:\n",
        "  if i[\"kitchen_name\"] not in dic.keys():\n",
        "    dic[i[\"kitchen_name\"]] = u\n",
        "    u += 1\n",
        "print(u)\n",
        "for i in cookbook_train:\n",
        "  YtrainRnn.append(dic[i[\"kitchen_name\"]])\n",
        "\n",
        "YvalRnn = []\n",
        "for i in cookbook_valid_answer:\n",
        "  YvalRnn.append(dic[i[\"kitchen_name\"]])\n",
        "YvalRnn"
      ],
      "metadata": {
        "id": "9igJzRCH693T"
      },
      "execution_count": null,
      "outputs": []
    },
    {
      "cell_type": "code",
      "source": [
        "tX = torch.tensor(XtrainRnn)\n",
        "tY = torch.tensor(YtrainRnn)\n",
        "vX = torch.tensor(XvalRnn)\n",
        "vY = torch.tensor(YvalRnn)\n",
        "train = TensorDataset(tX, tY)\n",
        "#val = TensorDataset(val_features, val_targets)\n",
        "train_loader = DataLoader(train, batch_size=32, shuffle=True)"
      ],
      "metadata": {
        "id": "DMCz2SjW7BZ7"
      },
      "execution_count": null,
      "outputs": []
    },
    {
      "cell_type": "code",
      "source": [
        "import torch.nn as nn\n",
        "from torch.autograd import Variable\n",
        "\n",
        "class LSTM(nn.Module):\n",
        "\n",
        "  def __init__(self,voc_size, embedding_length,hidden_size,output_size):\n",
        "    super(LSTM, self).__init__()\n",
        "    self.emb = nn.Embedding(voc_size, embedding_length)\n",
        "    self.lstm = nn.LSTM(embedding_length, hidden_size, 2,batch_first=True, bidirectional = True,dropout = 0.8)\n",
        "    self.label = nn.Linear(hidden_size, output_size)\n",
        "    self.hidden_size = hidden_size\n",
        "    self.drop = nn.Dropout(0.8)\n",
        "\n",
        "  def forward(self,input):\n",
        "    input = self.emb(input)\n",
        "    _,(final_hidden_state, final_cell_state) = self.lstm(input)\n",
        "    return self.label(self.drop(final_hidden_state[-1])) \n"
      ],
      "metadata": {
        "id": "QtxAQhBH7EjP"
      },
      "execution_count": null,
      "outputs": []
    },
    {
      "cell_type": "code",
      "source": [
        "device = torch.device(\"cuda\" if torch.cuda.is_available() else \"cpu\")"
      ],
      "metadata": {
        "id": "zOB_bDDx7Iun"
      },
      "execution_count": null,
      "outputs": []
    },
    {
      "cell_type": "code",
      "source": [
        "model = LSTM(6715,64,128,20)\n",
        "cel = nn.CrossEntropyLoss()\n",
        "n_epochs = 70\n",
        "optimizer = torch.optim.Adam(model.parameters(), lr=0.001)\n",
        "\n",
        "model.to(device)"
      ],
      "metadata": {
        "id": "PfE4bNL07KdG"
      },
      "execution_count": null,
      "outputs": []
    },
    {
      "cell_type": "code",
      "source": [
        "for epoch in range(1, n_epochs + 1):\n",
        "  batch_losses = []\n",
        "  lmean = 0\n",
        "  nb = 0\n",
        "  for x_batch, y_batch in train_loader:\n",
        "    pred = model(x_batch.to(device))\n",
        "    loss = cel(pred,y_batch.to(device))\n",
        "    optimizer.zero_grad() \n",
        "    loss.backward() \n",
        "    optimizer.step()\n",
        "\n",
        "    lmean += loss.item()\n",
        "    nb += 1\n",
        "  if epoch%20 == 1:\n",
        "    model.eval()\n",
        "    acc = 0\n",
        "    for i in range(500):\n",
        "      out = model(vX[i].to(device))\n",
        "      c = out.max(0).indices.item()\n",
        "      if c == vY[i].item(): #compare class\n",
        "        acc += 1\n",
        "      #print(c,vY[i].item())\n",
        "        \n",
        "    print(acc/500)\n",
        "  if epoch%20 == 1:\n",
        "    acc = 0\n",
        "    for i in range(500):\n",
        "      out = model(tX[i].to(device))\n",
        "      c = out.max(0).indices.item()\n",
        "      if c == tY[i].item(): #compare class\n",
        "        acc += 1\n",
        "      #print(c,vY[i].item())  \n",
        "    print(acc/500)\n",
        "    \n",
        "  model.train()\n",
        "  print(epoch,lmean/nb)"
      ],
      "metadata": {
        "id": "X3ZvSR4E7M4P"
      },
      "execution_count": null,
      "outputs": []
    },
    {
      "cell_type": "code",
      "source": [
        "model.eval()\n",
        "acc = 0\n",
        "for i in range(5000):\n",
        "  out = model(vX[i].to(device))\n",
        "  c = out.max(0).indices.item()\n",
        "  if c == vY[i].item(): #compare class\n",
        "    acc += 1\n",
        "    #print(c,vY[i].item())\n",
        "        \n",
        "print(acc/5000)"
      ],
      "metadata": {
        "id": "9ZOwQZZ-7RXO"
      },
      "execution_count": null,
      "outputs": []
    },
    {
      "cell_type": "code",
      "source": [
        "print(model.emb)"
      ],
      "metadata": {
        "id": "f3CULKrA7VFx"
      },
      "execution_count": null,
      "outputs": []
    },
    {
      "cell_type": "code",
      "source": [
        "embedding = model.emb.weight\n",
        "embeddingL = embedding.tolist()\n",
        "emb = {}\n",
        "for i in range(6714):\n",
        "  emb[i] = embeddingL[i]\n",
        "  "
      ],
      "metadata": {
        "id": "dsNkoZbN7ZNk"
      },
      "execution_count": null,
      "outputs": []
    },
    {
      "cell_type": "code",
      "source": [
        "df_s = pd.DataFrame(data=list(emb.items()),columns=[\"node\", \"embedding\"])\n",
        "df_s.to_csv(\"LSTM64.csv\")"
      ],
      "metadata": {
        "id": "45Lkd-vb7bH9"
      },
      "execution_count": null,
      "outputs": []
    },
    {
      "cell_type": "markdown",
      "source": [
        "2 embedding have been created using this method with 64 and 128 dimensions"
      ],
      "metadata": {
        "id": "ywiR3how7mwn"
      }
    },
    {
      "cell_type": "markdown",
      "source": [
        "4th embedding"
      ],
      "metadata": {
        "id": "1X6yDn0I7zDv"
      }
    },
    {
      "cell_type": "markdown",
      "source": [
        "Word2Vec were each receipts are \"sentences\""
      ],
      "metadata": {
        "id": "VzlnETP571_l"
      }
    },
    {
      "cell_type": "code",
      "source": [
        "W2v = []\n",
        "m = 30\n",
        "for i in cookbook_train:\n",
        "  x = []\n",
        "  for y in i['ingredients']:\n",
        "    x.append(str(y))\n",
        "  if len(x) > m:\n",
        "    x = x[:m]\n",
        "  while len(x) < m:\n",
        "    x.append('6714')\n",
        "  W2v.append(x)\n",
        "for i in cookbook_valid_question:\n",
        "  x = []\n",
        "  for y in i['ingredients']:\n",
        "    x.append(str(y))\n",
        "  if len(x) > m:\n",
        "    x = x[:m]\n",
        "  while len(x) < m:\n",
        "    x.append('6714')\n",
        "  W2v.append(x)"
      ],
      "metadata": {
        "id": "0XeZJSc67hPX"
      },
      "execution_count": null,
      "outputs": []
    },
    {
      "cell_type": "code",
      "source": [
        "embW = Word2Vec(sentences=W2v, \n",
        "                 min_count=1,\n",
        "                 size=128,  \n",
        "                 workers=4)"
      ],
      "metadata": {
        "id": "HrMi-M4W8Anb"
      },
      "execution_count": null,
      "outputs": []
    },
    {
      "cell_type": "code",
      "source": [
        "import random\n",
        "\n",
        "weightW = []\n",
        "for i in range(6715):\n",
        "  try:\n",
        "    weightW.append(embW[str(i)])\n",
        "  except:\n",
        "    weightW.append(np.random.randn(128))\n",
        "    continue  "
      ],
      "metadata": {
        "id": "foeVCRVy8G8a"
      },
      "execution_count": null,
      "outputs": []
    },
    {
      "cell_type": "markdown",
      "source": [
        "Test of the cosin similarity using the different embedding / qualitative comparaison"
      ],
      "metadata": {
        "id": "3YYa5_4M8eZ7"
      }
    },
    {
      "cell_type": "code",
      "source": [
        "import re\n",
        "\n",
        "def import_embedding(filename):\n",
        "\n",
        "    df = pd.read_csv(f'{filename}', delimiter=\",\")\n",
        "\n",
        "    # Create an embedding dictionary from the file\n",
        "    embedding = {}\n",
        "    for index, row in df.iterrows():\n",
        "        ingredient_id = row[1]\n",
        "        embedding_string = row[2]\n",
        "        embedding_formatted = re.findall(r'[\\d|\\.|e|\\+|\\-]+', embedding_string)\n",
        "        embedding_array = np.asarray(embedding_formatted, dtype=float)\n",
        "        embedding[ingredient_id] = embedding_array\n",
        "\n",
        "        \n",
        "    return embedding\n"
      ],
      "metadata": {
        "id": "Icn41M1cD8sj"
      },
      "execution_count": 52,
      "outputs": []
    },
    {
      "cell_type": "code",
      "source": [
        "from numpy import dot\n",
        "from numpy.linalg import norm\n",
        "import json\n",
        "\n",
        "def compare(ingredient,emb,k):\n",
        "  dic = {}\n",
        "  print(idToNode[ingredient])\n",
        "  a = emb[ingredient]\n",
        "  for i in emb.keys():\n",
        "    if i != ingredient:\n",
        "        b = emb[i]\n",
        "        cos_sim = dot(a, b)/(norm(a)*norm(b))\n",
        "        dic[i] = cos_sim\n",
        "  s = sorted(dic.items(), key=lambda x: x[1], reverse=True)\n",
        "  s2 = sorted(dic.items(), key=lambda x: x[1])\n",
        "  p = 0\n",
        "  out = {}\n",
        "  out2 = {}\n",
        "  for i in s:\n",
        "    out[idToNode[i[0]]] = i[1]\n",
        "    p += 1\n",
        "    if p == k:\n",
        "      break\n",
        "  p = 0\n",
        "  for i in s2:\n",
        "    out2[idToNode[i[0]]] = i[1]\n",
        "    p += 1\n",
        "    if p == k:\n",
        "      break\n",
        "  print(\"most similar = \",out)\n",
        "  print(\"most different = \",out2)\n",
        "  \n",
        "\n"
      ],
      "metadata": {
        "id": "tCS0dP8i_HTi"
      },
      "execution_count": 99,
      "outputs": []
    },
    {
      "cell_type": "code",
      "source": [
        "svd128 = import_embedding('SVD128.csv')\n",
        "svdw128 = import_embedding('SVDW128.csv')\n",
        "lstm128 = import_embedding('LSTM128.csv')\n",
        "node2vecp1q10 = import_embedding('Embp1q10.csv')\n",
        "word2vec = import_embedding('Word2vec128.csv')"
      ],
      "metadata": {
        "id": "hL0-UxNf_j_i"
      },
      "execution_count": 79,
      "outputs": []
    },
    {
      "cell_type": "markdown",
      "source": [
        "SVD128"
      ],
      "metadata": {
        "id": "82mZWLDwGCkU"
      }
    },
    {
      "cell_type": "code",
      "source": [
        "compare(956,svd128,10)"
      ],
      "metadata": {
        "colab": {
          "base_uri": "https://localhost:8080/"
        },
        "id": "j5SRAfDlAV97",
        "outputId": "e274c42d-26fd-4066-8b5f-88e5b0e2ff41"
      },
      "execution_count": 100,
      "outputs": [
        {
          "output_type": "stream",
          "name": "stdout",
          "text": [
            "oysters\n",
            "most similar =  {'crabmeat': 0.8469109365400646, 'chicken livers': 0.8244797641938719, 'cooked ham': 0.813954434213496, 'crawfish': 0.8103423157178145, 'shrimp stock': 0.8037105166743104, 'shucked oysters': 0.8015814725655228, 'lump crab meat': 0.8000990658140146, 'onion tops': 0.795682673260433, 'file powder': 0.7864630290703688, 'old bay seasoning': 0.7859449566501695}\n",
            "most different =  {'Ragu Classic Alfredo Sauce': -0.052614296013283025, 'Ragu Golden Veggie Fettuccine Pa': -0.052614296013283025, 'whole wheat crackers': -0.040382442831768076, 'wish bone red wine vinaigrett dr': -0.032272024000584834, 'huckleberries': -0.02586730426329719, 'crème de framboise': -0.02506376953526593, 'garlic olive oil': -0.023244014330829784, 'low-fat sweetened condensed milk': -0.022602938509779485, 'reduced fat ranch dressing': -0.014372735743185618, 'mini pepperoni slices': -0.014191607115810792}\n"
          ]
        }
      ]
    },
    {
      "cell_type": "code",
      "source": [
        "compare(2945,svd128,10)"
      ],
      "metadata": {
        "colab": {
          "base_uri": "https://localhost:8080/"
        },
        "id": "UJlKv03bFtib",
        "outputId": "2a0b611f-eb08-43d6-dffe-4b91d96acd67"
      },
      "execution_count": 101,
      "outputs": [
        {
          "output_type": "stream",
          "name": "stdout",
          "text": [
            "water\n",
            "most similar =  {'salt': 0.8142271728940506, 'onions': 0.7850241341730618, 'sugar': 0.7757386323823957, 'garlic cloves': 0.7671398360055689, 'garlic': 0.7579657053453669, 'carrots': 0.742675974222317, 'vegetable oil': 0.7375092133974434, 'green onions': 0.7327644471599531, 'pepper': 0.7248302739119928, 'oil': 0.7195956525170696}\n",
            "most different =  {'sago pearls': -0.020250042907392282, 'dried bonito': -0.0010406250251279849, 'Ragu Sauce': -1.8569913274766428e-05, 'Lipton Lemon Iced Tea Mix': 0.0009245875252110072, 'high-gluten flour': 0.0026286881923145472, 'lapsang': 0.00892165116502014, 'sour mix': 0.014118814865206355, 'Lipton® Iced Tea Brew Family Siz': 0.02100810736566502, 'red grapefruit': 0.023485172054981778, 'fine egg noodles': 0.024929448235820106}\n"
          ]
        }
      ]
    },
    {
      "cell_type": "code",
      "source": [
        "compare(3934,svd128,10)"
      ],
      "metadata": {
        "colab": {
          "base_uri": "https://localhost:8080/"
        },
        "id": "cexIvQLxF5fS",
        "outputId": "9df134cc-a2bf-4489-ce9e-cba7031717aa"
      },
      "execution_count": 102,
      "outputs": [
        {
          "output_type": "stream",
          "name": "stdout",
          "text": [
            "beef\n",
            "most similar =  {'meat': 0.829434043348535, 'beef broth': 0.8163608810253355, 'pork': 0.8163372310965503, 'bell pepper': 0.8153092916853254, 'cabbage': 0.8081114260506583, 'red pepper': 0.8045089020248994, 'rice': 0.8004294514568273, 'sauce': 0.7993237576959582, 'boneless chicken breast': 0.7909842524959418, 'cooking oil': 0.7908474002843684}\n",
            "most different =  {'blue curaçao': -0.061538232668525615, 'almond syrup': -0.053398767219905725, 'energy drink': -0.050828213605246385, 'cola-flavored carbonated beverag': -0.050828213605246385, 'sports drink': -0.04062882584941009, 'dry gin': -0.04046485142544161, 'lambrusco': -0.03910551100941281, 'crème de framboise': -0.03461722790945396, 'huckleberries': -0.032288788462974706, 'absinthe': -0.028074407270798678}\n"
          ]
        }
      ]
    },
    {
      "cell_type": "code",
      "source": [
        "compare(71,svd128,10)"
      ],
      "metadata": {
        "colab": {
          "base_uri": "https://localhost:8080/"
        },
        "id": "TMXTzOgDH8P6",
        "outputId": "545221a3-d260-4af5-8d5b-9551ed15dd0e"
      },
      "execution_count": 103,
      "outputs": [
        {
          "output_type": "stream",
          "name": "stdout",
          "text": [
            "black tea\n",
            "most similar =  {'tea bags': 0.7304371700032178, 'sugar syrup': 0.6893987638484804, 'orange peel': 0.6852856034325084, 'brown rice vinegar': 0.6763849894622718, 'ice cubes': 0.6737396484974221, 'grapefruit': 0.6730457013794638, 'black tea leaves': 0.6599950927039077, 'club soda': 0.650890050515717, 'ginger ale': 0.6464989810563478, 'navel oranges': 0.6455262140080678}\n",
            "most different =  {'pot pie': -0.08751557737733431, 'quince paste': -0.07921214168175923, 'taleggio': -0.06403600100333896, 'capocollo': -0.0523326634915877, 'spicy salami': -0.0523326634915877, 'mie': -0.04834776913276861, 'crouton italian season': -0.0408342223917674, 'italian pizza crust': -0.037191864536221954, 'redfish fillet': -0.03320233110281212, 'Barilla Oven-Ready Lasagne': -0.033178984951356925}\n"
          ]
        }
      ]
    },
    {
      "cell_type": "markdown",
      "source": [
        "SVD128 Weight"
      ],
      "metadata": {
        "id": "a-7GGzv5Hgy0"
      }
    },
    {
      "cell_type": "code",
      "source": [
        "compare(956,svdw128,10)"
      ],
      "metadata": {
        "colab": {
          "base_uri": "https://localhost:8080/"
        },
        "id": "cx6iL3MHHkWb",
        "outputId": "d307d642-8eba-40d3-b96a-1e9f056621cf"
      },
      "execution_count": 104,
      "outputs": [
        {
          "output_type": "stream",
          "name": "stdout",
          "text": [
            "oysters\n",
            "most similar =  {'lump crab meat': 0.8850502389655671, 'ham': 0.8523209971290819, 'crabmeat': 0.851582816320692, 'old bay seasoning': 0.850613540090065, 'medium shrimp': 0.8484134444854421, 'chicken livers': 0.8483879198001534, 'shucked oysters': 0.847814463615135, 'creole seasoning': 0.8473782593331557, 'Tabasco Pepper Sauce': 0.8466083388397829, 'shrimp': 0.8424534943390364}\n",
            "most different =  {'white creme de cacao': -0.04433701127691261, 'vanilla vodka': -0.04433701127691261, 'sherbet': -0.03315998921172729, 'nondairy whipped topping': -0.02670822701547808, 'salad leaves': -0.024105574204991858, 'Jell-O Gelatin Dessert': -0.022697448997070435, 'food paste color': -0.021558428029397027, 'Kraft Sun Dried Tomato Vinaigret': -0.02082588427040487, 'durum wheat flour': -0.018770599233270648, 'dried chipotle pepper': -0.01847854409797877}\n"
          ]
        }
      ]
    },
    {
      "cell_type": "code",
      "source": [
        "compare(2945,svdw128,10)"
      ],
      "metadata": {
        "colab": {
          "base_uri": "https://localhost:8080/"
        },
        "id": "bYvDMfMWHsQt",
        "outputId": "371c2d56-2ce5-4816-9f15-8da8260a2c58"
      },
      "execution_count": 105,
      "outputs": [
        {
          "output_type": "stream",
          "name": "stdout",
          "text": [
            "water\n",
            "most similar =  {'boiling water': 0.9420796214268267, 'hot water': 0.9415871032006851, 'chicken stock': 0.9341518810633602, 'chicken': 0.9261520575852513, 'meat': 0.9251654626833927, 'fat': 0.9216506775089136, 'lemon juice': 0.9195934563813172, 'chicken broth': 0.9186857286443013, 'black pepper': 0.9155421964041384, 'vegetables': 0.9151630672327901}\n",
            "most different =  {'sago pearls': -0.00017666681375585815, 'diet dr. pepper': 0.0008790646340323525, 'dried bonito': 0.0013460450459441347, 'bénédictine': 0.0016123574074330554, 'Lipton Lemon Iced Tea Mix': 0.005972864591311979, 'huckleberries': 0.006797653519292029, 'Ragu Sauce': 0.006809008023348838, 'sour mix': 0.009364681747969276, 'wish bone red wine vinaigrett dr': 0.010580691665382407, 'spicy salami': 0.014329880213680642}\n"
          ]
        }
      ]
    },
    {
      "cell_type": "code",
      "source": [
        "compare(3934,svdw128,10)"
      ],
      "metadata": {
        "colab": {
          "base_uri": "https://localhost:8080/"
        },
        "id": "BU6x_AfOHwFQ",
        "outputId": "0cf89ed9-88dc-4ab8-e87c-96f7665f105a"
      },
      "execution_count": 106,
      "outputs": [
        {
          "output_type": "stream",
          "name": "stdout",
          "text": [
            "beef\n",
            "most similar =  {'pork': 0.9475739522564488, 'cabbage': 0.9346679089098926, 'chili pepper': 0.9242377435328322, 'noodles': 0.9226533566713998, 'vinegar': 0.9194937408029673, 'stock': 0.9184612221869712, 'rice': 0.9168415474426531, 'meat': 0.9165430415131179, 'vegetables': 0.9151331811319108, 'mushrooms': 0.9117752783827203}\n",
            "most different =  {'ground coffee': -0.01948836655200602, 'sliced fresh fruit': -0.013502374956880078, 'wish bone red wine vinaigrett dr': -0.008902698792702514, 'nondairy whipped topping': -0.008790244840903575, 'aged gouda': -0.008596850451528614, 'unsalted roasted pistachios': -0.007993135626930416, 'coffee low-fat frozen yogurt': -0.007885750650858097, 'Domino Confectioners Sugar': -0.007384095226308086, 'granular sucrolose sweetener': -0.007021310342091981, 'quince paste': -0.006836010672590416}\n"
          ]
        }
      ]
    },
    {
      "cell_type": "code",
      "source": [
        "compare(71,svdw128,10)"
      ],
      "metadata": {
        "colab": {
          "base_uri": "https://localhost:8080/"
        },
        "id": "hqRY2C8hIAdN",
        "outputId": "1a802e6e-960c-4e71-d1d3-17f9e233a338"
      },
      "execution_count": 107,
      "outputs": [
        {
          "output_type": "stream",
          "name": "stdout",
          "text": [
            "black tea\n",
            "most similar =  {'plums': 0.7000954918236041, 'ice cubes': 0.6970612179235776, 'tea bags': 0.6943385491732418, 'silver': 0.6906326381743418, 'orange': 0.6899130109348666, 'pork baby back ribs': 0.6782757516998599, 'green tea': 0.6765423896096482, 'grapefruit': 0.6698520354387545, 'ice': 0.6639159285154526, 'mint sprigs': 0.6588623999534171}\n",
            "most different =  {'spicy salami': -0.10757703073668627, 'capocollo': -0.1067433617115797, 'taco seasoned cheese': -0.07294721605513857, 'shrimp chips': -0.06431526382237923, 'kumquats in syrup': -0.059275595195389365, 'red pepper hot sauce': -0.0501710184150049, 'Old El Paso™ mild red enchilada': -0.04983175171434783, 'chicken nugget': -0.04220838702892408, 'medium cheddar cheese': -0.03220291029014205, 'paratha': -0.028973985634553067}\n"
          ]
        }
      ]
    },
    {
      "cell_type": "markdown",
      "source": [
        "LSTM128"
      ],
      "metadata": {
        "id": "jYIVsUccIDlN"
      }
    },
    {
      "cell_type": "code",
      "source": [
        "compare(956,lstm128,10)"
      ],
      "metadata": {
        "colab": {
          "base_uri": "https://localhost:8080/"
        },
        "id": "WuKFmqZ_IC0Q",
        "outputId": "44de3c25-83d8-4930-fe50-07f861477a56"
      },
      "execution_count": 108,
      "outputs": [
        {
          "output_type": "stream",
          "name": "stdout",
          "text": [
            "oysters\n",
            "most similar =  {'non-dairy margarine': 0.3244311496649866, 'fresh veget': 0.2942491670837736, 'Holland House White Wine Vinegar': 0.28808550016097567, 'serrano peppers': 0.28705294183730745, 'white rice vinegar': 0.28612797371899307, 'pita bread': 0.274361295701365, 'catsup': 0.257620267701732, 'gelatin': 0.25707354805104193, 'whole wheat tortillas': 0.2526015107749431, 'squash seeds': 0.2518476192456978}\n",
            "most different =  {'light cream cheese': -0.3374689844568287, 'beef sirloin': -0.3163949374291713, 'flan': -0.30986742691898034, 'gala apples': -0.2991590654480132, 'sunchokes': -0.259379104930181, 'pinenuts': -0.2547980771435051, 'pita chips': -0.25142631763184636, 'romana': -0.25127775867173513, 'hillshire farms low fat sausage': -0.24705649380583491, 'spring onions': -0.24638623637303908}\n"
          ]
        }
      ]
    },
    {
      "cell_type": "code",
      "source": [
        "compare(2945,lstm128,10)"
      ],
      "metadata": {
        "colab": {
          "base_uri": "https://localhost:8080/"
        },
        "id": "avdS4dr4IJvg",
        "outputId": "707bbe53-fd94-49a6-9112-f5534b06a103"
      },
      "execution_count": 109,
      "outputs": [
        {
          "output_type": "stream",
          "name": "stdout",
          "text": [
            "water\n",
            "most similar =  {'marrow': 0.3436740640504066, 'jerk paste': 0.3003874582948378, 'Spice Islands Ground Cumin Seed': 0.2997214341920753, 'flanken short ribs': 0.28771234183964794, 'cook egg hard': 0.2784977698871533, 'Chinese sesame paste': 0.27551998632976404, 'green bellpepper': 0.2674178460073074, 'fresh orange': 0.26271258828120425, 'Tipo 00 flour': 0.25921699049820257, 'canadian bacon': 0.2562444581016512}\n",
            "most different =  {'cremini mushrooms': -0.33276208547589237, 'Knorr® Beef Bouillon': -0.328877170127893, 'pancake batter': -0.32634327332295743, 'light sour cream': -0.30406312946884057, 'straw mushrooms': -0.2921767283659083, 'unsweetened applesauce': -0.28184560508977347, 'chocolate chip cookie mix': -0.27952601192314885, 'preserv raspberri seedless': -0.2790002651564464, 'sweet and sour mix': -0.27741514488773883, 'seeds': -0.270727263054195}\n"
          ]
        }
      ]
    },
    {
      "cell_type": "code",
      "source": [
        "compare(3934,lstm128,10)"
      ],
      "metadata": {
        "colab": {
          "base_uri": "https://localhost:8080/"
        },
        "id": "aGEmWwAaIOkn",
        "outputId": "bb826372-c460-4e8c-b645-0d151383c453"
      },
      "execution_count": 110,
      "outputs": [
        {
          "output_type": "stream",
          "name": "stdout",
          "text": [
            "beef\n",
            "most similar =  {'slider buns': 0.29444559983706325, 'won ton skins': 0.27685753730220614, 'beef bouillon powder': 0.2719513614975605, 'buckwheat groats': 0.26932244286595874, 'blackening seasoning': 0.26438335622146986, 'comino': 0.2603752903190379, 'Mazola Canola Oil': 0.25825460241917186, 'maui onion': 0.25559418564078545, 'wildflower honey': 0.2553300550540712, 'maple syrup': 0.25261499874355}\n",
            "most different =  {'chip plain tortilla': -0.30218823738480094, 'steamer': -0.30022764190734846, 'frozen onion rings': -0.2995276056289855, 'fontina cheese': -0.2905440404819733, 'chutney': -0.2834118452000336, 'boneless skinless chicken': -0.27773726487031924, 'Azteca Flour Tortillas': -0.27545403007593366, 'no salt added chicken broth': -0.2744336296233577, 'rose essence': -0.26962961512622957, 'rib-eye roast': -0.26949861968681665}\n"
          ]
        }
      ]
    },
    {
      "cell_type": "code",
      "source": [
        "compare(71,lstm128,10)"
      ],
      "metadata": {
        "colab": {
          "base_uri": "https://localhost:8080/"
        },
        "id": "l-k-_WqRIS-a",
        "outputId": "c7fe939b-a8ce-44db-bd09-ce6316b9fed9"
      },
      "execution_count": 111,
      "outputs": [
        {
          "output_type": "stream",
          "name": "stdout",
          "text": [
            "black tea\n",
            "most similar =  {'beef broth': 0.3257762389554661, 'honey mustard': 0.3232873874878513, 'cornbread crumbs': 0.31892353911829197, 'peaches in heavy syrup': 0.30199684793397574, 'amaretti': 0.29702671152164756, 'butterscotch filling': 0.2901087746069962, 'vanilla low-fat ic cream': 0.28647609634874555, 'low-fat bottled italian dressing': 0.2833686948417287, 'reduced sodium chicken broth': 0.26513409487442, 'Mexican beer': 0.2634306176367107}\n",
            "most different =  {'ibarra': -0.33301900265293694, 'granulated garlic': -0.311303846090432, 'george dickel': -0.28926822320945333, 'prepared horseradish': -0.28857268856137785, 'low-fat sweetened condensed milk': -0.2871094807966323, 'wheatberries': -0.283272610323107, 'tomato sauce': -0.27791103884235874, 'veal chops': -0.27787992936550165, 'corn niblets': -0.2776132191841156, 'fresh cheese': -0.2745132010567357}\n"
          ]
        }
      ]
    },
    {
      "cell_type": "markdown",
      "source": [
        "Node2Vec"
      ],
      "metadata": {
        "id": "UzoV2k_JIZ_q"
      }
    },
    {
      "cell_type": "code",
      "source": [
        "compare(956,node2vecp1q10,10)"
      ],
      "metadata": {
        "colab": {
          "base_uri": "https://localhost:8080/"
        },
        "id": "qaeeOu-MIWNt",
        "outputId": "eafbdea1-642f-45d9-aed9-0faf033c5de8"
      },
      "execution_count": 112,
      "outputs": [
        {
          "output_type": "stream",
          "name": "stdout",
          "text": [
            "oysters\n",
            "most similar =  {'shrimp stock': 0.9727365340355812, 'smoked ham hocks': 0.972431925099041, 'lobster': 0.969535368905853, 'baby carrots': 0.9688908268180506, 'roux': 0.9682998047576298, 'crab': 0.966191784331447, 'onion tops': 0.9652386314346089, 'bay scallops': 0.9652128350572994, 'duck drumsticks': 0.9630989593240639, 'file powder': 0.9621494903824921}\n",
            "most different =  {'pot pie': 0.06338735106406526, 'lemon lime beverage': 0.1927555505567268, 'food paste color': 0.234096237949611, 'dried chipotle pepper': 0.2571191859121467, 'spring mix': 0.2753309649350241, 'orange soda': 0.28440215761090754, 'custard': 0.2918262207509767, 'blackberry brandy': 0.33286064650878583, 'muesli': 0.36997439999986187, 'mini pepperoni slices': 0.39131996934092417}\n"
          ]
        }
      ]
    },
    {
      "cell_type": "code",
      "source": [
        "compare(2945,node2vecp1q10,10)"
      ],
      "metadata": {
        "colab": {
          "base_uri": "https://localhost:8080/"
        },
        "id": "fwN6mBDeIhAo",
        "outputId": "65744713-ff83-4a7d-9e37-68bb7f76eb3f"
      },
      "execution_count": 113,
      "outputs": [
        {
          "output_type": "stream",
          "name": "stdout",
          "text": [
            "water\n",
            "most similar =  {'salt': 0.9507025988898223, 'vegetable oil': 0.9473874900025736, 'chicken legs': 0.9211048407255304, 'gray salt': 0.9125490763209293, 'fermented bean paste': 0.9105133262864954, 'liver': 0.910123109894362, 'chicken stock cubes': 0.9096208479959479, 'lychees': 0.9095846465017663, 'jerk marinade': 0.9094002929368595, 'fat free lemon curd': 0.9093667480930845}\n",
            "most different =  {'lemon lime beverage': 0.1332463658181653, 'pot pie': 0.1435116522405703, 'orange soda': 0.2707331252592644, 'food paste color': 0.27237026930336594, 'custard': 0.29374238096313104, 'spring mix': 0.2944619695643378, 'blackberry brandy': 0.3011717672653678, 'dried chipotle pepper': 0.3199197460928213, 'mini pepperoni slices': 0.3288413300893504, 'muesli': 0.3657493397991774}\n"
          ]
        }
      ]
    },
    {
      "cell_type": "code",
      "source": [
        "compare(3934,node2vecp1q10,10)"
      ],
      "metadata": {
        "colab": {
          "base_uri": "https://localhost:8080/"
        },
        "id": "omAOJ1tAIlmI",
        "outputId": "ddfc5d5e-7350-4318-fab9-ba9e26823744"
      },
      "execution_count": 114,
      "outputs": [
        {
          "output_type": "stream",
          "name": "stdout",
          "text": [
            "beef\n",
            "most similar =  {'cooking oil': 0.9599604677512701, 'stock': 0.9574579464248757, 'chili pepper': 0.9496183282428555, 'vegetables': 0.9467199423990318, 'hot pepper': 0.9459413850576688, 'crushed garlic': 0.9447352007022617, 'egg noodles': 0.9440501914041809, 'corn flour': 0.9433176063935738, 'veggies': 0.9426326546749478, 'rock sugar': 0.9406197053314157}\n",
            "most different =  {'pot pie': 0.008570119031002804, 'dried chipotle pepper': 0.20570669131750147, 'orange soda': 0.2374336074258251, 'food paste color': 0.24219193120202798, 'lemon lime beverage': 0.24655094904218144, 'Jell-O Gelatin Dessert': 0.2682875717536229, 'spring mix': 0.2727382052123918, 'muesli': 0.3124216871997025, 'blackberry brandy': 0.32322375045625484, 'custard': 0.3481990095322246}\n"
          ]
        }
      ]
    },
    {
      "cell_type": "code",
      "source": [
        "compare(71,node2vecp1q10,10)"
      ],
      "metadata": {
        "colab": {
          "base_uri": "https://localhost:8080/"
        },
        "id": "_4cEZqpeIszo",
        "outputId": "31f27b19-f757-4636-aea4-7839eb122d22"
      },
      "execution_count": 115,
      "outputs": [
        {
          "output_type": "stream",
          "name": "stdout",
          "text": [
            "black tea\n",
            "most similar =  {'coca-cola': 0.9960111431988234, 'minced meat': 0.9949027552287408, 'white flour': 0.9944707651338714, 'dried orange peel': 0.9943042726850589, 'straight bourbon whiskey': 0.9942489291508018, 'cold milk': 0.9940753016713676, '7 Up': 0.9940222640930099, 'crushed graham crackers': 0.9939634604658942, 'rich chicken stock': 0.9939432620666319, 'chocolate bars': 0.9938186585691158}\n",
            "most different =  {'pot pie': 0.09676875765493005, 'food paste color': 0.19811228354302465, 'spring mix': 0.23679780537180073, 'lemon lime beverage': 0.2902902468466686, 'blackberry brandy': 0.30461374729637064, 'Jell-O Gelatin Dessert': 0.3246899930357494, 'orange soda': 0.33176463280229324, 'dried chipotle pepper': 0.3417767253441464, 'custard': 0.3508132834630843, 'mini pepperoni slices': 0.3553099883982496}\n"
          ]
        }
      ]
    },
    {
      "cell_type": "markdown",
      "source": [
        "Word2Vec"
      ],
      "metadata": {
        "id": "rI5WYcEII0Cm"
      }
    },
    {
      "cell_type": "code",
      "source": [
        "compare(956,word2vec,10)"
      ],
      "metadata": {
        "colab": {
          "base_uri": "https://localhost:8080/"
        },
        "id": "tL1ACQOkI1Q0",
        "outputId": "f17a699b-2b45-423e-a691-469950d21363"
      },
      "execution_count": 116,
      "outputs": [
        {
          "output_type": "stream",
          "name": "stdout",
          "text": [
            "oysters\n",
            "most similar =  {'thick-cut bacon': 0.943112839678314, 'savory': 0.9406266352233859, 'corn grits': 0.9398516701893307, 'ham steak': 0.9369362393063532, 'port': 0.9345254226325422, 'rib': 0.9342973223042632, 'shucked oysters': 0.9333980895781195, 'gumbo file': 0.930574538426432, 'canned beef broth': 0.9301310563429425, 'fryer chickens': 0.9288773178160609}\n",
            "most different =  {'plain seltzer': -0.289447538252755, 'organic granulated sugar': -0.2120368409709209, 'carbonated beverages': -0.20216399322704, 'grassfed beef': -0.1989113412617365, 'sweet turkey sausage': -0.18646435474004946, 'english breakfast tea bags': -0.18512588231031069, 'mozzarella string cheese': -0.18369786917698464, 'raw peeled prawns': -0.1801734595730252, 'chicken in water': -0.17453909812208498, 'lipton onion soup mix': -0.17204357439412177}\n"
          ]
        }
      ]
    },
    {
      "cell_type": "code",
      "source": [
        "compare(2945,word2vec,10)"
      ],
      "metadata": {
        "colab": {
          "base_uri": "https://localhost:8080/"
        },
        "id": "FdZjVp9iI8V-",
        "outputId": "6132ba0f-1954-4eee-8eab-c0735c77bfb1"
      },
      "execution_count": 117,
      "outputs": [
        {
          "output_type": "stream",
          "name": "stdout",
          "text": [
            "water\n",
            "most similar =  {'hot water': 0.7456585484572232, 'cold water': 0.6478383701496664, 'meat': 0.5792389117584638, 'vegetable stock': 0.5768585537254886, 'extra large shrimp': 0.57599311660342, 'boiling water': 0.5753425989511542, 'pork stock': 0.5743322166718592, 'boneless chicken thighs': 0.5721241291413036, 'yams': 0.5700997124870766, 'fat': 0.5690582733735676}\n",
            "most different =  {'hakusai': -0.2605743781891103, 'treviso radicchio': -0.21661478487743382, 'ground poppy seed': -0.2136481831882251, 'butterscotch filling': -0.21364351205597096, 'bai cai': -0.2037984957351341, 'egg roll skins': -0.20096035842688972, 'fresh lavender': -0.1950996708815254, 'raw peeled prawns': -0.19490549902365925, 'avocado dressing': -0.19209085635690637, 'knorr homestyl stock   beef': -0.18201972739681155}\n"
          ]
        }
      ]
    },
    {
      "cell_type": "code",
      "source": [
        "compare(3934,word2vec,10)"
      ],
      "metadata": {
        "colab": {
          "base_uri": "https://localhost:8080/"
        },
        "id": "waHC7sZLJB1A",
        "outputId": "d18962e0-7ea9-450f-dfc5-955c7ab21e8f"
      },
      "execution_count": 118,
      "outputs": [
        {
          "output_type": "stream",
          "name": "stdout",
          "text": [
            "beef\n",
            "most similar =  {'soup': 0.8818879862864586, 'boneless chicken breast': 0.880584347567597, 'boneless chicken thighs': 0.8775385990793682, 'veggies': 0.8750209153704601, 'crab': 0.8494961508890447, 'pork chops': 0.8492052195607446, 'shrimp shells': 0.8479453925401622, 'greens': 0.8446080306100502, 'calamansi': 0.8388486327510606, 'chili pepper flakes': 0.8301996459691434}\n",
            "most different =  {'crumpet': -0.21762833677539656, 'bai cai': -0.21014177036721363, 'asakusa nori': -0.20977332353584618, 'non dairy yogurt': -0.20760134150345208, 'Flora Original': -0.20020575316202235, 'carbonated beverages': -0.1914197622922052, 'fresh lavender': -0.18325794871253473, 'osetra caviar': -0.1788947192231162, 'Manischewitz Matzo Meal': -0.1749339535537169, 'tomate verde': -0.1697905508814066}\n"
          ]
        }
      ]
    },
    {
      "cell_type": "code",
      "source": [
        "compare(71,word2vec,10)"
      ],
      "metadata": {
        "colab": {
          "base_uri": "https://localhost:8080/"
        },
        "id": "xQQyWHHmJL4y",
        "outputId": "d92308a1-51ba-46be-8da4-32f299100f34"
      },
      "execution_count": 119,
      "outputs": [
        {
          "output_type": "stream",
          "name": "stdout",
          "text": [
            "black tea\n",
            "most similar =  {'cassava': 0.9624087345995597, 'seltzer water': 0.9620173572087994, 'flan': 0.9606649718635595, 'chilled prosecco': 0.9577636742822401, 'cacao nibs': 0.9562265433565511, 'southern comfort': 0.9549010016670608, 'candied ginger': 0.9542447560231286, 'tea leaves': 0.9536891938338613, 'cream of coconut': 0.9535620571021741, 'chocolate covered english toffee': 0.9534323882498903}\n",
            "most different =  {'plain seltzer': -0.2218491054856095, 'smithfield ham': -0.21223085202242148, 'carbonated beverages': -0.19978185703601828, 'butter flavor shortening': -0.19555851098544377, 'manouri': -0.1931570017098595, 'chourico': -0.1863034041147966, 'lox': -0.18249967420545507, 'Camellia Red Kidney Beans': -0.17541615890663934, 'table wine': -0.16955649029217362, 'pangasius': -0.16310622761726531}\n"
          ]
        }
      ]
    },
    {
      "cell_type": "markdown",
      "source": [
        "This comparaison is purely qualitative and may not reflect how each embedding perform in defferent method. It's seems that the SVD, SVD weighted, Node2Vec are giving result that make the most sense.\n",
        "\n",
        "The embedding coming from the first layer of the LSTM classifier seems to be the worst."
      ],
      "metadata": {
        "id": "bWftgVijKnAZ"
      }
    }
  ]
}