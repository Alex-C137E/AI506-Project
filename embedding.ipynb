{
 "cells": [
  {
   "cell_type": "code",
   "execution_count": 1,
   "metadata": {
    "id": "-6DOYhl2nxKX"
   },
   "outputs": [],
   "source": [
    "import numpy as np\n",
    "import pandas as pd\n",
    "import networkx as nx\n",
    "#from stellargraph.data import BiasedRandomWalk\n",
    "#from stellargraph import StellarGraph\n",
    "from gensim.models import Word2Vec\n",
    "import csv"
   ]
  },
  {
   "cell_type": "code",
   "execution_count": 3,
   "metadata": {
    "id": "sDTm4VlroEiJ"
   },
   "outputs": [],
   "source": [
    "#Get train.csv data\n",
    "df = pd.read_fwf('train.csv', header=None)\n",
    "df = df[0].str.split(',', expand=True) "
   ]
  },
  {
   "cell_type": "code",
   "execution_count": 34,
   "metadata": {
    "id": "CCBqBhOjoxEW"
   },
   "outputs": [],
   "source": [
    "#Get ingredient id\n",
    "df2 = pd.read_fwf('node_ingredient.csv', header=None)\n",
    "idToNode = {}\n",
    "for index , row in df2.iterrows():\n",
    "    idToNode[index] = row[0]\n"
   ]
  },
  {
   "cell_type": "code",
   "execution_count": 15,
   "metadata": {
    "colab": {
     "base_uri": "https://localhost:8080/"
    },
    "id": "YQDahpQWpszb",
    "outputId": "e811e3d3-0aab-4303-87f4-8e3fe32b977a"
   },
   "outputs": [
    {
     "data": {
      "text/plain": [
       "6714"
      ]
     },
     "execution_count": 15,
     "metadata": {},
     "output_type": "execute_result"
    }
   ],
   "source": [
    "len(idToNode)"
   ]
  },
  {
   "cell_type": "code",
   "execution_count": 4,
   "metadata": {
    "id": "nniKgbhAtP6F"
   },
   "outputs": [],
   "source": [
    "#Create dict of dict where the first key is ingredient id the value is another dict \n",
    "#with key are nodes he shares receipt with and value the number of receipt they have in common\n",
    "ingredientAdjancy = {}\n",
    "ingredientNbR = {}\n",
    "for index , row in df.iterrows():\n",
    "    for i in row.values:\n",
    "        if i is not None and i.isdigit() and int(i) not in ingredientAdjancy.keys():\n",
    "            ingredientAdjancy[int(i)] = {}\n",
    "        for y in row.values:\n",
    "            if i is not None and  y is not None and i.isdigit() and y.isdigit():\n",
    "                if i != y:\n",
    "                    if int(y) not in ingredientAdjancy[int(i)].keys():\n",
    "                        ingredientAdjancy[int(i)][int(y)] = 1\n",
    "                    else:\n",
    "                        ingredientAdjancy[int(i)][int(y)] += 1\n",
    "        if i is not None and i.isdigit():\n",
    "            if int(i) not in ingredientNbR.keys():\n",
    "                ingredientNbR[int(i)] = 1\n",
    "            else:\n",
    "                ingredientNbR[int(i)] += 1\n"
   ]
  },
  {
   "cell_type": "code",
   "execution_count": 16,
   "metadata": {
    "colab": {
     "base_uri": "https://localhost:8080/"
    },
    "id": "Flq7Bz96ooen",
    "outputId": "78272d24-9dfc-4099-fc10-0dc0d8e1b635"
   },
   "outputs": [
    {
     "data": {
      "text/plain": [
       "5860"
      ]
     },
     "execution_count": 16,
     "metadata": {},
     "output_type": "execute_result"
    }
   ],
   "source": [
    "len(ingredientAdjancy)"
   ]
  },
  {
   "cell_type": "code",
   "execution_count": 19,
   "metadata": {
    "id": "BU0u15WPp0Ie"
   },
   "outputs": [],
   "source": [
    "import csv\n",
    "fh = open('edgeListWeight.csv','w')\n",
    "writer = csv.writer(fh)\n",
    "for i in ingredientAdjancy.keys():\n",
    "    for y in ingredientAdjancy[i].keys():\n",
    "        t = str(i)+'\\t'+str(y)+'\\t'+str(ingredientAdjancy[i][y])\n",
    "        writer.writerow([t])\n",
    "fh.close()"
   ]
  },
  {
   "cell_type": "code",
   "execution_count": 20,
   "metadata": {
    "id": "YMGPW2SVqQWE"
   },
   "outputs": [],
   "source": [
    "import csv\n",
    "fh = open('edgeList.csv','w')\n",
    "writer = csv.writer(fh)\n",
    "for i in ingredientAdjancy.keys():\n",
    "    for y in ingredientAdjancy[i].keys():\n",
    "        t = str(i)+'\\t'+str(y)\n",
    "        writer.writerow([t])\n",
    "fh.close()"
   ]
  },
  {
   "cell_type": "code",
   "execution_count": 13,
   "metadata": {
    "id": "MIZ3N3r2s5uz"
   },
   "outputs": [],
   "source": [
    "Gw = nx.read_edgelist('edgeListWeight.csv', nodetype=int, data=(('weight',float),))\n",
    "G = nx.read_edgelist('edgeList.csv', nodetype=int, data=(('weight',float),))"
   ]
  },
  {
   "cell_type": "code",
   "execution_count": 14,
   "metadata": {
    "colab": {
     "base_uri": "https://localhost:8080/"
    },
    "id": "vpee5dkrqgoD",
    "outputId": "2183066f-f548-4b75-8491-f1e4811e1fd9"
   },
   "outputs": [
    {
     "name": "stdout",
     "output_type": "stream",
     "text": [
      "5860\n",
      "353396\n"
     ]
    }
   ],
   "source": [
    "print(len(G.nodes()))\n",
    "print(len((G.edges())))\n",
    "nodes = list(G.nodes())\n"
   ]
  },
  {
   "cell_type": "markdown",
   "metadata": {
    "id": "1z5D-wkCqksv"
   },
   "source": [
    "Some ingredient are not part of the graph (have no edge)"
   ]
  },
  {
   "cell_type": "markdown",
   "metadata": {
    "id": "kkNzYeIasscI"
   },
   "source": [
    "Use Node2vec -> first need to generate weighted random walk. Then use Word2Vec to generate the embedding.\n",
    "Generate random walktake quite some time, I already generate 4 of them using different paramters that should adjust the balance between sutrucural and local importance. This might be improved by trying different set of hyperparameter. "
   ]
  },
  {
   "cell_type": "code",
   "execution_count": 43,
   "metadata": {
    "id": "qt5_vjIbqwqK"
   },
   "outputs": [],
   "source": [
    "#Use StellarGraph library to generate the weighted random walk\n",
    "GwS = StellarGraph.from_networkx(Gw)"
   ]
  },
  {
   "cell_type": "code",
   "execution_count": null,
   "metadata": {
    "id": "QIappo1wtt3w"
   },
   "outputs": [],
   "source": [
    "rw = BiasedRandomWalk(GwS)"
   ]
  },
  {
   "cell_type": "code",
   "execution_count": null,
   "metadata": {
    "id": "J6HMSEpUtvtd"
   },
   "outputs": [],
   "source": [
    "weighted_walks = rw.run(\n",
    "        nodes=G.nodes(), \n",
    "        length=100,    # maximum length of a random walk\n",
    "        n=10,          # number of random walks per root node\n",
    "        p=1,         # Defines (unormalised) probability, 1/p, of returning to source node\n",
    "        q=100,         # Defines (unormalised) probability, 1/q, for moving away from source node\n",
    "        weighted=True, #for weighted random walks\n",
    "        seed=42        # random seed fixed for reproducibility\n",
    "    )"
   ]
  },
  {
   "cell_type": "code",
   "execution_count": null,
   "metadata": {
    "id": "dao-W8Tst5RN"
   },
   "outputs": [],
   "source": [
    "str(weighted_walks[1])"
   ]
  },
  {
   "cell_type": "code",
   "execution_count": null,
   "metadata": {
    "id": "g6IBOQ_11Tyb"
   },
   "outputs": [],
   "source": [
    "#Save the random walk\n",
    "import csv\n",
    "\n",
    "fh = open('NodeRandomWalkp1q100.csv','w')\n",
    "writer = csv.writer(fh)\n",
    "for i in range(5860):\n",
    "    for y in range(10):\n",
    "        t = str(GwS.nodes()[i])+\" \"+str(weighted_walks[i*10+y])\n",
    "        writer.writerow([t])\n",
    "fh.close()"
   ]
  },
  {
   "cell_type": "code",
   "execution_count": 28,
   "metadata": {
    "id": "oM_uK7zbuKYD"
   },
   "outputs": [],
   "source": [
    "#Import random walk\n",
    "import ast\n",
    "rp1q10 = pd.read_fwf('RW/WRandomWalkp1q2.csv', header=None, delimiter= \" \")\n",
    "\n",
    "rp1q10_list = []\n",
    "for index, value in rp1q10.iterrows():\n",
    "    t = False\n",
    "    s = \"\"\n",
    "    for i in value[0]:\n",
    "        if i == \"[\":\n",
    "            t = True\n",
    "        if i == '\"' and t:\n",
    "            t = False\n",
    "        if t:\n",
    "            s+=i\n",
    "    if s[len(s)-1] != \"]\":\n",
    "        s+=\"]\"\n",
    "    rp1q10_list.append(ast.literal_eval(s)) \n",
    "  "
   ]
  },
  {
   "cell_type": "code",
   "execution_count": 29,
   "metadata": {
    "colab": {
     "base_uri": "https://localhost:8080/",
     "height": 222
    },
    "id": "r-d8zrdj3eSF",
    "outputId": "324d41b4-247c-44de-b597-60a5adb0f0f0"
   },
   "outputs": [],
   "source": [
    "from gensim.test.utils import common_texts\n",
    "from gensim.models import Word2Vec\n",
    "\n",
    "embNod2V = Word2Vec(sentences=rp1q10_list, vector_size=64, window=3, min_count=0, sg=1, workers=1, epochs=1)"
   ]
  },
  {
   "cell_type": "code",
   "execution_count": 30,
   "metadata": {},
   "outputs": [
    {
     "data": {
      "text/plain": [
       "5865"
      ]
     },
     "execution_count": 30,
     "metadata": {},
     "output_type": "execute_result"
    }
   ],
   "source": [
    "len(embNod2V.wv)"
   ]
  },
  {
   "cell_type": "code",
   "execution_count": 51,
   "metadata": {
    "colab": {
     "base_uri": "https://localhost:8080/",
     "height": 240
    },
    "id": "6otuKd324Z96",
    "outputId": "e81eed36-4051-410b-86e8-cb3efc61753b",
    "scrolled": true
   },
   "outputs": [
    {
     "name": "stdout",
     "output_type": "stream",
     "text": [
      "0.9917877 1529\n",
      "min  is most similar to:  tamarind extract\n"
     ]
    }
   ],
   "source": [
    "from numpy import dot\n",
    "from numpy.linalg import norm\n",
    "m=0\n",
    "test = 6000\n",
    "for i in Gw.nodes():\n",
    "    if i != test:\n",
    "        a = embNod2V.wv[test]\n",
    "        b = embNod2V.wv[i]\n",
    "        cos_sim = dot(a, b)/(norm(a)*norm(b))\n",
    "        if cos_sim > m:\n",
    "            vm = i\n",
    "            m = cos_sim\n",
    "print(m,vm)\n",
    "print(idToNode[test],\" is most similar to: \",idToNode[vm])"
   ]
  },
  {
   "cell_type": "code",
   "execution_count": 52,
   "metadata": {},
   "outputs": [],
   "source": [
    "fh = open('Embedding/Embp1q100.csv','w')\n",
    "writer = csv.writer(fh)\n",
    "for i in Gw.nodes():\n",
    "    writer.writerow([i,embNod2V.wv[i]])\n",
    "fh.close()"
   ]
  },
  {
   "cell_type": "markdown",
   "metadata": {},
   "source": [
    "Second embedding method (not weighted)"
   ]
  },
  {
   "cell_type": "code",
   "execution_count": 70,
   "metadata": {},
   "outputs": [],
   "source": [
    "from sklearn.decomposition import  TruncatedSVD\n",
    "\n",
    "A = nx.adjacency_matrix(G) \n",
    "\n",
    "svd = TruncatedSVD(n_components=128)\n",
    "X = svd.fit_transform(A);"
   ]
  },
  {
   "cell_type": "markdown",
   "metadata": {},
   "source": [
    "Save different embedding size (You can find 32-64-128 in /embedding)"
   ]
  },
  {
   "cell_type": "code",
   "execution_count": 71,
   "metadata": {},
   "outputs": [],
   "source": [
    "import csv\n",
    "\n",
    "fh = open('Embedding/SVD128.csv','w')\n",
    "writer = csv.writer(fh)\n",
    "\n",
    "y = 0\n",
    "for i in G.nodes():\n",
    "    writer.writerow([i,X[y]]) \n",
    "    y += 1\n",
    "    \n",
    "fh.close()"
   ]
  },
  {
   "cell_type": "code",
   "execution_count": 74,
   "metadata": {},
   "outputs": [
    {
     "name": "stdout",
     "output_type": "stream",
     "text": [
      "0.8458904945495505 264\n",
      "black olives  is most similar to:  olives\n"
     ]
    }
   ],
   "source": [
    "test = 6\n",
    "m = 0\n",
    "\n",
    "for i in range(5860):\n",
    "    if i != test:\n",
    "        a = X[test]\n",
    "        b = X[i]\n",
    "        cos_sim = dot(a, b)/(norm(a)*norm(b))\n",
    "        if cos_sim > m:\n",
    "            vm = i\n",
    "            m = cos_sim\n",
    "print(m,vm)\n",
    "print(idToNode[list(G.nodes())[test]],\" is most similar to: \",idToNode[list(G.nodes())[vm]])"
   ]
  },
  {
   "cell_type": "code",
   "execution_count": null,
   "metadata": {},
   "outputs": [],
   "source": []
  }
 ],
 "metadata": {
  "colab": {
   "collapsed_sections": [],
   "name": "Projet.ipynb",
   "provenance": []
  },
  "kernelspec": {
   "display_name": "Python 3",
   "language": "python",
   "name": "python3"
  },
  "language_info": {
   "codemirror_mode": {
    "name": "ipython",
    "version": 3
   },
   "file_extension": ".py",
   "mimetype": "text/x-python",
   "name": "python",
   "nbconvert_exporter": "python",
   "pygments_lexer": "ipython3",
   "version": "3.8.5"
  }
 },
 "nbformat": 4,
 "nbformat_minor": 1
}
