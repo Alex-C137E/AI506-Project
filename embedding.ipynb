{
 "cells": [
  {
   "cell_type": "code",
   "execution_count": 1,
   "metadata": {
    "colab": {
     "base_uri": "https://localhost:8080/"
    },
    "id": "eRLDoFBHn_9e",
    "outputId": "cabdf06d-c87e-4b4e-e6cb-bb46329c2c33"
   },
   "outputs": [
    {
     "name": "stdout",
     "output_type": "stream",
     "text": [
      "Collecting StellarGraph\n",
      "  Downloading stellargraph-1.2.1-py3-none-any.whl (435 kB)\n",
      "\u001b[?25l\r",
      "\u001b[K     |▊                               | 10 kB 22.6 MB/s eta 0:00:01\r",
      "\u001b[K     |█▌                              | 20 kB 29.9 MB/s eta 0:00:01\r",
      "\u001b[K     |██▎                             | 30 kB 16.5 MB/s eta 0:00:01\r",
      "\u001b[K     |███                             | 40 kB 8.0 MB/s eta 0:00:01\r",
      "\u001b[K     |███▊                            | 51 kB 7.8 MB/s eta 0:00:01\r",
      "\u001b[K     |████▌                           | 61 kB 9.2 MB/s eta 0:00:01\r",
      "\u001b[K     |█████▎                          | 71 kB 9.7 MB/s eta 0:00:01\r",
      "\u001b[K     |██████                          | 81 kB 8.9 MB/s eta 0:00:01\r",
      "\u001b[K     |██████▊                         | 92 kB 9.8 MB/s eta 0:00:01\r",
      "\u001b[K     |███████▌                        | 102 kB 8.4 MB/s eta 0:00:01\r",
      "\u001b[K     |████████▎                       | 112 kB 8.4 MB/s eta 0:00:01\r",
      "\u001b[K     |█████████                       | 122 kB 8.4 MB/s eta 0:00:01\r",
      "\u001b[K     |█████████▉                      | 133 kB 8.4 MB/s eta 0:00:01\r",
      "\u001b[K     |██████████▌                     | 143 kB 8.4 MB/s eta 0:00:01\r",
      "\u001b[K     |███████████▎                    | 153 kB 8.4 MB/s eta 0:00:01\r",
      "\u001b[K     |████████████                    | 163 kB 8.4 MB/s eta 0:00:01\r",
      "\u001b[K     |████████████▉                   | 174 kB 8.4 MB/s eta 0:00:01\r",
      "\u001b[K     |█████████████▌                  | 184 kB 8.4 MB/s eta 0:00:01\r",
      "\u001b[K     |██████████████▎                 | 194 kB 8.4 MB/s eta 0:00:01\r",
      "\u001b[K     |███████████████                 | 204 kB 8.4 MB/s eta 0:00:01\r",
      "\u001b[K     |███████████████▉                | 215 kB 8.4 MB/s eta 0:00:01\r",
      "\u001b[K     |████████████████▋               | 225 kB 8.4 MB/s eta 0:00:01\r",
      "\u001b[K     |█████████████████▎              | 235 kB 8.4 MB/s eta 0:00:01\r",
      "\u001b[K     |██████████████████              | 245 kB 8.4 MB/s eta 0:00:01\r",
      "\u001b[K     |██████████████████▉             | 256 kB 8.4 MB/s eta 0:00:01\r",
      "\u001b[K     |███████████████████▋            | 266 kB 8.4 MB/s eta 0:00:01\r",
      "\u001b[K     |████████████████████▎           | 276 kB 8.4 MB/s eta 0:00:01\r",
      "\u001b[K     |█████████████████████           | 286 kB 8.4 MB/s eta 0:00:01\r",
      "\u001b[K     |█████████████████████▉          | 296 kB 8.4 MB/s eta 0:00:01\r",
      "\u001b[K     |██████████████████████▋         | 307 kB 8.4 MB/s eta 0:00:01\r",
      "\u001b[K     |███████████████████████▍        | 317 kB 8.4 MB/s eta 0:00:01\r",
      "\u001b[K     |████████████████████████        | 327 kB 8.4 MB/s eta 0:00:01\r",
      "\u001b[K     |████████████████████████▉       | 337 kB 8.4 MB/s eta 0:00:01\r",
      "\u001b[K     |█████████████████████████▋      | 348 kB 8.4 MB/s eta 0:00:01\r",
      "\u001b[K     |██████████████████████████▍     | 358 kB 8.4 MB/s eta 0:00:01\r",
      "\u001b[K     |███████████████████████████     | 368 kB 8.4 MB/s eta 0:00:01\r",
      "\u001b[K     |███████████████████████████▉    | 378 kB 8.4 MB/s eta 0:00:01\r",
      "\u001b[K     |████████████████████████████▋   | 389 kB 8.4 MB/s eta 0:00:01\r",
      "\u001b[K     |█████████████████████████████▍  | 399 kB 8.4 MB/s eta 0:00:01\r",
      "\u001b[K     |██████████████████████████████▏ | 409 kB 8.4 MB/s eta 0:00:01\r",
      "\u001b[K     |██████████████████████████████▉ | 419 kB 8.4 MB/s eta 0:00:01\r",
      "\u001b[K     |███████████████████████████████▋| 430 kB 8.4 MB/s eta 0:00:01\r",
      "\u001b[K     |████████████████████████████████| 435 kB 8.4 MB/s \n",
      "\u001b[?25hRequirement already satisfied: scikit-learn>=0.20 in /usr/local/lib/python3.7/dist-packages (from StellarGraph) (1.0.2)\n",
      "Requirement already satisfied: networkx>=2.2 in /usr/local/lib/python3.7/dist-packages (from StellarGraph) (2.6.3)\n",
      "Requirement already satisfied: pandas>=0.24 in /usr/local/lib/python3.7/dist-packages (from StellarGraph) (1.3.5)\n",
      "Requirement already satisfied: scipy>=1.1.0 in /usr/local/lib/python3.7/dist-packages (from StellarGraph) (1.4.1)\n",
      "Requirement already satisfied: tensorflow>=2.1.0 in /usr/local/lib/python3.7/dist-packages (from StellarGraph) (2.8.0)\n",
      "Requirement already satisfied: gensim>=3.4.0 in /usr/local/lib/python3.7/dist-packages (from StellarGraph) (3.6.0)\n",
      "Requirement already satisfied: numpy>=1.14 in /usr/local/lib/python3.7/dist-packages (from StellarGraph) (1.21.6)\n",
      "Requirement already satisfied: matplotlib>=2.2 in /usr/local/lib/python3.7/dist-packages (from StellarGraph) (3.2.2)\n",
      "Requirement already satisfied: six>=1.5.0 in /usr/local/lib/python3.7/dist-packages (from gensim>=3.4.0->StellarGraph) (1.15.0)\n",
      "Requirement already satisfied: smart-open>=1.2.1 in /usr/local/lib/python3.7/dist-packages (from gensim>=3.4.0->StellarGraph) (6.0.0)\n",
      "Requirement already satisfied: python-dateutil>=2.1 in /usr/local/lib/python3.7/dist-packages (from matplotlib>=2.2->StellarGraph) (2.8.2)\n",
      "Requirement already satisfied: cycler>=0.10 in /usr/local/lib/python3.7/dist-packages (from matplotlib>=2.2->StellarGraph) (0.11.0)\n",
      "Requirement already satisfied: kiwisolver>=1.0.1 in /usr/local/lib/python3.7/dist-packages (from matplotlib>=2.2->StellarGraph) (1.4.2)\n",
      "Requirement already satisfied: pyparsing!=2.0.4,!=2.1.2,!=2.1.6,>=2.0.1 in /usr/local/lib/python3.7/dist-packages (from matplotlib>=2.2->StellarGraph) (3.0.8)\n",
      "Requirement already satisfied: typing-extensions in /usr/local/lib/python3.7/dist-packages (from kiwisolver>=1.0.1->matplotlib>=2.2->StellarGraph) (4.2.0)\n",
      "Requirement already satisfied: pytz>=2017.3 in /usr/local/lib/python3.7/dist-packages (from pandas>=0.24->StellarGraph) (2022.1)\n",
      "Requirement already satisfied: threadpoolctl>=2.0.0 in /usr/local/lib/python3.7/dist-packages (from scikit-learn>=0.20->StellarGraph) (3.1.0)\n",
      "Requirement already satisfied: joblib>=0.11 in /usr/local/lib/python3.7/dist-packages (from scikit-learn>=0.20->StellarGraph) (1.1.0)\n",
      "Requirement already satisfied: termcolor>=1.1.0 in /usr/local/lib/python3.7/dist-packages (from tensorflow>=2.1.0->StellarGraph) (1.1.0)\n",
      "Requirement already satisfied: opt-einsum>=2.3.2 in /usr/local/lib/python3.7/dist-packages (from tensorflow>=2.1.0->StellarGraph) (3.3.0)\n",
      "Requirement already satisfied: h5py>=2.9.0 in /usr/local/lib/python3.7/dist-packages (from tensorflow>=2.1.0->StellarGraph) (3.1.0)\n",
      "Requirement already satisfied: tensorflow-io-gcs-filesystem>=0.23.1 in /usr/local/lib/python3.7/dist-packages (from tensorflow>=2.1.0->StellarGraph) (0.25.0)\n",
      "Requirement already satisfied: astunparse>=1.6.0 in /usr/local/lib/python3.7/dist-packages (from tensorflow>=2.1.0->StellarGraph) (1.6.3)\n",
      "Requirement already satisfied: libclang>=9.0.1 in /usr/local/lib/python3.7/dist-packages (from tensorflow>=2.1.0->StellarGraph) (14.0.1)\n",
      "Requirement already satisfied: absl-py>=0.4.0 in /usr/local/lib/python3.7/dist-packages (from tensorflow>=2.1.0->StellarGraph) (1.0.0)\n",
      "Requirement already satisfied: keras-preprocessing>=1.1.1 in /usr/local/lib/python3.7/dist-packages (from tensorflow>=2.1.0->StellarGraph) (1.1.2)\n",
      "Requirement already satisfied: setuptools in /usr/local/lib/python3.7/dist-packages (from tensorflow>=2.1.0->StellarGraph) (57.4.0)\n",
      "Requirement already satisfied: google-pasta>=0.1.1 in /usr/local/lib/python3.7/dist-packages (from tensorflow>=2.1.0->StellarGraph) (0.2.0)\n",
      "Requirement already satisfied: flatbuffers>=1.12 in /usr/local/lib/python3.7/dist-packages (from tensorflow>=2.1.0->StellarGraph) (2.0)\n",
      "Requirement already satisfied: tensorboard<2.9,>=2.8 in /usr/local/lib/python3.7/dist-packages (from tensorflow>=2.1.0->StellarGraph) (2.8.0)\n",
      "Requirement already satisfied: wrapt>=1.11.0 in /usr/local/lib/python3.7/dist-packages (from tensorflow>=2.1.0->StellarGraph) (1.14.0)\n",
      "Requirement already satisfied: gast>=0.2.1 in /usr/local/lib/python3.7/dist-packages (from tensorflow>=2.1.0->StellarGraph) (0.5.3)\n",
      "Requirement already satisfied: keras<2.9,>=2.8.0rc0 in /usr/local/lib/python3.7/dist-packages (from tensorflow>=2.1.0->StellarGraph) (2.8.0)\n",
      "Requirement already satisfied: grpcio<2.0,>=1.24.3 in /usr/local/lib/python3.7/dist-packages (from tensorflow>=2.1.0->StellarGraph) (1.44.0)\n",
      "Requirement already satisfied: protobuf>=3.9.2 in /usr/local/lib/python3.7/dist-packages (from tensorflow>=2.1.0->StellarGraph) (3.17.3)\n",
      "Collecting tf-estimator-nightly==2.8.0.dev2021122109\n",
      "  Downloading tf_estimator_nightly-2.8.0.dev2021122109-py2.py3-none-any.whl (462 kB)\n",
      "\u001b[K     |████████████████████████████████| 462 kB 41.4 MB/s \n",
      "\u001b[?25hRequirement already satisfied: wheel<1.0,>=0.23.0 in /usr/local/lib/python3.7/dist-packages (from astunparse>=1.6.0->tensorflow>=2.1.0->StellarGraph) (0.37.1)\n",
      "Requirement already satisfied: cached-property in /usr/local/lib/python3.7/dist-packages (from h5py>=2.9.0->tensorflow>=2.1.0->StellarGraph) (1.5.2)\n",
      "Requirement already satisfied: google-auth-oauthlib<0.5,>=0.4.1 in /usr/local/lib/python3.7/dist-packages (from tensorboard<2.9,>=2.8->tensorflow>=2.1.0->StellarGraph) (0.4.6)\n",
      "Requirement already satisfied: requests<3,>=2.21.0 in /usr/local/lib/python3.7/dist-packages (from tensorboard<2.9,>=2.8->tensorflow>=2.1.0->StellarGraph) (2.23.0)\n",
      "Requirement already satisfied: tensorboard-plugin-wit>=1.6.0 in /usr/local/lib/python3.7/dist-packages (from tensorboard<2.9,>=2.8->tensorflow>=2.1.0->StellarGraph) (1.8.1)\n",
      "Requirement already satisfied: markdown>=2.6.8 in /usr/local/lib/python3.7/dist-packages (from tensorboard<2.9,>=2.8->tensorflow>=2.1.0->StellarGraph) (3.3.6)\n",
      "Requirement already satisfied: google-auth<3,>=1.6.3 in /usr/local/lib/python3.7/dist-packages (from tensorboard<2.9,>=2.8->tensorflow>=2.1.0->StellarGraph) (1.35.0)\n",
      "Requirement already satisfied: werkzeug>=0.11.15 in /usr/local/lib/python3.7/dist-packages (from tensorboard<2.9,>=2.8->tensorflow>=2.1.0->StellarGraph) (1.0.1)\n",
      "Requirement already satisfied: tensorboard-data-server<0.7.0,>=0.6.0 in /usr/local/lib/python3.7/dist-packages (from tensorboard<2.9,>=2.8->tensorflow>=2.1.0->StellarGraph) (0.6.1)\n",
      "Requirement already satisfied: cachetools<5.0,>=2.0.0 in /usr/local/lib/python3.7/dist-packages (from google-auth<3,>=1.6.3->tensorboard<2.9,>=2.8->tensorflow>=2.1.0->StellarGraph) (4.2.4)\n",
      "Requirement already satisfied: pyasn1-modules>=0.2.1 in /usr/local/lib/python3.7/dist-packages (from google-auth<3,>=1.6.3->tensorboard<2.9,>=2.8->tensorflow>=2.1.0->StellarGraph) (0.2.8)\n",
      "Requirement already satisfied: rsa<5,>=3.1.4 in /usr/local/lib/python3.7/dist-packages (from google-auth<3,>=1.6.3->tensorboard<2.9,>=2.8->tensorflow>=2.1.0->StellarGraph) (4.8)\n",
      "Requirement already satisfied: requests-oauthlib>=0.7.0 in /usr/local/lib/python3.7/dist-packages (from google-auth-oauthlib<0.5,>=0.4.1->tensorboard<2.9,>=2.8->tensorflow>=2.1.0->StellarGraph) (1.3.1)\n",
      "Requirement already satisfied: importlib-metadata>=4.4 in /usr/local/lib/python3.7/dist-packages (from markdown>=2.6.8->tensorboard<2.9,>=2.8->tensorflow>=2.1.0->StellarGraph) (4.11.3)\n",
      "Requirement already satisfied: zipp>=0.5 in /usr/local/lib/python3.7/dist-packages (from importlib-metadata>=4.4->markdown>=2.6.8->tensorboard<2.9,>=2.8->tensorflow>=2.1.0->StellarGraph) (3.8.0)\n",
      "Requirement already satisfied: pyasn1<0.5.0,>=0.4.6 in /usr/local/lib/python3.7/dist-packages (from pyasn1-modules>=0.2.1->google-auth<3,>=1.6.3->tensorboard<2.9,>=2.8->tensorflow>=2.1.0->StellarGraph) (0.4.8)\n",
      "Requirement already satisfied: urllib3!=1.25.0,!=1.25.1,<1.26,>=1.21.1 in /usr/local/lib/python3.7/dist-packages (from requests<3,>=2.21.0->tensorboard<2.9,>=2.8->tensorflow>=2.1.0->StellarGraph) (1.24.3)\n",
      "Requirement already satisfied: idna<3,>=2.5 in /usr/local/lib/python3.7/dist-packages (from requests<3,>=2.21.0->tensorboard<2.9,>=2.8->tensorflow>=2.1.0->StellarGraph) (2.10)\n",
      "Requirement already satisfied: chardet<4,>=3.0.2 in /usr/local/lib/python3.7/dist-packages (from requests<3,>=2.21.0->tensorboard<2.9,>=2.8->tensorflow>=2.1.0->StellarGraph) (3.0.4)\n",
      "Requirement already satisfied: certifi>=2017.4.17 in /usr/local/lib/python3.7/dist-packages (from requests<3,>=2.21.0->tensorboard<2.9,>=2.8->tensorflow>=2.1.0->StellarGraph) (2021.10.8)\n",
      "Requirement already satisfied: oauthlib>=3.0.0 in /usr/local/lib/python3.7/dist-packages (from requests-oauthlib>=0.7.0->google-auth-oauthlib<0.5,>=0.4.1->tensorboard<2.9,>=2.8->tensorflow>=2.1.0->StellarGraph) (3.2.0)\n",
      "Installing collected packages: tf-estimator-nightly, StellarGraph\n",
      "Successfully installed StellarGraph-1.2.1 tf-estimator-nightly-2.8.0.dev2021122109\n"
     ]
    }
   ],
   "source": [
    "!pip install StellarGraph"
   ]
  },
  {
   "cell_type": "code",
   "execution_count": 1,
   "metadata": {
    "id": "-6DOYhl2nxKX"
   },
   "outputs": [],
   "source": [
    "import numpy as np\n",
    "import pandas as pd\n",
    "import networkx as nx\n",
    "#from stellargraph.data import BiasedRandomWalk\n",
    "#from stellargraph import StellarGraph\n",
    "from gensim.models import Word2Vec\n",
    "import csv"
   ]
  },
  {
   "cell_type": "code",
   "execution_count": 3,
   "metadata": {
    "id": "sDTm4VlroEiJ"
   },
   "outputs": [],
   "source": [
    "#Get train.csv data\n",
    "df = pd.read_fwf('train.csv', header=None)\n",
    "df = df[0].str.split(',', expand=True) "
   ]
  },
  {
   "cell_type": "code",
   "execution_count": 34,
   "metadata": {
    "id": "CCBqBhOjoxEW"
   },
   "outputs": [],
   "source": [
    "#Get ingredient id\n",
    "df2 = pd.read_fwf('node_ingredient.csv', header=None)\n",
    "idToNode = {}\n",
    "for index , row in df2.iterrows():\n",
    "    idToNode[index] = row[0]\n"
   ]
  },
  {
   "cell_type": "code",
   "execution_count": 15,
   "metadata": {
    "colab": {
     "base_uri": "https://localhost:8080/"
    },
    "id": "YQDahpQWpszb",
    "outputId": "e811e3d3-0aab-4303-87f4-8e3fe32b977a"
   },
   "outputs": [
    {
     "data": {
      "text/plain": [
       "6714"
      ]
     },
     "execution_count": 15,
     "metadata": {},
     "output_type": "execute_result"
    }
   ],
   "source": [
    "len(idToNode)"
   ]
  },
  {
   "cell_type": "code",
   "execution_count": 4,
   "metadata": {
    "id": "nniKgbhAtP6F"
   },
   "outputs": [],
   "source": [
    "#Create dict of dict where the first key is ingredient id the value is another dict \n",
    "#with key are nodes he shares receipt with and value the number of receipt they have in common\n",
    "ingredientAdjancy = {}\n",
    "ingredientNbR = {}\n",
    "for index , row in df.iterrows():\n",
    "    for i in row.values:\n",
    "        if i is not None and i.isdigit() and int(i) not in ingredientAdjancy.keys():\n",
    "            ingredientAdjancy[int(i)] = {}\n",
    "        for y in row.values:\n",
    "            if i is not None and  y is not None and i.isdigit() and y.isdigit():\n",
    "                if i != y:\n",
    "                    if int(y) not in ingredientAdjancy[int(i)].keys():\n",
    "                        ingredientAdjancy[int(i)][int(y)] = 1\n",
    "                    else:\n",
    "                        ingredientAdjancy[int(i)][int(y)] += 1\n",
    "        if i is not None and i.isdigit():\n",
    "            if int(i) not in ingredientNbR.keys():\n",
    "                ingredientNbR[int(i)] = 1\n",
    "            else:\n",
    "                ingredientNbR[int(i)] += 1\n"
   ]
  },
  {
   "cell_type": "code",
   "execution_count": 16,
   "metadata": {
    "colab": {
     "base_uri": "https://localhost:8080/"
    },
    "id": "Flq7Bz96ooen",
    "outputId": "78272d24-9dfc-4099-fc10-0dc0d8e1b635"
   },
   "outputs": [
    {
     "data": {
      "text/plain": [
       "5860"
      ]
     },
     "execution_count": 16,
     "metadata": {},
     "output_type": "execute_result"
    }
   ],
   "source": [
    "len(ingredientAdjancy)"
   ]
  },
  {
   "cell_type": "code",
   "execution_count": 19,
   "metadata": {
    "id": "BU0u15WPp0Ie"
   },
   "outputs": [],
   "source": [
    "import csv\n",
    "fh = open('edgeListWeight.csv','w')\n",
    "writer = csv.writer(fh)\n",
    "for i in ingredientAdjancy.keys():\n",
    "    for y in ingredientAdjancy[i].keys():\n",
    "        t = str(i)+'\\t'+str(y)+'\\t'+str(ingredientAdjancy[i][y])\n",
    "        writer.writerow([t])\n",
    "fh.close()"
   ]
  },
  {
   "cell_type": "code",
   "execution_count": 20,
   "metadata": {
    "id": "YMGPW2SVqQWE"
   },
   "outputs": [],
   "source": [
    "import csv\n",
    "fh = open('edgeList.csv','w')\n",
    "writer = csv.writer(fh)\n",
    "for i in ingredientAdjancy.keys():\n",
    "    for y in ingredientAdjancy[i].keys():\n",
    "        t = str(i)+'\\t'+str(y)\n",
    "        writer.writerow([t])\n",
    "fh.close()"
   ]
  },
  {
   "cell_type": "code",
   "execution_count": 13,
   "metadata": {
    "id": "MIZ3N3r2s5uz"
   },
   "outputs": [],
   "source": [
    "Gw = nx.read_edgelist('edgeListWeight.csv', nodetype=int, data=(('weight',float),))\n",
    "G = nx.read_edgelist('edgeList.csv', nodetype=int, data=(('weight',float),))"
   ]
  },
  {
   "cell_type": "code",
   "execution_count": 14,
   "metadata": {
    "colab": {
     "base_uri": "https://localhost:8080/"
    },
    "id": "vpee5dkrqgoD",
    "outputId": "2183066f-f548-4b75-8491-f1e4811e1fd9"
   },
   "outputs": [
    {
     "name": "stdout",
     "output_type": "stream",
     "text": [
      "5860\n",
      "353396\n"
     ]
    }
   ],
   "source": [
    "print(len(G.nodes()))\n",
    "print(len((G.edges())))\n",
    "nodes = list(G.nodes())\n"
   ]
  },
  {
   "cell_type": "markdown",
   "metadata": {
    "id": "1z5D-wkCqksv"
   },
   "source": [
    "Some ingredient are not part of the graph (have no edge)"
   ]
  },
  {
   "cell_type": "markdown",
   "metadata": {
    "id": "kkNzYeIasscI"
   },
   "source": [
    "Use Node2vec -> first need to generate weighted random walk. Then use Word2Vec to generate the embedding.\n",
    "Generate random walktake quite some time, I already generate 4 of them using different paramters that should adjust the balance between sutrucural and local importance. This might be improved by trying different set of hyperparameter. "
   ]
  },
  {
   "cell_type": "code",
   "execution_count": 43,
   "metadata": {
    "id": "qt5_vjIbqwqK"
   },
   "outputs": [],
   "source": [
    "#Use StellarGraph library to generate the weighted random walk\n",
    "GwS = StellarGraph.from_networkx(Gw)"
   ]
  },
  {
   "cell_type": "code",
   "execution_count": null,
   "metadata": {
    "id": "QIappo1wtt3w"
   },
   "outputs": [],
   "source": [
    "rw = BiasedRandomWalk(GwS)"
   ]
  },
  {
   "cell_type": "code",
   "execution_count": null,
   "metadata": {
    "id": "J6HMSEpUtvtd"
   },
   "outputs": [],
   "source": [
    "weighted_walks = rw.run(\n",
    "        nodes=G.nodes(), \n",
    "        length=100,    # maximum length of a random walk\n",
    "        n=10,          # number of random walks per root node\n",
    "        p=1,         # Defines (unormalised) probability, 1/p, of returning to source node\n",
    "        q=100,         # Defines (unormalised) probability, 1/q, for moving away from source node\n",
    "        weighted=True, #for weighted random walks\n",
    "        seed=42        # random seed fixed for reproducibility\n",
    "    )"
   ]
  },
  {
   "cell_type": "code",
   "execution_count": null,
   "metadata": {
    "id": "dao-W8Tst5RN"
   },
   "outputs": [],
   "source": [
    "str(weighted_walks[1])"
   ]
  },
  {
   "cell_type": "code",
   "execution_count": null,
   "metadata": {
    "id": "g6IBOQ_11Tyb"
   },
   "outputs": [],
   "source": [
    "#Save the random walk\n",
    "import csv\n",
    "\n",
    "fh = open('NodeRandomWalkp1q100.csv','w')\n",
    "writer = csv.writer(fh)\n",
    "for i in range(5860):\n",
    "    for y in range(10):\n",
    "        t = str(GwS.nodes()[i])+\" \"+str(weighted_walks[i*10+y])\n",
    "        writer.writerow([t])\n",
    "fh.close()"
   ]
  },
  {
   "cell_type": "code",
   "execution_count": 28,
   "metadata": {
    "id": "oM_uK7zbuKYD"
   },
   "outputs": [],
   "source": [
    "#Import random walk\n",
    "import ast\n",
    "rp1q10 = pd.read_fwf('RW/WRandomWalkp1q2.csv', header=None, delimiter= \" \")\n",
    "\n",
    "rp1q10_list = []\n",
    "for index, value in rp1q10.iterrows():\n",
    "    t = False\n",
    "    s = \"\"\n",
    "    for i in value[0]:\n",
    "        if i == \"[\":\n",
    "            t = True\n",
    "        if i == '\"' and t:\n",
    "            t = False\n",
    "        if t:\n",
    "            s+=i\n",
    "    if s[len(s)-1] != \"]\":\n",
    "        s+=\"]\"\n",
    "    rp1q10_list.append(ast.literal_eval(s)) \n",
    "  "
   ]
  },
  {
   "cell_type": "code",
   "execution_count": 29,
   "metadata": {
    "colab": {
     "base_uri": "https://localhost:8080/",
     "height": 222
    },
    "id": "r-d8zrdj3eSF",
    "outputId": "324d41b4-247c-44de-b597-60a5adb0f0f0"
   },
   "outputs": [],
   "source": [
    "from gensim.test.utils import common_texts\n",
    "from gensim.models import Word2Vec\n",
    "\n",
    "embNod2V = Word2Vec(sentences=rp1q10_list, vector_size=64, window=3, min_count=0, sg=1, workers=1, epochs=1)"
   ]
  },
  {
   "cell_type": "code",
   "execution_count": 30,
   "metadata": {},
   "outputs": [
    {
     "data": {
      "text/plain": [
       "5865"
      ]
     },
     "execution_count": 30,
     "metadata": {},
     "output_type": "execute_result"
    }
   ],
   "source": [
    "len(embNod2V.wv)"
   ]
  },
  {
   "cell_type": "code",
   "execution_count": 51,
   "metadata": {
    "colab": {
     "base_uri": "https://localhost:8080/",
     "height": 240
    },
    "id": "6otuKd324Z96",
    "outputId": "e81eed36-4051-410b-86e8-cb3efc61753b",
    "scrolled": true
   },
   "outputs": [
    {
     "name": "stdout",
     "output_type": "stream",
     "text": [
      "0.9917877 1529\n",
      "min  is most similar to:  tamarind extract\n"
     ]
    }
   ],
   "source": [
    "from numpy import dot\n",
    "from numpy.linalg import norm\n",
    "m=0\n",
    "test = 6000\n",
    "for i in Gw.nodes():\n",
    "    if i != test:\n",
    "        a = embNod2V.wv[test]\n",
    "        b = embNod2V.wv[i]\n",
    "        cos_sim = dot(a, b)/(norm(a)*norm(b))\n",
    "        if cos_sim > m:\n",
    "            vm = i\n",
    "            m = cos_sim\n",
    "print(m,vm)\n",
    "print(idToNode[test],\" is most similar to: \",idToNode[vm])"
   ]
  },
  {
   "cell_type": "code",
   "execution_count": 52,
   "metadata": {},
   "outputs": [],
   "source": [
    "fh = open('Embedding/Embp1q100.csv','w')\n",
    "writer = csv.writer(fh)\n",
    "for i in Gw.nodes():\n",
    "    writer.writerow([i,embNod2V.wv[i]])\n",
    "fh.close()"
   ]
  },
  {
   "cell_type": "markdown",
   "metadata": {},
   "source": [
    "Second embedding method (not weighted)"
   ]
  },
  {
   "cell_type": "code",
   "execution_count": 70,
   "metadata": {},
   "outputs": [],
   "source": [
    "from sklearn.decomposition import  TruncatedSVD\n",
    "\n",
    "A = nx.adjacency_matrix(G) \n",
    "\n",
    "svd = TruncatedSVD(n_components=128)\n",
    "X = svd.fit_transform(A);"
   ]
  },
  {
   "cell_type": "markdown",
   "metadata": {},
   "source": [
    "Save different embedding size (You can find 32-64-128 in /embedding)"
   ]
  },
  {
   "cell_type": "code",
   "execution_count": 71,
   "metadata": {},
   "outputs": [],
   "source": [
    "import csv\n",
    "\n",
    "fh = open('Embedding/SVD128.csv','w')\n",
    "writer = csv.writer(fh)\n",
    "\n",
    "y = 0\n",
    "for i in G.nodes():\n",
    "    writer.writerow([i,X[y]]) \n",
    "    y += 1\n",
    "    \n",
    "fh.close()"
   ]
  },
  {
   "cell_type": "code",
   "execution_count": 74,
   "metadata": {},
   "outputs": [
    {
     "name": "stdout",
     "output_type": "stream",
     "text": [
      "0.8458904945495505 264\n",
      "black olives  is most similar to:  olives\n"
     ]
    }
   ],
   "source": [
    "test = 6\n",
    "m = 0\n",
    "\n",
    "for i in range(5860):\n",
    "    if i != test:\n",
    "        a = X[test]\n",
    "        b = X[i]\n",
    "        cos_sim = dot(a, b)/(norm(a)*norm(b))\n",
    "        if cos_sim > m:\n",
    "            vm = i\n",
    "            m = cos_sim\n",
    "print(m,vm)\n",
    "print(idToNode[list(G.nodes())[test]],\" is most similar to: \",idToNode[list(G.nodes())[vm]])"
   ]
  },
  {
   "cell_type": "code",
   "execution_count": null,
   "metadata": {},
   "outputs": [],
   "source": []
  }
 ],
 "metadata": {
  "colab": {
   "collapsed_sections": [],
   "name": "Projet.ipynb",
   "provenance": []
  },
  "kernelspec": {
   "display_name": "Python 3",
   "language": "python",
   "name": "python3"
  },
  "language_info": {
   "codemirror_mode": {
    "name": "ipython",
    "version": 3
   },
   "file_extension": ".py",
   "mimetype": "text/x-python",
   "name": "python",
   "nbconvert_exporter": "python",
   "pygments_lexer": "ipython3",
   "version": "3.8.5"
  }
 },
 "nbformat": 4,
 "nbformat_minor": 1
}
