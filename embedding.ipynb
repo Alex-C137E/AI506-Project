{
 "cells": [
  {
   "cell_type": "code",
   "execution_count": 34,
   "metadata": {
    "id": "-6DOYhl2nxKX"
   },
   "outputs": [],
   "source": [
    "import numpy as np\n",
    "import pandas as pd\n",
    "import networkx as nx\n",
    "from stellargraph import StellarGraph\n",
    "from stellargraph.data import BiasedRandomWalk\n",
    "from gensim.models import Word2Vec\n",
    "import csv"
   ]
  },
  {
   "cell_type": "code",
   "execution_count": 4,
   "metadata": {
    "id": "sDTm4VlroEiJ"
   },
   "outputs": [],
   "source": [
    "#Get train.csv data\n",
    "df = pd.read_fwf('train.csv', header=None)\n",
    "df = df[0].str.split(',', expand=True) "
   ]
  },
  {
   "cell_type": "code",
   "execution_count": 6,
   "metadata": {
    "id": "CCBqBhOjoxEW"
   },
   "outputs": [],
   "source": [
    "#Get ingredient id\n",
    "df2 = pd.read_fwf('node_ingredient.csv', header=None)\n",
    "idToNode = {}\n",
    "for index , row in df2.iterrows():\n",
    "    idToNode[index] = row[0]\n"
   ]
  },
  {
   "cell_type": "code",
   "execution_count": 7,
   "metadata": {
    "colab": {
     "base_uri": "https://localhost:8080/"
    },
    "id": "YQDahpQWpszb",
    "outputId": "e811e3d3-0aab-4303-87f4-8e3fe32b977a"
   },
   "outputs": [
    {
     "data": {
      "text/plain": [
       "6714"
      ]
     },
     "execution_count": 7,
     "metadata": {},
     "output_type": "execute_result"
    }
   ],
   "source": [
    "len(idToNode)"
   ]
  },
  {
   "cell_type": "code",
   "execution_count": 8,
   "metadata": {
    "id": "nniKgbhAtP6F"
   },
   "outputs": [],
   "source": [
    "#Create dict of dict where the first key is ingredient id the value is another dict \n",
    "#with key are nodes he shares receipt with and value the number of receipt they have in common\n",
    "ingredientAdjancy = {}\n",
    "ingredientNbR = {}\n",
    "for index , row in df.iterrows():\n",
    "    for i in row.values:\n",
    "        if i is not None and i.isdigit() and int(i) not in ingredientAdjancy.keys():\n",
    "            ingredientAdjancy[int(i)] = {}\n",
    "        for y in row.values:\n",
    "            if i is not None and  y is not None and i.isdigit() and y.isdigit():\n",
    "                if i != y:\n",
    "                    if int(y) not in ingredientAdjancy[int(i)].keys():\n",
    "                        ingredientAdjancy[int(i)][int(y)] = 1\n",
    "                    else:\n",
    "                        ingredientAdjancy[int(i)][int(y)] += 1\n",
    "        if i is not None and i.isdigit():\n",
    "            if int(i) not in ingredientNbR.keys():\n",
    "                ingredientNbR[int(i)] = 1\n",
    "            else:\n",
    "                ingredientNbR[int(i)] += 1\n"
   ]
  },
  {
   "cell_type": "code",
   "execution_count": 13,
   "metadata": {
    "colab": {
     "base_uri": "https://localhost:8080/"
    },
    "id": "Flq7Bz96ooen",
    "outputId": "78272d24-9dfc-4099-fc10-0dc0d8e1b635"
   },
   "outputs": [
    {
     "data": {
      "text/plain": [
       "5860"
      ]
     },
     "execution_count": 13,
     "metadata": {},
     "output_type": "execute_result"
    }
   ],
   "source": [
    "len(ingredientAdjancy)"
   ]
  },
  {
   "cell_type": "code",
   "execution_count": 22,
   "metadata": {
    "id": "BU0u15WPp0Ie"
   },
   "outputs": [],
   "source": [
    "with open('edgeListWeight.csv','w', newline='') as fh:\n",
    "    writer = csv.writer(fh, delimiter=',')\n",
    "    for i in ingredientAdjancy.keys():\n",
    "        for y in ingredientAdjancy[i].keys():\n",
    "            writer.writerow([i, y, ingredientAdjancy[i][y]])"
   ]
  },
  {
   "cell_type": "code",
   "execution_count": 23,
   "metadata": {
    "id": "YMGPW2SVqQWE"
   },
   "outputs": [],
   "source": [
    "with open('edgeList.csv','w', newline='') as fh:\n",
    "    writer = csv.writer(fh, delimiter=',')\n",
    "    for i in ingredientAdjancy.keys():\n",
    "        for y in ingredientAdjancy[i].keys():\n",
    "            writer.writerow([i, y])"
   ]
  },
  {
   "cell_type": "code",
   "execution_count": 27,
   "metadata": {
    "id": "MIZ3N3r2s5uz"
   },
   "outputs": [],
   "source": [
    "Gw = nx.read_edgelist('edgeListWeight.csv', delimiter=',', nodetype=int, data=(('weight',float),))\n",
    "G = nx.read_edgelist('edgeList.csv', delimiter=',', nodetype=int, data=(('weight',float),))"
   ]
  },
  {
   "cell_type": "code",
   "execution_count": 28,
   "metadata": {
    "colab": {
     "base_uri": "https://localhost:8080/"
    },
    "id": "vpee5dkrqgoD",
    "outputId": "2183066f-f548-4b75-8491-f1e4811e1fd9"
   },
   "outputs": [
    {
     "name": "stdout",
     "output_type": "stream",
     "text": [
      "5860\n",
      "353396\n"
     ]
    }
   ],
   "source": [
    "print(len(G.nodes()))\n",
    "print(len((G.edges())))\n",
    "nodes = list(G.nodes())\n"
   ]
  },
  {
   "cell_type": "code",
   "execution_count": 46,
   "metadata": {},
   "outputs": [
    {
     "data": {
      "text/plain": [
       "'C:\\\\Users\\\\Felix\\\\Documents\\\\KAIST\\\\Courses\\\\Data Mining\\\\Project\\\\Code\\\\AI506-Project'"
      ]
     },
     "execution_count": 46,
     "metadata": {},
     "output_type": "execute_result"
    }
   ],
   "source": [
    "import os\n",
    "os.getcwd()"
   ]
  },
  {
   "cell_type": "code",
   "execution_count": 53,
   "metadata": {},
   "outputs": [
    {
     "data": {
      "text/html": [
       "<div>\n",
       "<style scoped>\n",
       "    .dataframe tbody tr th:only-of-type {\n",
       "        vertical-align: middle;\n",
       "    }\n",
       "\n",
       "    .dataframe tbody tr th {\n",
       "        vertical-align: top;\n",
       "    }\n",
       "\n",
       "    .dataframe thead th {\n",
       "        text-align: right;\n",
       "    }\n",
       "</style>\n",
       "<table border=\"1\" class=\"dataframe\">\n",
       "  <thead>\n",
       "    <tr style=\"text-align: right;\">\n",
       "      <th></th>\n",
       "      <th>0</th>\n",
       "    </tr>\n",
       "  </thead>\n",
       "  <tbody>\n",
       "    <tr>\n",
       "      <th>0</th>\n",
       "      <td>2813,\"[ 0.20561211 -0.23588583  0.28525352  0....</td>\n",
       "    </tr>\n",
       "    <tr>\n",
       "      <th>1</th>\n",
       "      <td>-0.01796227 -0.11046874 -0.5681695  -0.0678984...</td>\n",
       "    </tr>\n",
       "    <tr>\n",
       "      <th>2</th>\n",
       "      <td>-0.12082586 -0.2529383   0.3063318   0.3963518...</td>\n",
       "    </tr>\n",
       "    <tr>\n",
       "      <th>3</th>\n",
       "      <td>0.04451386  0.19073167  0.32635474  0.44178614...</td>\n",
       "    </tr>\n",
       "    <tr>\n",
       "      <th>4</th>\n",
       "      <td>-0.20612109  0.2922662  -0.18655235  0.1226137...</td>\n",
       "    </tr>\n",
       "    <tr>\n",
       "      <th>...</th>\n",
       "      <td>...</td>\n",
       "    </tr>\n",
       "    <tr>\n",
       "      <th>66895</th>\n",
       "      <td>0.02855606  0.01496908 -0.00278561  0.00684646...</td>\n",
       "    </tr>\n",
       "    <tr>\n",
       "      <th>66896</th>\n",
       "      <td>-0.00035502 -0.02015509  0.04706188 -0.0076659...</td>\n",
       "    </tr>\n",
       "    <tr>\n",
       "      <th>66897</th>\n",
       "      <td>0.0042229   0.07924966  0.03077858  0.0288952 ...</td>\n",
       "    </tr>\n",
       "    <tr>\n",
       "      <th>66898</th>\n",
       "      <td>0.04514599  0.0133772   0.0227813  -0.05956929...</td>\n",
       "    </tr>\n",
       "    <tr>\n",
       "      <th>66899</th>\n",
       "      <td>-0.08883259  0.00095044  0.06255651 -0.04573752]\"</td>\n",
       "    </tr>\n",
       "  </tbody>\n",
       "</table>\n",
       "<p>66900 rows × 1 columns</p>\n",
       "</div>"
      ],
      "text/plain": [
       "                                                       0\n",
       "0      2813,\"[ 0.20561211 -0.23588583  0.28525352  0....\n",
       "1      -0.01796227 -0.11046874 -0.5681695  -0.0678984...\n",
       "2      -0.12082586 -0.2529383   0.3063318   0.3963518...\n",
       "3      0.04451386  0.19073167  0.32635474  0.44178614...\n",
       "4      -0.20612109  0.2922662  -0.18655235  0.1226137...\n",
       "...                                                  ...\n",
       "66895  0.02855606  0.01496908 -0.00278561  0.00684646...\n",
       "66896  -0.00035502 -0.02015509  0.04706188 -0.0076659...\n",
       "66897  0.0042229   0.07924966  0.03077858  0.0288952 ...\n",
       "66898  0.04514599  0.0133772   0.0227813  -0.05956929...\n",
       "66899  -0.08883259  0.00095044  0.06255651 -0.04573752]\"\n",
       "\n",
       "[66900 rows x 1 columns]"
      ]
     },
     "execution_count": 53,
     "metadata": {},
     "output_type": "execute_result"
    }
   ],
   "source": [
    "pd.read_fwf('Embedding/Embp1q2.csv', header=None, delimiter=\" \")"
   ]
  },
  {
   "cell_type": "code",
   "execution_count": null,
   "metadata": {},
   "outputs": [],
   "source": []
  },
  {
   "cell_type": "markdown",
   "metadata": {
    "id": "1z5D-wkCqksv"
   },
   "source": [
    "Some ingredient are not part of the graph (have no edge)"
   ]
  },
  {
   "cell_type": "markdown",
   "metadata": {
    "id": "kkNzYeIasscI"
   },
   "source": [
    "Use Node2vec -> first need to generate weighted random walk. Then use Word2Vec to generate the embedding.\n",
    "Generate random walktake quite some time, I already generate 4 of them using different paramters that should adjust the balance between sutrucural and local importance. This might be improved by trying different set of hyperparameter. "
   ]
  },
  {
   "cell_type": "code",
   "execution_count": 35,
   "metadata": {
    "id": "qt5_vjIbqwqK"
   },
   "outputs": [],
   "source": [
    "#Use StellarGraph library to generate the weighted random walk\n",
    "GwS = StellarGraph.from_networkx(Gw)"
   ]
  },
  {
   "cell_type": "code",
   "execution_count": 36,
   "metadata": {
    "id": "QIappo1wtt3w"
   },
   "outputs": [],
   "source": [
    "rw = BiasedRandomWalk(GwS)"
   ]
  },
  {
   "cell_type": "code",
   "execution_count": 37,
   "metadata": {
    "id": "J6HMSEpUtvtd"
   },
   "outputs": [
    {
     "ename": "KeyboardInterrupt",
     "evalue": "",
     "output_type": "error",
     "traceback": [
      "\u001b[1;31m---------------------------------------------------------------------------\u001b[0m",
      "\u001b[1;31mKeyboardInterrupt\u001b[0m                         Traceback (most recent call last)",
      "Input \u001b[1;32mIn [37]\u001b[0m, in \u001b[0;36m<cell line: 1>\u001b[1;34m()\u001b[0m\n\u001b[1;32m----> 1\u001b[0m weighted_walks \u001b[38;5;241m=\u001b[39m \u001b[43mrw\u001b[49m\u001b[38;5;241;43m.\u001b[39;49m\u001b[43mrun\u001b[49m\u001b[43m(\u001b[49m\n\u001b[0;32m      2\u001b[0m \u001b[43m        \u001b[49m\u001b[43mnodes\u001b[49m\u001b[38;5;241;43m=\u001b[39;49m\u001b[43mG\u001b[49m\u001b[38;5;241;43m.\u001b[39;49m\u001b[43mnodes\u001b[49m\u001b[43m(\u001b[49m\u001b[43m)\u001b[49m\u001b[43m,\u001b[49m\u001b[43m \u001b[49m\n\u001b[0;32m      3\u001b[0m \u001b[43m        \u001b[49m\u001b[43mlength\u001b[49m\u001b[38;5;241;43m=\u001b[39;49m\u001b[38;5;241;43m100\u001b[39;49m\u001b[43m,\u001b[49m\u001b[43m    \u001b[49m\u001b[38;5;66;43;03m# maximum length of a random walk\u001b[39;49;00m\n\u001b[0;32m      4\u001b[0m \u001b[43m        \u001b[49m\u001b[43mn\u001b[49m\u001b[38;5;241;43m=\u001b[39;49m\u001b[38;5;241;43m10\u001b[39;49m\u001b[43m,\u001b[49m\u001b[43m          \u001b[49m\u001b[38;5;66;43;03m# number of random walks per root node\u001b[39;49;00m\n\u001b[0;32m      5\u001b[0m \u001b[43m        \u001b[49m\u001b[43mp\u001b[49m\u001b[38;5;241;43m=\u001b[39;49m\u001b[38;5;241;43m1\u001b[39;49m\u001b[43m,\u001b[49m\u001b[43m         \u001b[49m\u001b[38;5;66;43;03m# Defines (unormalised) probability, 1/p, of returning to source node\u001b[39;49;00m\n\u001b[0;32m      6\u001b[0m \u001b[43m        \u001b[49m\u001b[43mq\u001b[49m\u001b[38;5;241;43m=\u001b[39;49m\u001b[38;5;241;43m100\u001b[39;49m\u001b[43m,\u001b[49m\u001b[43m         \u001b[49m\u001b[38;5;66;43;03m# Defines (unormalised) probability, 1/q, for moving away from source node\u001b[39;49;00m\n\u001b[0;32m      7\u001b[0m \u001b[43m        \u001b[49m\u001b[43mweighted\u001b[49m\u001b[38;5;241;43m=\u001b[39;49m\u001b[38;5;28;43;01mTrue\u001b[39;49;00m\u001b[43m,\u001b[49m\u001b[43m \u001b[49m\u001b[38;5;66;43;03m#for weighted random walks\u001b[39;49;00m\n\u001b[0;32m      8\u001b[0m \u001b[43m        \u001b[49m\u001b[43mseed\u001b[49m\u001b[38;5;241;43m=\u001b[39;49m\u001b[38;5;241;43m42\u001b[39;49m\u001b[43m        \u001b[49m\u001b[38;5;66;43;03m# random seed fixed for reproducibility\u001b[39;49;00m\n\u001b[0;32m      9\u001b[0m \u001b[43m    \u001b[49m\u001b[43m)\u001b[49m\n",
      "File \u001b[1;32m~\\anaconda3\\envs\\KAIST study\\lib\\site-packages\\stellargraph\\data\\explorer.py:500\u001b[0m, in \u001b[0;36mBiasedRandomWalk.run\u001b[1;34m(self, nodes, n, length, p, q, seed, weighted)\u001b[0m\n\u001b[0;32m    498\u001b[0m mask \u001b[38;5;241m=\u001b[39m neighbours \u001b[38;5;241m==\u001b[39m previous_node\n\u001b[0;32m    499\u001b[0m weights[mask] \u001b[38;5;241m*\u001b[39m\u001b[38;5;241m=\u001b[39m ip\n\u001b[1;32m--> 500\u001b[0m mask \u001b[38;5;241m|\u001b[39m\u001b[38;5;241m=\u001b[39m \u001b[43mnp\u001b[49m\u001b[38;5;241;43m.\u001b[39;49m\u001b[43misin\u001b[49m\u001b[43m(\u001b[49m\u001b[43mneighbours\u001b[49m\u001b[43m,\u001b[49m\u001b[43m \u001b[49m\u001b[43mprevious_node_neighbours\u001b[49m\u001b[43m)\u001b[49m\n\u001b[0;32m    501\u001b[0m weights[\u001b[38;5;241m~\u001b[39mmask] \u001b[38;5;241m*\u001b[39m\u001b[38;5;241m=\u001b[39m iq\n\u001b[0;32m    503\u001b[0m choice \u001b[38;5;241m=\u001b[39m naive_weighted_choices(rs, weights)\n",
      "File \u001b[1;32m<__array_function__ internals>:5\u001b[0m, in \u001b[0;36misin\u001b[1;34m(*args, **kwargs)\u001b[0m\n",
      "File \u001b[1;32m~\\anaconda3\\envs\\KAIST study\\lib\\site-packages\\numpy\\lib\\arraysetops.py:735\u001b[0m, in \u001b[0;36misin\u001b[1;34m(element, test_elements, assume_unique, invert)\u001b[0m\n\u001b[0;32m    642\u001b[0m \u001b[38;5;124;03m\"\"\"\u001b[39;00m\n\u001b[0;32m    643\u001b[0m \u001b[38;5;124;03mCalculates `element in test_elements`, broadcasting over `element` only.\u001b[39;00m\n\u001b[0;32m    644\u001b[0m \u001b[38;5;124;03mReturns a boolean array of the same shape as `element` that is True\u001b[39;00m\n\u001b[1;32m   (...)\u001b[0m\n\u001b[0;32m    732\u001b[0m \u001b[38;5;124;03m       [ True, False]])\u001b[39;00m\n\u001b[0;32m    733\u001b[0m \u001b[38;5;124;03m\"\"\"\u001b[39;00m\n\u001b[0;32m    734\u001b[0m element \u001b[38;5;241m=\u001b[39m np\u001b[38;5;241m.\u001b[39masarray(element)\n\u001b[1;32m--> 735\u001b[0m \u001b[38;5;28;01mreturn\u001b[39;00m \u001b[43min1d\u001b[49m\u001b[43m(\u001b[49m\u001b[43melement\u001b[49m\u001b[43m,\u001b[49m\u001b[43m \u001b[49m\u001b[43mtest_elements\u001b[49m\u001b[43m,\u001b[49m\u001b[43m \u001b[49m\u001b[43massume_unique\u001b[49m\u001b[38;5;241;43m=\u001b[39;49m\u001b[43massume_unique\u001b[49m\u001b[43m,\u001b[49m\n\u001b[0;32m    736\u001b[0m \u001b[43m            \u001b[49m\u001b[43minvert\u001b[49m\u001b[38;5;241;43m=\u001b[39;49m\u001b[43minvert\u001b[49m\u001b[43m)\u001b[49m\u001b[38;5;241m.\u001b[39mreshape(element\u001b[38;5;241m.\u001b[39mshape)\n",
      "File \u001b[1;32m<__array_function__ internals>:5\u001b[0m, in \u001b[0;36min1d\u001b[1;34m(*args, **kwargs)\u001b[0m\n",
      "File \u001b[1;32m~\\anaconda3\\envs\\KAIST study\\lib\\site-packages\\numpy\\lib\\arraysetops.py:613\u001b[0m, in \u001b[0;36min1d\u001b[1;34m(ar1, ar2, assume_unique, invert)\u001b[0m\n\u001b[0;32m    611\u001b[0m \u001b[38;5;66;03m# Otherwise use sorting\u001b[39;00m\n\u001b[0;32m    612\u001b[0m \u001b[38;5;28;01mif\u001b[39;00m \u001b[38;5;129;01mnot\u001b[39;00m assume_unique:\n\u001b[1;32m--> 613\u001b[0m     ar1, rev_idx \u001b[38;5;241m=\u001b[39m \u001b[43mnp\u001b[49m\u001b[38;5;241;43m.\u001b[39;49m\u001b[43munique\u001b[49m\u001b[43m(\u001b[49m\u001b[43mar1\u001b[49m\u001b[43m,\u001b[49m\u001b[43m \u001b[49m\u001b[43mreturn_inverse\u001b[49m\u001b[38;5;241;43m=\u001b[39;49m\u001b[38;5;28;43;01mTrue\u001b[39;49;00m\u001b[43m)\u001b[49m\n\u001b[0;32m    614\u001b[0m     ar2 \u001b[38;5;241m=\u001b[39m np\u001b[38;5;241m.\u001b[39munique(ar2)\n\u001b[0;32m    616\u001b[0m ar \u001b[38;5;241m=\u001b[39m np\u001b[38;5;241m.\u001b[39mconcatenate((ar1, ar2))\n",
      "File \u001b[1;32m<__array_function__ internals>:5\u001b[0m, in \u001b[0;36munique\u001b[1;34m(*args, **kwargs)\u001b[0m\n",
      "File \u001b[1;32m~\\anaconda3\\envs\\KAIST study\\lib\\site-packages\\numpy\\lib\\arraysetops.py:272\u001b[0m, in \u001b[0;36munique\u001b[1;34m(ar, return_index, return_inverse, return_counts, axis)\u001b[0m\n\u001b[0;32m    270\u001b[0m ar \u001b[38;5;241m=\u001b[39m np\u001b[38;5;241m.\u001b[39masanyarray(ar)\n\u001b[0;32m    271\u001b[0m \u001b[38;5;28;01mif\u001b[39;00m axis \u001b[38;5;129;01mis\u001b[39;00m \u001b[38;5;28;01mNone\u001b[39;00m:\n\u001b[1;32m--> 272\u001b[0m     ret \u001b[38;5;241m=\u001b[39m \u001b[43m_unique1d\u001b[49m\u001b[43m(\u001b[49m\u001b[43mar\u001b[49m\u001b[43m,\u001b[49m\u001b[43m \u001b[49m\u001b[43mreturn_index\u001b[49m\u001b[43m,\u001b[49m\u001b[43m \u001b[49m\u001b[43mreturn_inverse\u001b[49m\u001b[43m,\u001b[49m\u001b[43m \u001b[49m\u001b[43mreturn_counts\u001b[49m\u001b[43m)\u001b[49m\n\u001b[0;32m    273\u001b[0m     \u001b[38;5;28;01mreturn\u001b[39;00m _unpack_tuple(ret)\n\u001b[0;32m    275\u001b[0m \u001b[38;5;66;03m# axis was specified and not None\u001b[39;00m\n",
      "File \u001b[1;32m~\\anaconda3\\envs\\KAIST study\\lib\\site-packages\\numpy\\lib\\arraysetops.py:354\u001b[0m, in \u001b[0;36m_unique1d\u001b[1;34m(ar, return_index, return_inverse, return_counts)\u001b[0m\n\u001b[0;32m    352\u001b[0m     ret \u001b[38;5;241m+\u001b[39m\u001b[38;5;241m=\u001b[39m (perm[mask],)\n\u001b[0;32m    353\u001b[0m \u001b[38;5;28;01mif\u001b[39;00m return_inverse:\n\u001b[1;32m--> 354\u001b[0m     imask \u001b[38;5;241m=\u001b[39m \u001b[43mnp\u001b[49m\u001b[38;5;241;43m.\u001b[39;49m\u001b[43mcumsum\u001b[49m\u001b[43m(\u001b[49m\u001b[43mmask\u001b[49m\u001b[43m)\u001b[49m \u001b[38;5;241m-\u001b[39m \u001b[38;5;241m1\u001b[39m\n\u001b[0;32m    355\u001b[0m     inv_idx \u001b[38;5;241m=\u001b[39m np\u001b[38;5;241m.\u001b[39mempty(mask\u001b[38;5;241m.\u001b[39mshape, dtype\u001b[38;5;241m=\u001b[39mnp\u001b[38;5;241m.\u001b[39mintp)\n\u001b[0;32m    356\u001b[0m     inv_idx[perm] \u001b[38;5;241m=\u001b[39m imask\n",
      "File \u001b[1;32m<__array_function__ internals>:5\u001b[0m, in \u001b[0;36mcumsum\u001b[1;34m(*args, **kwargs)\u001b[0m\n",
      "File \u001b[1;32m~\\anaconda3\\envs\\KAIST study\\lib\\site-packages\\numpy\\core\\fromnumeric.py:2532\u001b[0m, in \u001b[0;36mcumsum\u001b[1;34m(a, axis, dtype, out)\u001b[0m\n\u001b[0;32m   2458\u001b[0m \u001b[38;5;129m@array_function_dispatch\u001b[39m(_cumsum_dispatcher)\n\u001b[0;32m   2459\u001b[0m \u001b[38;5;28;01mdef\u001b[39;00m \u001b[38;5;21mcumsum\u001b[39m(a, axis\u001b[38;5;241m=\u001b[39m\u001b[38;5;28;01mNone\u001b[39;00m, dtype\u001b[38;5;241m=\u001b[39m\u001b[38;5;28;01mNone\u001b[39;00m, out\u001b[38;5;241m=\u001b[39m\u001b[38;5;28;01mNone\u001b[39;00m):\n\u001b[0;32m   2460\u001b[0m     \u001b[38;5;124;03m\"\"\"\u001b[39;00m\n\u001b[0;32m   2461\u001b[0m \u001b[38;5;124;03m    Return the cumulative sum of the elements along a given axis.\u001b[39;00m\n\u001b[0;32m   2462\u001b[0m \n\u001b[1;32m   (...)\u001b[0m\n\u001b[0;32m   2530\u001b[0m \n\u001b[0;32m   2531\u001b[0m \u001b[38;5;124;03m    \"\"\"\u001b[39;00m\n\u001b[1;32m-> 2532\u001b[0m     \u001b[38;5;28;01mreturn\u001b[39;00m \u001b[43m_wrapfunc\u001b[49m\u001b[43m(\u001b[49m\u001b[43ma\u001b[49m\u001b[43m,\u001b[49m\u001b[43m \u001b[49m\u001b[38;5;124;43m'\u001b[39;49m\u001b[38;5;124;43mcumsum\u001b[39;49m\u001b[38;5;124;43m'\u001b[39;49m\u001b[43m,\u001b[49m\u001b[43m \u001b[49m\u001b[43maxis\u001b[49m\u001b[38;5;241;43m=\u001b[39;49m\u001b[43maxis\u001b[49m\u001b[43m,\u001b[49m\u001b[43m \u001b[49m\u001b[43mdtype\u001b[49m\u001b[38;5;241;43m=\u001b[39;49m\u001b[43mdtype\u001b[49m\u001b[43m,\u001b[49m\u001b[43m \u001b[49m\u001b[43mout\u001b[49m\u001b[38;5;241;43m=\u001b[39;49m\u001b[43mout\u001b[49m\u001b[43m)\u001b[49m\n",
      "File \u001b[1;32m~\\anaconda3\\envs\\KAIST study\\lib\\site-packages\\numpy\\core\\fromnumeric.py:57\u001b[0m, in \u001b[0;36m_wrapfunc\u001b[1;34m(obj, method, *args, **kwds)\u001b[0m\n\u001b[0;32m     54\u001b[0m     \u001b[38;5;28;01mreturn\u001b[39;00m _wrapit(obj, method, \u001b[38;5;241m*\u001b[39margs, \u001b[38;5;241m*\u001b[39m\u001b[38;5;241m*\u001b[39mkwds)\n\u001b[0;32m     56\u001b[0m \u001b[38;5;28;01mtry\u001b[39;00m:\n\u001b[1;32m---> 57\u001b[0m     \u001b[38;5;28;01mreturn\u001b[39;00m \u001b[43mbound\u001b[49m\u001b[43m(\u001b[49m\u001b[38;5;241;43m*\u001b[39;49m\u001b[43margs\u001b[49m\u001b[43m,\u001b[49m\u001b[43m \u001b[49m\u001b[38;5;241;43m*\u001b[39;49m\u001b[38;5;241;43m*\u001b[39;49m\u001b[43mkwds\u001b[49m\u001b[43m)\u001b[49m\n\u001b[0;32m     58\u001b[0m \u001b[38;5;28;01mexcept\u001b[39;00m \u001b[38;5;167;01mTypeError\u001b[39;00m:\n\u001b[0;32m     59\u001b[0m     \u001b[38;5;66;03m# A TypeError occurs if the object does have such a method in its\u001b[39;00m\n\u001b[0;32m     60\u001b[0m     \u001b[38;5;66;03m# class, but its signature is not identical to that of NumPy's. This\u001b[39;00m\n\u001b[1;32m   (...)\u001b[0m\n\u001b[0;32m     64\u001b[0m     \u001b[38;5;66;03m# Call _wrapit from within the except clause to ensure a potential\u001b[39;00m\n\u001b[0;32m     65\u001b[0m     \u001b[38;5;66;03m# exception has a traceback chain.\u001b[39;00m\n\u001b[0;32m     66\u001b[0m     \u001b[38;5;28;01mreturn\u001b[39;00m _wrapit(obj, method, \u001b[38;5;241m*\u001b[39margs, \u001b[38;5;241m*\u001b[39m\u001b[38;5;241m*\u001b[39mkwds)\n",
      "\u001b[1;31mKeyboardInterrupt\u001b[0m: "
     ]
    }
   ],
   "source": [
    "weighted_walks = rw.run(\n",
    "        nodes=G.nodes(), \n",
    "        length=100,    # maximum length of a random walk\n",
    "        n=10,          # number of random walks per root node\n",
    "        p=1,         # Defines (unormalised) probability, 1/p, of returning to source node\n",
    "        q=100,         # Defines (unormalised) probability, 1/q, for moving away from source node\n",
    "        weighted=True, #for weighted random walks\n",
    "        seed=42        # random seed fixed for reproducibility\n",
    "    )"
   ]
  },
  {
   "cell_type": "code",
   "execution_count": null,
   "metadata": {
    "id": "dao-W8Tst5RN"
   },
   "outputs": [],
   "source": [
    "str(weighted_walks[1])"
   ]
  },
  {
   "cell_type": "code",
   "execution_count": null,
   "metadata": {
    "id": "g6IBOQ_11Tyb"
   },
   "outputs": [],
   "source": [
    "#Save the random walk\n",
    "with open('NodeRandomWalkp1q100.csv','w', newline='') as fh:\n",
    "    writer = csv.writer(fh, delimiter=',')\n",
    "    for i in range(len(G.nodes())):\n",
    "        for y in range(10):\n",
    "            writer.writerow([str(GwS.nodes()[i]), weighted_walks[i*10+y]])"
   ]
  },
  {
   "cell_type": "code",
   "execution_count": 28,
   "metadata": {
    "id": "oM_uK7zbuKYD"
   },
   "outputs": [],
   "source": [
    "#Import random walk\n",
    "import ast\n",
    "rp1q10 = pd.read_fwf('RW/WRandomWalkp1q2.csv', header=None, delimiter= \" \")\n",
    "\n",
    "rp1q10_list = []\n",
    "for index, value in rp1q10.iterrows():\n",
    "    t = False\n",
    "    s = \"\"\n",
    "    for i in value[0]:\n",
    "        if i == \"[\":\n",
    "            t = True\n",
    "        if i == '\"' and t:\n",
    "            t = False\n",
    "        if t:\n",
    "            s+=i\n",
    "    if s[len(s)-1] != \"]\":\n",
    "        s+=\"]\"\n",
    "    rp1q10_list.append(ast.literal_eval(s)) \n",
    "  "
   ]
  },
  {
   "cell_type": "code",
   "execution_count": 29,
   "metadata": {
    "colab": {
     "base_uri": "https://localhost:8080/",
     "height": 222
    },
    "id": "r-d8zrdj3eSF",
    "outputId": "324d41b4-247c-44de-b597-60a5adb0f0f0"
   },
   "outputs": [],
   "source": [
    "from gensim.test.utils import common_texts\n",
    "from gensim.models import Word2Vec\n",
    "\n",
    "embNod2V = Word2Vec(sentences=rp1q10_list, vector_size=64, window=3, min_count=0, sg=1, workers=1, epochs=1)"
   ]
  },
  {
   "cell_type": "code",
   "execution_count": 30,
   "metadata": {},
   "outputs": [
    {
     "data": {
      "text/plain": [
       "5865"
      ]
     },
     "execution_count": 30,
     "metadata": {},
     "output_type": "execute_result"
    }
   ],
   "source": [
    "len(embNod2V.wv)"
   ]
  },
  {
   "cell_type": "code",
   "execution_count": 51,
   "metadata": {
    "colab": {
     "base_uri": "https://localhost:8080/",
     "height": 240
    },
    "id": "6otuKd324Z96",
    "outputId": "e81eed36-4051-410b-86e8-cb3efc61753b",
    "scrolled": true
   },
   "outputs": [
    {
     "name": "stdout",
     "output_type": "stream",
     "text": [
      "0.9917877 1529\n",
      "min  is most similar to:  tamarind extract\n"
     ]
    }
   ],
   "source": [
    "from numpy import dot\n",
    "from numpy.linalg import norm\n",
    "m=0\n",
    "test = 6000\n",
    "for i in Gw.nodes():\n",
    "    if i != test:\n",
    "        a = embNod2V.wv[test]\n",
    "        b = embNod2V.wv[i]\n",
    "        cos_sim = dot(a, b)/(norm(a)*norm(b))\n",
    "        if cos_sim > m:\n",
    "            vm = i\n",
    "            m = cos_sim\n",
    "print(m,vm)\n",
    "print(idToNode[test],\" is most similar to: \",idToNode[vm])"
   ]
  },
  {
   "cell_type": "code",
   "execution_count": 52,
   "metadata": {},
   "outputs": [],
   "source": [
    "fh = open('Embedding/Embp1q100.csv','w')\n",
    "writer = csv.writer(fh)\n",
    "for i in Gw.nodes():\n",
    "    writer.writerow([i,embNod2V.wv[i]])\n",
    "fh.close()"
   ]
  },
  {
   "cell_type": "markdown",
   "metadata": {},
   "source": [
    "Second embedding method (not weighted)"
   ]
  },
  {
   "cell_type": "code",
   "execution_count": 70,
   "metadata": {},
   "outputs": [],
   "source": [
    "from sklearn.decomposition import  TruncatedSVD\n",
    "\n",
    "A = nx.adjacency_matrix(G) \n",
    "\n",
    "svd = TruncatedSVD(n_components=128)\n",
    "X = svd.fit_transform(A);"
   ]
  },
  {
   "cell_type": "markdown",
   "metadata": {},
   "source": [
    "Save different embedding size (You can find 32-64-128 in /embedding)"
   ]
  },
  {
   "cell_type": "code",
   "execution_count": 71,
   "metadata": {},
   "outputs": [],
   "source": [
    "import csv\n",
    "\n",
    "fh = open('Embedding/SVD128.csv','w')\n",
    "writer = csv.writer(fh)\n",
    "\n",
    "y = 0\n",
    "for i in G.nodes():\n",
    "    writer.writerow([i,X[y]]) \n",
    "    y += 1\n",
    "    \n",
    "fh.close()"
   ]
  },
  {
   "cell_type": "code",
   "execution_count": 74,
   "metadata": {},
   "outputs": [
    {
     "name": "stdout",
     "output_type": "stream",
     "text": [
      "0.8458904945495505 264\n",
      "black olives  is most similar to:  olives\n"
     ]
    }
   ],
   "source": [
    "test = 6\n",
    "m = 0\n",
    "\n",
    "for i in range(5860):\n",
    "    if i != test:\n",
    "        a = X[test]\n",
    "        b = X[i]\n",
    "        cos_sim = dot(a, b)/(norm(a)*norm(b))\n",
    "        if cos_sim > m:\n",
    "            vm = i\n",
    "            m = cos_sim\n",
    "print(m,vm)\n",
    "print(idToNode[list(G.nodes())[test]],\" is most similar to: \",idToNode[list(G.nodes())[vm]])"
   ]
  },
  {
   "cell_type": "code",
   "execution_count": null,
   "metadata": {},
   "outputs": [],
   "source": []
  }
 ],
 "metadata": {
  "colab": {
   "collapsed_sections": [],
   "name": "Projet.ipynb",
   "provenance": []
  },
  "kernelspec": {
   "display_name": "Python 3 (ipykernel)",
   "language": "python",
   "name": "python3"
  },
  "language_info": {
   "codemirror_mode": {
    "name": "ipython",
    "version": 3
   },
   "file_extension": ".py",
   "mimetype": "text/x-python",
   "name": "python",
   "nbconvert_exporter": "python",
   "pygments_lexer": "ipython3",
   "version": "3.8.12"
  }
 },
 "nbformat": 4,
 "nbformat_minor": 1
}
