{
 "cells": [
  {
   "cell_type": "code",
   "execution_count": 1,
   "id": "1a81aa4b",
   "metadata": {},
   "outputs": [],
   "source": [
    "import pandas as pd\n",
    "import numpy as np\n",
    "import re\n",
    "from csv import reader\n",
    "from sklearn.linear_model import LogisticRegression"
   ]
  },
  {
   "cell_type": "code",
   "execution_count": 2,
   "id": "f4c8f92c",
   "metadata": {},
   "outputs": [
    {
     "data": {
      "text/plain": [
       "{'ingredients': [2866, 4243, 4362, 5377, 5408, 6187, 6352, 6568],\n",
       " 'kitchen_name': 'italian',\n",
       " 'recipe_id': 15}"
      ]
     },
     "execution_count": 2,
     "metadata": {},
     "output_type": "execute_result"
    }
   ],
   "source": [
    "cookbook_train = []\n",
    "\n",
    "with open('train.csv', 'r') as file:\n",
    "\n",
    "    csv_reader = reader(file, delimiter=\",\")\n",
    "\n",
    "    for i, row in enumerate(csv_reader):\n",
    "        \n",
    "        kitchen = row[-1]\n",
    "        ingredient_strings = row[1:-1]\n",
    "        ingredients = [ int(s) for s in ingredient_strings ]\n",
    "        \n",
    "        cookbook_train.append({\n",
    "            'ingredients': ingredients,\n",
    "            'kitchen_name': kitchen,\n",
    "            'recipe_id': i\n",
    "        })      \n",
    "        \n",
    "cookbook_train[15]"
   ]
  },
  {
   "cell_type": "code",
   "execution_count": 3,
   "id": "8e760a39",
   "metadata": {},
   "outputs": [
    {
     "data": {
      "text/plain": [
       "{'ingredients': [909, 1046, 1308, 1679, 2809, 3152, 3653, 4162, 4799, 4917],\n",
       " 'recipe_id': 15,\n",
       " 'kitchen_name': 'UNKNOWNKITCHEN'}"
      ]
     },
     "execution_count": 3,
     "metadata": {},
     "output_type": "execute_result"
    }
   ],
   "source": [
    "cookbook_valid_question = []\n",
    "\n",
    "with open('validation_classification_question.csv', 'r') as file:\n",
    "\n",
    "    csv_reader = reader(file, delimiter=\",\")\n",
    "\n",
    "    for i, row in enumerate(csv_reader):\n",
    "        ingredients = [ int(s) for s in row ]\n",
    "        cookbook_valid_question.append({\n",
    "            'ingredients': ingredients,\n",
    "            'recipe_id': i,\n",
    "            'kitchen_name': \"UNKNOWNKITCHEN\"\n",
    "        })     \n",
    "\n",
    "cookbook_valid_question[15]"
   ]
  },
  {
   "cell_type": "code",
   "execution_count": 4,
   "id": "a0992038",
   "metadata": {},
   "outputs": [
    {
     "data": {
      "text/plain": [
       "{'ingredients': [], 'kitchen_name': 'southern_us', 'recipe_id': 15}"
      ]
     },
     "execution_count": 4,
     "metadata": {},
     "output_type": "execute_result"
    }
   ],
   "source": [
    "cookbook_valid_answer = []\n",
    "        \n",
    "with open('validation_classification_answer.csv', 'r') as file:\n",
    "\n",
    "    csv_reader = reader(file, delimiter=\",\")\n",
    "\n",
    "    for i, row in enumerate(csv_reader):        \n",
    "        kitchen = row[0]        \n",
    "        cookbook_valid_answer.append({\n",
    "            'ingredients': [],\n",
    "            'kitchen_name': kitchen,\n",
    "            'recipe_id': i\n",
    "        })\n",
    "        \n",
    "cookbook_valid_answer[15]"
   ]
  },
  {
   "cell_type": "code",
   "execution_count": 5,
   "id": "8725eba4",
   "metadata": {},
   "outputs": [],
   "source": [
    "# Make ingredient list\n",
    "\n",
    "node_ingredient = pd.read_fwf('node_ingredient.csv', header=None)\n",
    "ingredient_list = {}\n",
    "for index , row in node_ingredient.iterrows():\n",
    "    ingredient_list[index] = row[0]"
   ]
  },
  {
   "cell_type": "code",
   "execution_count": 6,
   "id": "56c32e07",
   "metadata": {},
   "outputs": [
    {
     "name": "stderr",
     "output_type": "stream",
     "text": [
      "IOPub data rate exceeded.\n",
      "The notebook server will temporarily stop sending output\n",
      "to the client in order to avoid crashing it.\n",
      "To change this limit, set the config variable\n",
      "`--NotebookApp.iopub_data_rate_limit`.\n",
      "\n",
      "Current values:\n",
      "NotebookApp.iopub_data_rate_limit=1000000.0 (bytes/sec)\n",
      "NotebookApp.rate_limit_window=3.0 (secs)\n",
      "\n"
     ]
    }
   ],
   "source": [
    "# Make kitchen list\n",
    "\n",
    "kitchens = []\n",
    "cookbook_full = cookbook_train + cookbook_valid_question + cookbook_valid_answer\n",
    "for recipe in cookbook_full:\n",
    "    print(recipe)\n",
    "    if recipe['kitchen_name'] not in kitchens:\n",
    "        kitchens.append(recipe['kitchen_name'])\n",
    "\n",
    "kitchen_list = { index:kitchen_name for index, kitchen_name in enumerate(kitchens)  }"
   ]
  },
  {
   "cell_type": "code",
   "execution_count": 7,
   "id": "89930a4b",
   "metadata": {},
   "outputs": [
    {
     "data": {
      "text/plain": [
       "{'ingredients': [2866, 4243, 4362, 5377, 5408, 6187, 6352, 6568],\n",
       " 'kitchen_name': 'italian',\n",
       " 'recipe_id': 15,\n",
       " 'kitchen_id': 5}"
      ]
     },
     "execution_count": 7,
     "metadata": {},
     "output_type": "execute_result"
    }
   ],
   "source": [
    "def add_kitchen_id_to_cookbook(kitchen_list, cookbook):   \n",
    "\n",
    "    for recipe in cookbook:\n",
    "        kitchen_id = kitchens.index(recipe['kitchen_name'])\n",
    "        recipe['kitchen_id'] = kitchen_id\n",
    "\n",
    "        \n",
    "add_kitchen_id_to_cookbook(kitchen_list, cookbook_train)\n",
    "add_kitchen_id_to_cookbook(kitchen_list, cookbook_valid_question)\n",
    "add_kitchen_id_to_cookbook(kitchen_list, cookbook_valid_answer)\n",
    "cookbook_train[15]"
   ]
  },
  {
   "cell_type": "code",
   "execution_count": 8,
   "id": "0bac9b8f",
   "metadata": {},
   "outputs": [],
   "source": [
    "# Import the embedding\n",
    "df = pd.read_csv('Embedding/Embp1q2.csv', delimiter=\",\")"
   ]
  },
  {
   "cell_type": "code",
   "execution_count": 9,
   "id": "3b54bced",
   "metadata": {},
   "outputs": [
    {
     "data": {
      "text/plain": [
       "array([ 0.20561211, -0.23588583,  0.28525352,  0.18780349,  0.06065833,\n",
       "       -0.39907852, -0.01796227, -0.11046874, -0.5681695 , -0.06789849,\n",
       "        0.2828858 , -0.44968304, -0.12082586, -0.2529383 ,  0.3063318 ,\n",
       "        0.39635187, -0.16872615, -0.18257272,  0.04451386,  0.19073167,\n",
       "        0.32635474,  0.44178614,  0.3493576 , -0.17027283, -0.20612109,\n",
       "        0.2922662 , -0.18655235,  0.12261377,  0.10712708, -0.3737765 ,\n",
       "       -0.23305595,  0.35114026, -0.11983725, -0.44269526, -0.08014395,\n",
       "        0.0641107 ,  0.02052055, -0.04574165,  0.2765586 ,  0.08460651,\n",
       "       -0.06599417,  0.14313757, -0.08939448, -0.2841781 ,  0.30076197,\n",
       "       -0.20119154, -0.04180305, -0.33311573,  0.06491397,  0.4866584 ,\n",
       "        0.07972738,  0.14844902,  0.3157956 ,  0.38712576,  0.44291887,\n",
       "        0.10612391, -0.18014635, -0.22282842, -0.46312287,  0.26253107,\n",
       "       -0.19294113,  0.26587847,  0.27891377, -0.12879719])"
      ]
     },
     "execution_count": 9,
     "metadata": {},
     "output_type": "execute_result"
    }
   ],
   "source": [
    "# Create an embedding dictionary from the file\n",
    "embedding = {}\n",
    "for index, row in df.iterrows():\n",
    "    ingredient_id = row[1]\n",
    "    embedding_string = row[2]\n",
    "    embedding_formatted = re.findall(r'[\\d|\\.|e|\\+|\\-]+', embedding_string)\n",
    "    embedding_array = np.asarray(embedding_formatted, dtype=float)\n",
    "    embedding[ingredient_id] = embedding_array\n",
    "    \n",
    "embedding[2813]"
   ]
  },
  {
   "cell_type": "code",
   "execution_count": 10,
   "id": "096c07af",
   "metadata": {},
   "outputs": [],
   "source": [
    "# Give zero vector as embedding for all ingredients not found in the embedding\n",
    "embedding_dim = len(embedding[0])\n",
    "\n",
    "for ingredient in ingredient_list.keys():\n",
    "    if ingredient not in embedding:\n",
    "        embedding[ingredient] = np.zeros(embedding_dim)"
   ]
  },
  {
   "cell_type": "code",
   "execution_count": 16,
   "id": "429e4171",
   "metadata": {},
   "outputs": [],
   "source": [
    "# random embedding, for if you want to see the absolute minimum baseline\n",
    "# for ingredient in embedding.keys():\n",
    "#    embedding[ingredient] = np.random.rand(embedding_dim)"
   ]
  },
  {
   "cell_type": "code",
   "execution_count": 17,
   "id": "d1dd5e1c",
   "metadata": {},
   "outputs": [],
   "source": [
    "def make_data_from_cookbook(cookbook, embedding):\n",
    "    # Make the data. X is a matrix with recipe rows and embedding dimension columns, \n",
    "    # where every row is the average of the embeddings in the recipes\n",
    "\n",
    "    n_recipies = len(cookbook)\n",
    "    embedding_dim = len(embedding[0])\n",
    "\n",
    "    X = np.zeros((n_recipies, embedding_dim))\n",
    "    y = np.zeros(n_recipies)\n",
    "    for idx, recipe in enumerate(cookbook):\n",
    "        embedding_avg = np.zeros(embedding_dim) \n",
    "        ingredient_count = len(recipe['ingredients'])\n",
    "        y[idx] = recipe['kitchen_id']\n",
    "        for ingredient_id in recipe['ingredients']:\n",
    "            embedding_avg += embedding[ingredient_id] / ingredient_count\n",
    "            \n",
    "        X[idx, :] = embedding_avg\n",
    "            \n",
    "    return X,y\n",
    "    "
   ]
  },
  {
   "cell_type": "code",
   "execution_count": 18,
   "id": "e7cb1b6d",
   "metadata": {},
   "outputs": [],
   "source": [
    "X_train, y_train = make_data_from_cookbook(cookbook_train, embedding)\n",
    "X_valid, _       = make_data_from_cookbook(cookbook_valid_question, embedding)\n",
    "_      , y_valid = make_data_from_cookbook(cookbook_valid_answer, embedding)"
   ]
  },
  {
   "cell_type": "code",
   "execution_count": 19,
   "id": "5c879440",
   "metadata": {},
   "outputs": [],
   "source": [
    "# Logistic regression (takes roughly 10 sec on my machine)\n",
    "clf = LogisticRegression(penalty='l2', max_iter=1000).fit(X_train, y_train)"
   ]
  },
  {
   "cell_type": "code",
   "execution_count": 20,
   "id": "a2bd8c8e",
   "metadata": {},
   "outputs": [
    {
     "data": {
      "text/plain": [
       "0.42892937529196923"
      ]
     },
     "execution_count": 20,
     "metadata": {},
     "output_type": "execute_result"
    }
   ],
   "source": [
    "# Training score\n",
    "clf.score(X_train, y_train)"
   ]
  },
  {
   "cell_type": "code",
   "execution_count": 21,
   "id": "0e1a5d97",
   "metadata": {},
   "outputs": [
    {
     "data": {
      "text/plain": [
       "0.41755861365953106"
      ]
     },
     "execution_count": 21,
     "metadata": {},
     "output_type": "execute_result"
    }
   ],
   "source": [
    "# Validation score\n",
    "clf.score(X_valid, y_valid)"
   ]
  },
  {
   "cell_type": "code",
   "execution_count": null,
   "id": "9d6a6bd5",
   "metadata": {},
   "outputs": [],
   "source": []
  }
 ],
 "metadata": {
  "kernelspec": {
   "display_name": "Python 3 (ipykernel)",
   "language": "python",
   "name": "python3"
  },
  "language_info": {
   "codemirror_mode": {
    "name": "ipython",
    "version": 3
   },
   "file_extension": ".py",
   "mimetype": "text/x-python",
   "name": "python",
   "nbconvert_exporter": "python",
   "pygments_lexer": "ipython3",
   "version": "3.8.13"
  }
 },
 "nbformat": 4,
 "nbformat_minor": 5
}
