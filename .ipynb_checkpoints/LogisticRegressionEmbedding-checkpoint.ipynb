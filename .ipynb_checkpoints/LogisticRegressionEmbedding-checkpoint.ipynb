{
 "cells": [
  {
   "cell_type": "code",
   "execution_count": 21,
   "id": "1a81aa4b",
   "metadata": {},
   "outputs": [],
   "source": [
    "import pandas as pd\n",
    "import numpy as np\n",
    "import re\n",
    "from csv import reader\n",
    "from sklearn.linear_model import LogisticRegression"
   ]
  },
  {
   "cell_type": "code",
   "execution_count": 22,
   "id": "f4c8f92c",
   "metadata": {},
   "outputs": [
    {
     "data": {
      "text/plain": [
       "{'ingredients': [2866, 4243, 4362, 5377, 5408, 6187, 6352, 6568],\n",
       " 'kitchen_name': 'italian',\n",
       " 'recipe_id': 15}"
      ]
     },
     "execution_count": 22,
     "metadata": {},
     "output_type": "execute_result"
    }
   ],
   "source": [
    "cookbook_train = []\n",
    "\n",
    "with open('train.csv', 'r') as file:\n",
    "\n",
    "    csv_reader = reader(file, delimiter=\",\")\n",
    "\n",
    "    for i, row in enumerate(csv_reader):\n",
    "        \n",
    "        kitchen = row[-1]\n",
    "        ingredient_strings = row[1:-1]\n",
    "        ingredients = [ int(s) for s in ingredient_strings ]\n",
    "        \n",
    "        cookbook_train.append({\n",
    "            'ingredients': ingredients,\n",
    "            'kitchen_name': kitchen,\n",
    "            'recipe_id': i\n",
    "        })      \n",
    "        \n",
    "cookbook_train[15]"
   ]
  },
  {
   "cell_type": "code",
   "execution_count": 23,
   "id": "8e760a39",
   "metadata": {},
   "outputs": [
    {
     "data": {
      "text/plain": [
       "{'ingredients': [909, 1046, 1308, 1679, 2809, 3152, 3653, 4162, 4799, 4917],\n",
       " 'recipe_id': 15,\n",
       " 'kitchen_name': 'UNKNOWNKITCHEN'}"
      ]
     },
     "execution_count": 23,
     "metadata": {},
     "output_type": "execute_result"
    }
   ],
   "source": [
    "cookbook_valid_question = []\n",
    "\n",
    "with open('validation_classification_question.csv', 'r') as file:\n",
    "\n",
    "    csv_reader = reader(file, delimiter=\",\")\n",
    "\n",
    "    for i, row in enumerate(csv_reader):\n",
    "        ingredients = [ int(s) for s in row ]\n",
    "        cookbook_valid_question.append({\n",
    "            'ingredients': ingredients,\n",
    "            'recipe_id': i,\n",
    "            'kitchen_name': \"UNKNOWNKITCHEN\"\n",
    "        })     \n",
    "\n",
    "cookbook_valid_question[15]"
   ]
  },
  {
   "cell_type": "code",
   "execution_count": 24,
   "id": "a0992038",
   "metadata": {},
   "outputs": [
    {
     "data": {
      "text/plain": [
       "{'ingredients': [], 'kitchen_name': 'southern_us', 'recipe_id': 15}"
      ]
     },
     "execution_count": 24,
     "metadata": {},
     "output_type": "execute_result"
    }
   ],
   "source": [
    "cookbook_valid_answer = []\n",
    "        \n",
    "with open('validation_classification_answer.csv', 'r') as file:\n",
    "\n",
    "    csv_reader = reader(file, delimiter=\",\")\n",
    "\n",
    "    for i, row in enumerate(csv_reader):        \n",
    "        kitchen = row[0]        \n",
    "        cookbook_valid_answer.append({\n",
    "            'ingredients': [],\n",
    "            'kitchen_name': kitchen,\n",
    "            'recipe_id': i\n",
    "        })\n",
    "        \n",
    "cookbook_valid_answer[15]"
   ]
  },
  {
   "cell_type": "code",
   "execution_count": 25,
   "id": "8725eba4",
   "metadata": {},
   "outputs": [],
   "source": [
    "# Make ingredient list\n",
    "\n",
    "node_ingredient = pd.read_fwf('node_ingredient.csv', header=None)\n",
    "ingredient_list = {}\n",
    "for index , row in node_ingredient.iterrows():\n",
    "    ingredient_list[index] = row[0]"
   ]
  },
  {
   "cell_type": "code",
   "execution_count": 26,
   "id": "56c32e07",
   "metadata": {},
   "outputs": [
    {
     "name": "stderr",
     "output_type": "stream",
     "text": [
      "IOPub data rate exceeded.\n",
      "The notebook server will temporarily stop sending output\n",
      "to the client in order to avoid crashing it.\n",
      "To change this limit, set the config variable\n",
      "`--NotebookApp.iopub_data_rate_limit`.\n",
      "\n",
      "Current values:\n",
      "NotebookApp.iopub_data_rate_limit=1000000.0 (bytes/sec)\n",
      "NotebookApp.rate_limit_window=3.0 (secs)\n",
      "\n"
     ]
    }
   ],
   "source": [
    "# Make kitchen list\n",
    "\n",
    "kitchens = []\n",
    "cookbook_full = cookbook_train + cookbook_valid_question + cookbook_valid_answer\n",
    "for recipe in cookbook_full:\n",
    "    print(recipe)\n",
    "    if recipe['kitchen_name'] not in kitchens:\n",
    "        kitchens.append(recipe['kitchen_name'])\n",
    "\n",
    "kitchen_list = { index:kitchen_name for index, kitchen_name in enumerate(kitchens)  }"
   ]
  },
  {
   "cell_type": "code",
   "execution_count": 27,
   "id": "89930a4b",
   "metadata": {},
   "outputs": [
    {
     "data": {
      "text/plain": [
       "{'ingredients': [2866, 4243, 4362, 5377, 5408, 6187, 6352, 6568],\n",
       " 'kitchen_name': 'italian',\n",
       " 'recipe_id': 15,\n",
       " 'kitchen_id': 5}"
      ]
     },
     "execution_count": 27,
     "metadata": {},
     "output_type": "execute_result"
    }
   ],
   "source": [
    "def add_kitchen_id_to_cookbook(kitchen_list, cookbook):   \n",
    "\n",
    "    for recipe in cookbook:\n",
    "        kitchen_id = kitchens.index(recipe['kitchen_name'])\n",
    "        recipe['kitchen_id'] = kitchen_id\n",
    "\n",
    "        \n",
    "add_kitchen_id_to_cookbook(kitchen_list, cookbook_train)\n",
    "add_kitchen_id_to_cookbook(kitchen_list, cookbook_valid_question)\n",
    "add_kitchen_id_to_cookbook(kitchen_list, cookbook_valid_answer)\n",
    "cookbook_train[15]"
   ]
  },
  {
   "cell_type": "code",
   "execution_count": 167,
   "id": "0bac9b8f",
   "metadata": {},
   "outputs": [],
   "source": [
    "# Import the embedding\n",
    "df = pd.read_csv('Embedding/SVD128.csv', delimiter=\",\")"
   ]
  },
  {
   "cell_type": "code",
   "execution_count": 168,
   "id": "3b54bced",
   "metadata": {},
   "outputs": [
    {
     "data": {
      "text/plain": [
       "array([ 3.45249597e+01,  2.02921746e+01, -1.19782364e+00, -1.27103878e+00,\n",
       "        2.47691231e-01,  5.51329427e+00,  8.30972158e+00, -3.15623142e-01,\n",
       "        7.47054519e-02, -8.16607322e-01, -3.26105795e+00,  6.47322445e-01,\n",
       "        1.01522626e+00, -1.34483497e+00,  4.65942814e+00, -2.55788922e+00,\n",
       "        4.09197282e+00,  1.61748307e+00, -1.02612428e+00,  1.10609442e-01,\n",
       "       -1.35513847e+00, -2.03709566e-01,  1.03572702e+00,  8.66335326e-01,\n",
       "        1.13053678e+00, -3.58402071e+00,  1.90364661e+00,  4.35500270e+00,\n",
       "        1.91934968e+00, -3.11331196e+00, -1.84232069e+00,  1.35631867e+00,\n",
       "        3.91788621e+00, -2.31969255e+00,  2.08547498e-01, -1.99538172e+00,\n",
       "        4.70833006e+00,  2.60743389e+00, -1.87653768e+00, -3.41893295e+00,\n",
       "       -4.09679989e+00,  1.99068504e+00, -1.06446620e+00,  3.48641751e+00,\n",
       "       -4.07176382e-01,  1.10113214e+00, -2.36934688e+00, -1.36836605e+00,\n",
       "       -8.77848874e-01,  1.04493155e+00, -2.36000701e+00,  3.58100901e+00,\n",
       "       -9.92826879e-01,  2.48029002e+00,  3.46275567e-01,  3.03941202e+00,\n",
       "       -1.83659822e+00, -3.19071058e+00, -3.79748779e+00, -1.77775999e+00,\n",
       "        4.08145964e-02,  8.05437292e-01, -1.63850256e+00,  9.67273495e-01,\n",
       "        9.52768169e-01,  1.49600767e+00,  2.05775373e-01,  3.44749529e+00,\n",
       "        1.80431407e+00,  2.25405899e+00, -3.41173716e+00,  5.86202075e-01,\n",
       "        1.23824705e+00, -1.69612093e-01,  2.03875305e-01,  9.98560194e-01,\n",
       "        2.18622461e+00, -3.03061405e+00, -1.02757966e+00,  4.53251151e+00,\n",
       "        1.70827454e+00, -1.09982025e+00, -1.69726825e-02, -4.81174020e-01,\n",
       "        9.14701655e-01, -7.12762694e-01, -5.20931660e-01, -7.18796998e-01,\n",
       "        1.46561437e+00,  8.95673533e-01,  9.48996901e-01,  4.71131840e+00,\n",
       "       -2.65354698e+00, -1.02439972e+00,  2.62530301e+00, -2.67291585e-01,\n",
       "        1.14291822e+00,  2.36442832e+00, -6.11024912e-02,  1.38470197e+00,\n",
       "        2.09429548e+00,  5.43718402e-01,  1.41636729e+00,  1.61938187e-01,\n",
       "        1.52802048e-01, -1.38290404e+00,  8.03615245e-01,  1.44734563e+00,\n",
       "       -6.13806542e-01,  1.52426073e+00,  1.56400470e-01, -1.87716594e+00,\n",
       "       -1.92735337e+00, -5.22598420e-02,  6.22992097e-01, -1.46292421e+00,\n",
       "        1.03496000e+00, -1.72406120e-01, -6.09398204e-01,  2.49742158e+00,\n",
       "        7.35929210e-01, -1.61319683e-01, -1.47717068e+00, -1.23228102e+00,\n",
       "        1.24694982e+00, -3.56224340e-01,  1.20575680e+00, -1.63678158e+00])"
      ]
     },
     "execution_count": 168,
     "metadata": {},
     "output_type": "execute_result"
    }
   ],
   "source": [
    "# Create an embedding dictionary from the file\n",
    "embedding = {}\n",
    "for index, row in df.iterrows():\n",
    "    ingredient_id = row[1]\n",
    "    embedding_string = row[2]\n",
    "    embedding_formatted = re.findall(r'[\\d|\\.|e|\\+|\\-]+', embedding_string)\n",
    "    embedding_array = np.asarray(embedding_formatted, dtype=float)\n",
    "    embedding[ingredient_id] = embedding_array\n",
    "    \n",
    "embedding[2813]"
   ]
  },
  {
   "cell_type": "code",
   "execution_count": 169,
   "id": "4dee9f31",
   "metadata": {},
   "outputs": [
    {
     "ename": "KeyError",
     "evalue": "5522",
     "output_type": "error",
     "traceback": [
      "\u001b[1;31m---------------------------------------------------------------------------\u001b[0m",
      "\u001b[1;31mKeyError\u001b[0m                                  Traceback (most recent call last)",
      "Input \u001b[1;32mIn [169]\u001b[0m, in \u001b[0;36m<cell line: 1>\u001b[1;34m()\u001b[0m\n\u001b[1;32m----> 1\u001b[0m \u001b[43membedding\u001b[49m\u001b[43m[\u001b[49m\u001b[38;5;241;43m5522\u001b[39;49m\u001b[43m]\u001b[49m\n",
      "\u001b[1;31mKeyError\u001b[0m: 5522"
     ]
    }
   ],
   "source": [
    "embedding[5522]"
   ]
  },
  {
   "cell_type": "code",
   "execution_count": 170,
   "id": "d1dd5e1c",
   "metadata": {},
   "outputs": [],
   "source": [
    "def make_data_from_cookbook(cookbook, embedding):\n",
    "    # Make the data. X is a matrix with recipe rows and embedding dimension columns, \n",
    "    # where every row is the average of the embeddings in the recipes\n",
    "\n",
    "    n_recipies = len(cookbook)\n",
    "    embedding_dim = len(embedding[0])\n",
    "\n",
    "    X = np.zeros((n_recipies, embedding_dim))\n",
    "    y = np.zeros(n_recipies)\n",
    "    for idx, recipe in enumerate(cookbook):\n",
    "        embedding_avg = np.zeros(embedding_dim) \n",
    "        ingredient_count = len(recipe['ingredients'])\n",
    "        y[idx] = recipe['kitchen_id']\n",
    "        for ingredient_id in recipe['ingredients']:\n",
    "            if ingredient_id in embedding:  # Is wrong, all ingredients should be embedded, but for example 5522 is not.\n",
    "                embedding_avg += embedding[ingredient_id] / ingredient_count\n",
    "            \n",
    "        X[idx, :] = embedding_avg\n",
    "            \n",
    "    return X,y\n",
    "    "
   ]
  },
  {
   "cell_type": "code",
   "execution_count": 171,
   "id": "e7cb1b6d",
   "metadata": {},
   "outputs": [],
   "source": [
    "X_train, y_train = make_data_from_cookbook(cookbook_train, embedding)\n",
    "X_valid, _       = make_data_from_cookbook(cookbook_valid_question, embedding)\n",
    "_      , y_valid = make_data_from_cookbook(cookbook_valid_answer, embedding)"
   ]
  },
  {
   "cell_type": "code",
   "execution_count": 175,
   "id": "5c879440",
   "metadata": {},
   "outputs": [],
   "source": [
    "# Logistic regression (takes roughly 10 sec on my machine)\n",
    "clf = LogisticRegression(penalty='l2', max_iter=1000).fit(X_train, y_train)"
   ]
  },
  {
   "cell_type": "code",
   "execution_count": 176,
   "id": "a2bd8c8e",
   "metadata": {},
   "outputs": [
    {
     "data": {
      "text/plain": [
       "0.7389901048965898"
      ]
     },
     "execution_count": 176,
     "metadata": {},
     "output_type": "execute_result"
    }
   ],
   "source": [
    "# Training score\n",
    "clf.score(X_train, y_train)"
   ]
  },
  {
   "cell_type": "code",
   "execution_count": 177,
   "id": "0e1a5d97",
   "metadata": {},
   "outputs": [
    {
     "data": {
      "text/plain": [
       "0.7245158002038736"
      ]
     },
     "execution_count": 177,
     "metadata": {},
     "output_type": "execute_result"
    }
   ],
   "source": [
    "# Validation score\n",
    "clf.score(X_valid, y_valid)"
   ]
  },
  {
   "cell_type": "code",
   "execution_count": null,
   "id": "9d6a6bd5",
   "metadata": {},
   "outputs": [],
   "source": []
  }
 ],
 "metadata": {
  "kernelspec": {
   "display_name": "Python 3 (ipykernel)",
   "language": "python",
   "name": "python3"
  },
  "language_info": {
   "codemirror_mode": {
    "name": "ipython",
    "version": 3
   },
   "file_extension": ".py",
   "mimetype": "text/x-python",
   "name": "python",
   "nbconvert_exporter": "python",
   "pygments_lexer": "ipython3",
   "version": "3.8.13"
  }
 },
 "nbformat": 4,
 "nbformat_minor": 5
}
